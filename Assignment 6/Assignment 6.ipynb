{
  "nbformat": 4,
  "nbformat_minor": 0,
  "metadata": {
    "colab": {
      "provenance": []
    },
    "kernelspec": {
      "name": "python3",
      "display_name": "Python 3"
    },
    "language_info": {
      "name": "python"
    }
  },
  "cells": [
    {
      "cell_type": "markdown",
      "source": [
        "![image](https://user-images.githubusercontent.com/57321948/196933065-4b16c235-f3b9-4391-9cfe-4affcec87c35.png)\n",
        "\n",
        "\n",
        "# Name: **Mohammad Wasiq**\n",
        "## Email: **mohammadwasiq0786@gmail.com**\n",
        "### Assignment 6"
      ],
      "metadata": {
        "id": "U-um9vID2sir"
      }
    },
    {
      "cell_type": "markdown",
      "source": [
        "# 1. Write a python script to check whether a given number is positive or non-positive\n",
        "\n"
      ],
      "metadata": {
        "id": "dp_EaM1bAmcl"
      }
    },
    {
      "cell_type": "code",
      "source": [
        "num= int(input(\"Enter a number : \"))\n",
        "if num>0:\n",
        "    print(num,\" is a positive number \")\n",
        "else:\n",
        "    print(num,\" is a non-positive number \")"
      ],
      "metadata": {
        "colab": {
          "base_uri": "https://localhost:8080/"
        },
        "id": "NSagNhNmAXwh",
        "outputId": "dba04942-a85f-453e-d0f9-e63da0ba33ac"
      },
      "execution_count": 22,
      "outputs": [
        {
          "output_type": "stream",
          "name": "stdout",
          "text": [
            "Enter a number : 12\n",
            "12  is a positive number \n"
          ]
        }
      ]
    },
    {
      "cell_type": "markdown",
      "source": [
        "# 2. Write a python script to check whether a given number is divisible by 5 or not\n",
        "\n",
        "```python\n",
        "num=int(input(\"Enter a number :\"))\n",
        "if num%5==0:\n",
        "  print(num,\" is divisible by 5\")\n",
        "else:\n",
        "  print(num,\" is not divisible by 5\")\n",
        "```\n",
        "\n",
        "\n"
      ],
      "metadata": {
        "id": "1b-c_zzFAnRI"
      }
    },
    {
      "cell_type": "code",
      "source": [
        "print(\"Number is divisible by 5 \" if int(input(\"Enter a number : \"))%5==0 else \"Number is not divisible by 5\")"
      ],
      "metadata": {
        "colab": {
          "base_uri": "https://localhost:8080/"
        },
        "id": "0TJ5yx67Andz",
        "outputId": "9979d24d-e975-416d-c994-427ab729a0db"
      },
      "execution_count": 23,
      "outputs": [
        {
          "output_type": "stream",
          "name": "stdout",
          "text": [
            "Enter a number : 12\n",
            "Number is not divisible by 5\n"
          ]
        }
      ]
    },
    {
      "cell_type": "markdown",
      "source": [
        "# 3. Write a python script to check whether a given number is even or odd\n",
        "\n"
      ],
      "metadata": {
        "id": "A_2LXEWPAnp-"
      }
    },
    {
      "cell_type": "code",
      "source": [
        "print(\"Number is even number \" if int(input(\"Enter a number : \"))%2==0 else \"Number is odd number \")"
      ],
      "metadata": {
        "colab": {
          "base_uri": "https://localhost:8080/"
        },
        "id": "KRdGXI9JAn2B",
        "outputId": "3ed30530-16e7-41a5-9dc8-fd8b8eb12508"
      },
      "execution_count": 24,
      "outputs": [
        {
          "output_type": "stream",
          "name": "stdout",
          "text": [
            "Enter a number : 12\n",
            "Number is even number \n"
          ]
        }
      ]
    },
    {
      "cell_type": "markdown",
      "source": [
        "# 4. Write a python script to print greater between two numbers. Print number only once even if the numbers are the same\n",
        "\n",
        "```py\n",
        "num1=int(input(\"Enter the 1st number : \"))\n",
        "num2=int(input(\"Enter the 2nd number : \"))\n",
        "\n",
        "if num1>=num2:\n",
        "  print(num1,\" is greater number \")\n",
        "else:\n",
        "  print(num2,\" is greater number \")\n",
        "```\n",
        "\n",
        "\n"
      ],
      "metadata": {
        "id": "YI1F-zMgAoA9"
      }
    },
    {
      "cell_type": "code",
      "source": [
        "num1=int(input(\"Enter the 1st number : \"))\n",
        "num2=int(input(\"Enter the 2nd number : \"))\n",
        "\n",
        "print((num1,\"is greater number\") if num1>num2 else (num2,\"is greater number \"))"
      ],
      "metadata": {
        "colab": {
          "base_uri": "https://localhost:8080/"
        },
        "id": "gD6cZxlaAoNp",
        "outputId": "0e82fbbf-358b-4ec5-b39e-685f55365806"
      },
      "execution_count": 25,
      "outputs": [
        {
          "output_type": "stream",
          "name": "stdout",
          "text": [
            "Enter the 1st number : 12\n",
            "Enter the 2nd number : 4\n",
            "(12, 'is greater number')\n"
          ]
        }
      ]
    },
    {
      "cell_type": "markdown",
      "source": [
        "# 5. Write a python script to print two given words in dictionary order\n",
        "\n",
        "```py\n",
        "str1=input(\"Enter the 1st word : \")\n",
        "str2=input(\"Enter the 2nd word : \")\n",
        "print(\"The words are in dictionary order are : \")\n",
        "\n",
        "if str1>str2:\n",
        "  print(str2)\n",
        "  print(str1)\n",
        "else:\n",
        "  print(str1)\n",
        "  print(str2)\n",
        "```"
      ],
      "metadata": {
        "id": "3Zikur-YAoZT"
      }
    },
    {
      "cell_type": "code",
      "source": [
        "str1=input(\"Enter the 1st word : \")\n",
        "str2=input(\"Enter the 2nd word : \")\n",
        "print(\"The words are in dictionary order are : \")\n",
        "\n",
        "print((str2,str1) if str1>str2 else (str1,str2))"
      ],
      "metadata": {
        "colab": {
          "base_uri": "https://localhost:8080/"
        },
        "id": "05kkWv5HAok4",
        "outputId": "65d61554-84b0-466f-a3cc-be8cb9e2843d"
      },
      "execution_count": 26,
      "outputs": [
        {
          "output_type": "stream",
          "name": "stdout",
          "text": [
            "Enter the 1st word : 12\n",
            "Enter the 2nd word : 13\n",
            "The words are in dictionary order are : \n",
            "('12', '13')\n"
          ]
        }
      ]
    },
    {
      "cell_type": "markdown",
      "source": [
        "# 6. Write a python script to check whether a given number is a three digit number or not.\n",
        "\n",
        "```py\n",
        "num=int(input(\"Enter a three digit number : \"))\n",
        "\n",
        "i=0\n",
        "r=1\n",
        "x=num\n",
        "while num!=0:\n",
        "  num=num//10\n",
        "  i+=1\n",
        "\n",
        "if i==3:\n",
        "  print(x,\"is a three digit number \")\n",
        "else:\n",
        "  print(x,\"is not a three digit number \")\n",
        "```  "
      ],
      "metadata": {
        "id": "YQduksVpAoxW"
      }
    },
    {
      "cell_type": "code",
      "source": [
        "num=int(input(\"Enter a three digit number : \"))\n",
        "if 99<num<1000:\n",
        "    print(num,\"is a three digit number \")\n",
        "else:\n",
        "    print(num,\"is not a three digit number \")"
      ],
      "metadata": {
        "colab": {
          "base_uri": "https://localhost:8080/"
        },
        "id": "M1SNALnYAo_c",
        "outputId": "0b88a3dc-cbea-475c-c98e-986f5167eee4"
      },
      "execution_count": 27,
      "outputs": [
        {
          "output_type": "stream",
          "name": "stdout",
          "text": [
            "Enter a three digit number : 123\n",
            "123 is a three digit number \n"
          ]
        }
      ]
    },
    {
      "cell_type": "markdown",
      "source": [
        "# 7. Write a python script to check whether a given number is positive, negative or zero"
      ],
      "metadata": {
        "id": "N152qvERApLd"
      }
    },
    {
      "cell_type": "code",
      "source": [
        "num= int(input(\"Enter a number : \"))\n",
        "if num>0:\n",
        "    print(num, \" is a positive number \")\n",
        "elif num<0:\n",
        "    print(num, \" is a negative number \")\n",
        "else:\n",
        "    print(num, \" is a zero number \")"
      ],
      "metadata": {
        "colab": {
          "base_uri": "https://localhost:8080/"
        },
        "id": "WI79alccApW7",
        "outputId": "b66279a3-a6d7-47e3-b9de-ada9d665a3cd"
      },
      "execution_count": 28,
      "outputs": [
        {
          "output_type": "stream",
          "name": "stdout",
          "text": [
            "Enter a number : 12\n",
            "12  is a positive number \n"
          ]
        }
      ]
    },
    {
      "cell_type": "markdown",
      "source": [
        "# 8. Write a python script to check whether a given quadratic equation has two real & distinct roots, real & equal roots or imaginary roots\n"
      ],
      "metadata": {
        "id": "Sj8PWoR3Apjm"
      }
    },
    {
      "cell_type": "code",
      "source": [
        "print(\"The quadratic equation are in the form of Ax^2 + Bx + C = 0\")\n",
        "\n",
        "a= int(input(\"Enter the value of A :\"))\n",
        "b= int(input(\"Enter the value of B :\"))\n",
        "c= int(input(\"Enter the value of C :\"))\n",
        "\n",
        "d= (b**2)-(4*a*c)\n",
        "\n",
        "if d>0:\n",
        "    print(\"Roots are real and distinct \")\n",
        "elif d<0:\n",
        "    print(\"Roots are Imaginary \")\n",
        "else:\n",
        "    print(\"Roots are real and equal \")"
      ],
      "metadata": {
        "colab": {
          "base_uri": "https://localhost:8080/"
        },
        "id": "FVfkijo3ApxP",
        "outputId": "429d24ed-ff96-4bf8-af76-f96b8ebf0207"
      },
      "execution_count": 29,
      "outputs": [
        {
          "output_type": "stream",
          "name": "stdout",
          "text": [
            "The quadratic equation are in the form of Ax^2 + Bx + C = 0\n",
            "Enter the value of A :12\n",
            "Enter the value of B :5\n",
            "Enter the value of C :3\n",
            "Roots are Imaginary \n"
          ]
        }
      ]
    },
    {
      "cell_type": "markdown",
      "source": [
        "# 9. Write a python script to check whether a given year is a leap year or not."
      ],
      "metadata": {
        "id": "rxI4risnAp8d"
      }
    },
    {
      "cell_type": "code",
      "source": [
        "year= int(input(\"Enter the year : \"))\n",
        "if ((year%4==0 and year%100!=0) or (year%400==0)):\n",
        "    print(year,\" is a leap year\")\n",
        "else:\n",
        "    print(year,\" is not a leap year\")"
      ],
      "metadata": {
        "colab": {
          "base_uri": "https://localhost:8080/"
        },
        "id": "AfYmqKDUAqI0",
        "outputId": "e6461076-3e66-4cf4-b874-447761f53519"
      },
      "execution_count": 30,
      "outputs": [
        {
          "output_type": "stream",
          "name": "stdout",
          "text": [
            "Enter the year : 2023\n",
            "2023  is not a leap year\n"
          ]
        }
      ]
    },
    {
      "cell_type": "markdown",
      "source": [
        "# 10. Write a python script to print greater among three numbers. Print number only once even if the numbers are the same.\n"
      ],
      "metadata": {
        "id": "xhDoR6X6AqXe"
      }
    },
    {
      "cell_type": "code",
      "source": [
        "print(\"Enter three number :\")\n",
        "a,b,c= int(input(\"1st number : \")),int(input(\"2nd number : \")),int(input(\"3rd number : \"))\n",
        "print(( a if a>c else c) if a>b else (b if b>c else c))"
      ],
      "metadata": {
        "colab": {
          "base_uri": "https://localhost:8080/"
        },
        "id": "fAIoMEuyAqjc",
        "outputId": "86058e67-60da-4789-f10e-a18a47af8d4e"
      },
      "execution_count": 33,
      "outputs": [
        {
          "output_type": "stream",
          "name": "stdout",
          "text": [
            "Enter three number :\n",
            "1st number : 12\n",
            "2nd number : 5\n",
            "3rd number : 7\n",
            "12\n"
          ]
        }
      ]
    },
    {
      "cell_type": "markdown",
      "source": [
        "# 11. Write a python script to take the month value in numeric format and display the number of days in it.\n",
        "\n"
      ],
      "metadata": {
        "id": "aXTuKVOMAqzx"
      }
    },
    {
      "cell_type": "code",
      "source": [
        "month= int(input(\"Enter the month number : \" ))\n",
        "\n",
        "if month in (1,3,5,7,8,10,12):\n",
        "    print(\"31 days \")\n",
        "elif month in (4,6,9,11):\n",
        "    print(\"30 days \")\n",
        "elif month==2:\n",
        "    print(\"28/29 days \")\n",
        "else:\n",
        "    print(\"Enter valid month \")"
      ],
      "metadata": {
        "colab": {
          "base_uri": "https://localhost:8080/"
        },
        "id": "yThiBSvGArAP",
        "outputId": "70c71555-2005-4527-c700-011972a365b2"
      },
      "execution_count": 34,
      "outputs": [
        {
          "output_type": "stream",
          "name": "stdout",
          "text": [
            "Enter the month number : 8\n",
            "31 days \n"
          ]
        }
      ]
    },
    {
      "cell_type": "markdown",
      "source": [
        "# 12. Write a python script to accept one complex number from the user and display the greater number between real part and imaginary part\n",
        "\n"
      ],
      "metadata": {
        "id": "qqnFXMhLArVr"
      }
    },
    {
      "cell_type": "code",
      "source": [
        "com= complex(input(\"Enter a complex number : \"))\n",
        "\n",
        "print((com.real,\"is a greater number \")if com.real>com.imag else (com.imag,\"is a greater number\")) "
      ],
      "metadata": {
        "colab": {
          "base_uri": "https://localhost:8080/"
        },
        "id": "o7GCkLN7Arh8",
        "outputId": "7629c319-b70b-4e36-8816-09220b00aba7"
      },
      "execution_count": 35,
      "outputs": [
        {
          "output_type": "stream",
          "name": "stdout",
          "text": [
            "Enter a complex number : 3+2j\n",
            "(3.0, 'is a greater number ')\n"
          ]
        }
      ]
    }
  ]
}