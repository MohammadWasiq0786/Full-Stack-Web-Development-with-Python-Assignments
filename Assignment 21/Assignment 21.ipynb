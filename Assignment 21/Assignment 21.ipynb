{
 "cells": [
  {
   "cell_type": "markdown",
   "id": "9368e952",
   "metadata": {},
   "source": [
    "![image](https://user-images.githubusercontent.com/57321948/196933065-4b16c235-f3b9-4391-9cfe-4affcec87c35.png)\n",
    "\n",
    "# Name: Mohammad Wasiq\n",
    "## Email: mohammadwasiq0786@gmail.com\n",
    "### Assignment 21"
   ]
  },
  {
   "cell_type": "markdown",
   "id": "30325e38",
   "metadata": {},
   "source": [
    "# 1. Write a recursive python function to print first N natural numbers."
   ]
  },
  {
   "cell_type": "code",
   "execution_count": 1,
   "id": "ec2a6d69",
   "metadata": {
    "ExecuteTime": {
     "end_time": "2023-02-23T04:30:42.974560Z",
     "start_time": "2023-02-23T04:30:39.486084Z"
    }
   },
   "outputs": [
    {
     "name": "stdout",
     "output_type": "stream",
     "text": [
      "Enter the number : 5\n",
      "the first  5  natural numbers are : \n",
      "1 2 3 4 5 "
     ]
    }
   ],
   "source": [
    "def naturalnum(n):\n",
    "   if n>0:\n",
    "    naturalnum(n-1)\n",
    "    print(n,end=\" \")\n",
    "        \n",
    "\n",
    "n=int(input(\"Enter the number : \"))\n",
    "print(\"the first \",n,\" natural numbers are : \")\n",
    "naturalnum(n)"
   ]
  },
  {
   "cell_type": "markdown",
   "id": "af106522",
   "metadata": {},
   "source": [
    "# 2. Write a recursive python function to print first N natural numbers in reverse order."
   ]
  },
  {
   "cell_type": "code",
   "execution_count": 2,
   "id": "b342159f",
   "metadata": {
    "ExecuteTime": {
     "end_time": "2023-02-23T04:31:19.286647Z",
     "start_time": "2023-02-23T04:31:13.767493Z"
    }
   },
   "outputs": [
    {
     "name": "stdout",
     "output_type": "stream",
     "text": [
      "Enter the number : 5\n",
      "The first  5  natural number in reverse order are : \n",
      "5 4 3 2 1 "
     ]
    }
   ],
   "source": [
    "def natural_number(n):\n",
    "    if n>0:\n",
    "        print(n,end=\" \")\n",
    "        return natural_number(n-1)\n",
    "\n",
    "\n",
    "num=int(input(\"Enter the number : \"))\n",
    "print(\"The first \",num,\" natural number in reverse order are : \")\n",
    "natural_number(num)"
   ]
  },
  {
   "cell_type": "markdown",
   "id": "1005a3bc",
   "metadata": {},
   "source": [
    "# 3. Write a recursive python function to print first N odd natural numbers."
   ]
  },
  {
   "cell_type": "code",
   "execution_count": 3,
   "id": "b49e013a",
   "metadata": {
    "ExecuteTime": {
     "end_time": "2023-02-23T04:31:41.622993Z",
     "start_time": "2023-02-23T04:31:39.358033Z"
    }
   },
   "outputs": [
    {
     "name": "stdout",
     "output_type": "stream",
     "text": [
      "Enter the number : 5\n",
      "First  5 off natural numbers are : \n",
      "1 3 5 7 9 "
     ]
    }
   ],
   "source": [
    "def odd(n,flag,j):\n",
    "    if flag<n:\n",
    "        print(j,end=\" \")\n",
    "        flag+=1\n",
    "        return odd(n,flag,j+2)\n",
    "    \n",
    "\n",
    "\n",
    "num=int(input(\"Enter the number : \"))\n",
    "print(\"First \",num,\"off natural numbers are : \")\n",
    "odd(num,0,j=1)\n"
   ]
  },
  {
   "cell_type": "markdown",
   "id": "9f3d4771",
   "metadata": {},
   "source": [
    "# 4. Write a recursive python function to print first N odd natural numbers in reverse order."
   ]
  },
  {
   "cell_type": "code",
   "execution_count": 4,
   "id": "28f870cd",
   "metadata": {
    "ExecuteTime": {
     "end_time": "2023-02-23T04:32:14.416587Z",
     "start_time": "2023-02-23T04:32:12.884831Z"
    }
   },
   "outputs": [
    {
     "name": "stdout",
     "output_type": "stream",
     "text": [
      "Enter the number : 5\n",
      "First  5  odd natural numbers in reverse order are : \n",
      "9 7 5 3 1 "
     ]
    }
   ],
   "source": [
    "def recursive_odd(num):\n",
    "    if num>0:\n",
    "        print(2*num-1,end=\" \")\n",
    "        return recursive_odd(num-1)\n",
    "\n",
    "num=int(input(\"Enter the number : \"))\n",
    "print(\"First \",num,\" odd natural numbers in reverse order are : \")\n",
    "recursive_odd(num)"
   ]
  },
  {
   "cell_type": "markdown",
   "id": "17527cb7",
   "metadata": {},
   "source": [
    "# 5. Write a recursive python function to print first N even natural numbers."
   ]
  },
  {
   "cell_type": "code",
   "execution_count": 5,
   "id": "b29a73cd",
   "metadata": {
    "ExecuteTime": {
     "end_time": "2023-02-23T04:32:48.758547Z",
     "start_time": "2023-02-23T04:32:44.560468Z"
    }
   },
   "outputs": [
    {
     "name": "stdout",
     "output_type": "stream",
     "text": [
      "Enter the number : 5\n",
      "first  5  even natural numbers are : \n",
      "2 4 6 8 10 "
     ]
    }
   ],
   "source": [
    "def even_recursive(num,flag,i):\n",
    "    if flag<num:\n",
    "        print(i,end=\" \")\n",
    "        i+=2\n",
    "        flag+=1\n",
    "        return even_recursive(num,flag,i)\n",
    "\n",
    "\n",
    "num=int(input(\"Enter the number : \"))\n",
    "print(\"first \",num,\" even natural numbers are : \")\n",
    "even_recursive(num,0,2)"
   ]
  },
  {
   "cell_type": "markdown",
   "id": "82545f23",
   "metadata": {},
   "source": [
    "# 6. Write a recursive python function to print first N even natural numbers in reverse order."
   ]
  },
  {
   "cell_type": "code",
   "execution_count": 6,
   "id": "5058ea23",
   "metadata": {
    "ExecuteTime": {
     "end_time": "2023-02-23T04:33:16.421465Z",
     "start_time": "2023-02-23T04:33:11.911758Z"
    }
   },
   "outputs": [
    {
     "name": "stdout",
     "output_type": "stream",
     "text": [
      "Enter the number : 5\n",
      "first  5  even numbers in reverse order are : \n",
      "10 8 6 4 2 "
     ]
    }
   ],
   "source": [
    "def recursive_even(num):\n",
    "    if num>0:\n",
    "        print(2*num,end=\" \")\n",
    "        return recursive_even(num-1)\n",
    "\n",
    "num=int(input(\"Enter the number : \"))\n",
    "print(\"first \",num,\" even numbers in reverse order are : \")\n",
    "recursive_even(num)\n"
   ]
  },
  {
   "cell_type": "markdown",
   "id": "a1227876",
   "metadata": {},
   "source": [
    "# 7. Write a recursive python function to print squares of first N natural numbers."
   ]
  },
  {
   "cell_type": "code",
   "execution_count": 7,
   "id": "f4d08671",
   "metadata": {
    "ExecuteTime": {
     "end_time": "2023-02-23T04:34:02.794056Z",
     "start_time": "2023-02-23T04:33:57.697687Z"
    }
   },
   "outputs": [
    {
     "name": "stdout",
     "output_type": "stream",
     "text": [
      "Enter the number : 5\n",
      "Sqaure of first  5  numbers are : \n",
      "1 4 9 16 25 "
     ]
    }
   ],
   "source": [
    "def sqaure_recursive(num,i):\n",
    "    if i<=num:\n",
    "        print(i**2,end=\" \")\n",
    "        i+=1\n",
    "        return sqaure_recursive(num,i)\n",
    "\n",
    "num=int(input(\"Enter the number : \"))\n",
    "print(\"Sqaure of first \",num,\" numbers are : \")\n",
    "sqaure_recursive(num,1)"
   ]
  },
  {
   "cell_type": "markdown",
   "id": "55808b2f",
   "metadata": {},
   "source": [
    "# 8. Write a recursive python function to print cubes of first N natural numbers."
   ]
  },
  {
   "cell_type": "code",
   "execution_count": 8,
   "id": "d738284d",
   "metadata": {
    "ExecuteTime": {
     "end_time": "2023-02-23T04:34:39.257410Z",
     "start_time": "2023-02-23T04:34:35.368280Z"
    }
   },
   "outputs": [
    {
     "name": "stdout",
     "output_type": "stream",
     "text": [
      "Enter the number : 5\n",
      "cube of first  5  numbers are : \n",
      "1 8 27 64 125 "
     ]
    }
   ],
   "source": [
    "from reprlib import recursive_repr\n",
    "\n",
    "def cube_recursive(num,i):\n",
    "    if num>=i:\n",
    "        print(i**3,end=\" \")\n",
    "        i+=1\n",
    "        return cube_recursive(num,i)\n",
    "\n",
    "\n",
    "num=int(input(\"Enter the number : \"))\n",
    "print(\"cube of first \",num,\" numbers are : \")\n",
    "cube_recursive(num,1)"
   ]
  },
  {
   "cell_type": "markdown",
   "id": "ed2a938d",
   "metadata": {},
   "source": [
    "# 9. Write a recursive python function to print first N multiples of a given number."
   ]
  },
  {
   "cell_type": "code",
   "execution_count": 9,
   "id": "58fb16de",
   "metadata": {
    "ExecuteTime": {
     "end_time": "2023-02-23T04:35:09.781716Z",
     "start_time": "2023-02-23T04:35:02.416834Z"
    }
   },
   "outputs": [
    {
     "name": "stdout",
     "output_type": "stream",
     "text": [
      "Enter the number : 5\n",
      "Enter the number of multiples you want : 5\n",
      "First  5  multiples of given number  5 are : \n",
      "5 10 15 20 25 "
     ]
    }
   ],
   "source": [
    "def  multiple(num,m,i):\n",
    "    if m>=i:\n",
    "        print(num*i,end=\" \")\n",
    "        i+=1\n",
    "        return multiple(num,m,i)\n",
    "\n",
    "num=int(input(\"Enter the number : \"))\n",
    "m=int(input(\"Enter the number of multiples you want : \"))\n",
    "print(\"First \",m,\" multiples of given number \",num,\"are : \" )\n",
    "multiple(num,m,1)"
   ]
  },
  {
   "cell_type": "markdown",
   "id": "5bad66f2",
   "metadata": {},
   "source": [
    "# 10. Write a recursive python function to print a number in reverse order."
   ]
  },
  {
   "cell_type": "code",
   "execution_count": 10,
   "id": "c569b4b8",
   "metadata": {
    "ExecuteTime": {
     "end_time": "2023-02-23T04:35:35.632309Z",
     "start_time": "2023-02-23T04:35:33.867169Z"
    }
   },
   "outputs": [
    {
     "name": "stdout",
     "output_type": "stream",
     "text": [
      "Enter the number : 5\n",
      "Numbers in reverse order are : \n",
      "5 4 3 2 1 "
     ]
    }
   ],
   "source": [
    "def rev(num):\n",
    "    if num:\n",
    "        print(num,end=\" \")\n",
    "        num-=1\n",
    "        return rev(num)\n",
    "\n",
    "num=int(input(\"Enter the number : \"))\n",
    "print(\"Numbers in reverse order are : \")\n",
    "rev(num)"
   ]
  }
 ],
 "metadata": {
  "kernelspec": {
   "display_name": "Python 3 (ipykernel)",
   "language": "python",
   "name": "python3"
  },
  "language_info": {
   "codemirror_mode": {
    "name": "ipython",
    "version": 3
   },
   "file_extension": ".py",
   "mimetype": "text/x-python",
   "name": "python",
   "nbconvert_exporter": "python",
   "pygments_lexer": "ipython3",
   "version": "3.9.12"
  },
  "latex_envs": {
   "LaTeX_envs_menu_present": true,
   "autoclose": false,
   "autocomplete": true,
   "bibliofile": "biblio.bib",
   "cite_by": "apalike",
   "current_citInitial": 1,
   "eqLabelWithNumbers": true,
   "eqNumInitial": 1,
   "hotkeys": {
    "equation": "Ctrl-E",
    "itemize": "Ctrl-I"
   },
   "labels_anchors": false,
   "latex_user_defs": false,
   "report_style_numbering": false,
   "user_envs_cfg": false
  },
  "nbTranslate": {
   "displayLangs": [
    "*"
   ],
   "hotkey": "alt-t",
   "langInMainMenu": true,
   "sourceLang": "en",
   "targetLang": "fr",
   "useGoogleTranslate": true
  },
  "toc": {
   "base_numbering": 1,
   "nav_menu": {},
   "number_sections": true,
   "sideBar": true,
   "skip_h1_title": false,
   "title_cell": "Table of Contents",
   "title_sidebar": "Contents",
   "toc_cell": false,
   "toc_position": {},
   "toc_section_display": true,
   "toc_window_display": false
  },
  "varInspector": {
   "cols": {
    "lenName": 16,
    "lenType": 16,
    "lenVar": 40
   },
   "kernels_config": {
    "python": {
     "delete_cmd_postfix": "",
     "delete_cmd_prefix": "del ",
     "library": "var_list.py",
     "varRefreshCmd": "print(var_dic_list())"
    },
    "r": {
     "delete_cmd_postfix": ") ",
     "delete_cmd_prefix": "rm(",
     "library": "var_list.r",
     "varRefreshCmd": "cat(var_dic_list()) "
    }
   },
   "types_to_exclude": [
    "module",
    "function",
    "builtin_function_or_method",
    "instance",
    "_Feature"
   ],
   "window_display": false
  }
 },
 "nbformat": 4,
 "nbformat_minor": 5
}
