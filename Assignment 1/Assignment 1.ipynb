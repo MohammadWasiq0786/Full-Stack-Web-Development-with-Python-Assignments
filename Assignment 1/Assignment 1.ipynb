{
  "nbformat": 4,
  "nbformat_minor": 0,
  "metadata": {
    "colab": {
      "provenance": []
    },
    "kernelspec": {
      "name": "python3",
      "display_name": "Python 3"
    },
    "language_info": {
      "name": "python"
    }
  },
  "cells": [
    {
      "cell_type": "markdown",
      "source": [
        "![image](https://user-images.githubusercontent.com/57321948/196933065-4b16c235-f3b9-4391-9cfe-4affcec87c35.png)\n",
        "\n",
        "\n",
        "# Name: **Mohammad Wasiq**\n",
        "## Email: **mohammadwasiq0786@gmail.com**\n",
        "### Assignment 1"
      ],
      "metadata": {
        "id": "U-um9vID2sir"
      }
    },
    {
      "cell_type": "markdown",
      "source": [
        "# 1. Write a command to get the Python version you are using.\n"
      ],
      "metadata": {
        "id": "proW34Vg3jFK"
      }
    },
    {
      "cell_type": "code",
      "source": [
        "import sys\n",
        "print(sys.version)"
      ],
      "metadata": {
        "colab": {
          "base_uri": "https://localhost:8080/"
        },
        "id": "gKTQpjHo2tKj",
        "outputId": "e49464b7-8042-42c3-f25c-19e491f14fb1"
      },
      "execution_count": 1,
      "outputs": [
        {
          "output_type": "stream",
          "name": "stdout",
          "text": [
            "3.8.10 (default, Nov 14 2022, 12:59:47) \n",
            "[GCC 9.4.0]\n"
          ]
        }
      ]
    },
    {
      "cell_type": "markdown",
      "source": [
        "# 2. Write a python script to print Hello Python on the screen directly in the command line."
      ],
      "metadata": {
        "id": "fuvG7j9i3tkn"
      }
    },
    {
      "cell_type": "code",
      "source": [
        "print(\"Hello Python\")"
      ],
      "metadata": {
        "colab": {
          "base_uri": "https://localhost:8080/"
        },
        "id": "zTC-TYie3mvz",
        "outputId": "d662ed83-5461-43b1-a020-e51f2a2be953"
      },
      "execution_count": 2,
      "outputs": [
        {
          "output_type": "stream",
          "name": "stdout",
          "text": [
            "Hello Python\n"
          ]
        }
      ]
    },
    {
      "cell_type": "markdown",
      "source": [
        "# 3. Write a python script and store it in a file and execute the file from the command line.\n"
      ],
      "metadata": {
        "id": "4OvCTziE3uZq"
      }
    },
    {
      "cell_type": "code",
      "source": [
        "print('This is Mohammad Wasiq QCS ')\n",
        "print('Student of Full Stack Web Development with Python  ')"
      ],
      "metadata": {
        "colab": {
          "base_uri": "https://localhost:8080/"
        },
        "id": "Q-k_PPGn3uqW",
        "outputId": "f832fba3-5744-4a66-e0d4-9c5ab446e53c"
      },
      "execution_count": 3,
      "outputs": [
        {
          "output_type": "stream",
          "name": "stdout",
          "text": [
            "This is Mohammad Wasiq QCS \n",
            "Student of Full Stack Web Development with Python  \n"
          ]
        }
      ]
    },
    {
      "cell_type": "markdown",
      "source": [
        "# 4. Write a python script to print Hello Python on the screen using visual studio code.\n",
        "\n"
      ],
      "metadata": {
        "id": "Xmz0ya1b3u5M"
      }
    },
    {
      "cell_type": "code",
      "source": [
        "print(\"Hello Python\")"
      ],
      "metadata": {
        "colab": {
          "base_uri": "https://localhost:8080/"
        },
        "id": "bKIE4L-m3vGt",
        "outputId": "5ac41a84-5983-456e-b79f-132e2f99c9a1"
      },
      "execution_count": 4,
      "outputs": [
        {
          "output_type": "stream",
          "name": "stdout",
          "text": [
            "Hello Python\n"
          ]
        }
      ]
    },
    {
      "cell_type": "markdown",
      "source": [
        "# 5. Write a python script to print Hello on the first line and Python on the second line."
      ],
      "metadata": {
        "id": "9vfBh4dh3vTg"
      }
    },
    {
      "cell_type": "code",
      "source": [
        "print(\"Hello\", \"Welcome\", sep= '\\n')\n",
        "\n",
        "print()\n",
        "print(\"OR\")\n",
        "print()\n",
        "\n",
        "print('Hello')\n",
        "print('Python')"
      ],
      "metadata": {
        "colab": {
          "base_uri": "https://localhost:8080/"
        },
        "id": "XSp_L3kI3vgI",
        "outputId": "f2939536-bc0b-47fa-d050-440b484dc7dc"
      },
      "execution_count": 5,
      "outputs": [
        {
          "output_type": "stream",
          "name": "stdout",
          "text": [
            "Hello\n",
            "Welcome\n",
            "\n",
            "OR\n",
            "\n",
            "Hello\n",
            "Python\n"
          ]
        }
      ]
    },
    {
      "cell_type": "markdown",
      "source": [
        "# 6. Write a python script to print “MySirG” on the screen"
      ],
      "metadata": {
        "id": "ZEsVpm2y3vse"
      }
    },
    {
      "cell_type": "code",
      "source": [
        "print(\"MySirG\")\n",
        "\n",
        "print(\"OR\")\n",
        "\n",
        "print(\"\\\"MySirG\\\"\")"
      ],
      "metadata": {
        "colab": {
          "base_uri": "https://localhost:8080/"
        },
        "id": "bb0GPePy3v6N",
        "outputId": "a42ac753-146d-466d-e729-1b5e7acede97"
      },
      "execution_count": 7,
      "outputs": [
        {
          "output_type": "stream",
          "name": "stdout",
          "text": [
            "MySirG\n",
            "OR\n",
            "\"MySirG\"\n"
          ]
        }
      ]
    },
    {
      "cell_type": "markdown",
      "source": [
        "# 7. Write a python script to print “Teacher’s Day” on the screen\n"
      ],
      "metadata": {
        "id": "a3mWqEEm3wF3"
      }
    },
    {
      "cell_type": "code",
      "source": [
        "print(\"Teacher`s Day\")"
      ],
      "metadata": {
        "colab": {
          "base_uri": "https://localhost:8080/"
        },
        "id": "qhHf8q0A3wSq",
        "outputId": "7c03f6ce-d600-478a-d63e-d8abcbfe9a9c"
      },
      "execution_count": 8,
      "outputs": [
        {
          "output_type": "stream",
          "name": "stdout",
          "text": [
            "Teacher`s Day\n"
          ]
        }
      ]
    },
    {
      "cell_type": "markdown",
      "source": [
        "# 8. Write a python script to print the value of a variable. Variable contains your name as data.\n",
        "\n"
      ],
      "metadata": {
        "id": "15pLmfy93wfS"
      }
    },
    {
      "cell_type": "code",
      "source": [
        "name= \"Mohammad Wasiq\"\n",
        "\n",
        "print(name)"
      ],
      "metadata": {
        "colab": {
          "base_uri": "https://localhost:8080/"
        },
        "id": "NthF26QY3wsV",
        "outputId": "1bf1a1a6-3d59-4670-b4dc-d04e8d4edfae"
      },
      "execution_count": 9,
      "outputs": [
        {
          "output_type": "stream",
          "name": "stdout",
          "text": [
            "Mohammad Wasiq\n"
          ]
        }
      ]
    },
    {
      "cell_type": "markdown",
      "source": [
        "# 9. Write a python script to create variables to store your name, age, qualification, years of experience and print it.\n"
      ],
      "metadata": {
        "id": "Sw1SFuSt3w3y"
      }
    },
    {
      "cell_type": "code",
      "source": [
        "name= input(\"Enter your name :\")\n",
        "age= int(input(\"Enter your age :\"))\n",
        "qualification= input(\"Enter your qualification :\")\n",
        "yoe= input(\"Enter your years of experience :\")\n",
        "\n",
        "print('Name :', name)\n",
        "print('Age :',age)\n",
        "print('Qualification :',qualification)\n",
        "print('Year of experience :',yoe)"
      ],
      "metadata": {
        "colab": {
          "base_uri": "https://localhost:8080/"
        },
        "id": "Q5Jdp_pz3xD4",
        "outputId": "edbee95a-f7c0-4e50-859a-505ab2ce1473"
      },
      "execution_count": 10,
      "outputs": [
        {
          "output_type": "stream",
          "name": "stdout",
          "text": [
            "Enter your name :Mohammad Wasiq\n",
            "Enter your age :22\n",
            "Enter your qualification :M.Sc.\n",
            "Enter your years of experience :Fresher\n",
            "Name : Mohammad Wasiq\n",
            "Age : 22\n",
            "Qualification : M.Sc.\n",
            "Year of experience : Fresher\n"
          ]
        }
      ]
    },
    {
      "cell_type": "markdown",
      "source": [
        "# 10. Write a python script to print values of three variables, each in a new line. Variable contains integer values.\n",
        "\n"
      ],
      "metadata": {
        "id": "zEtlTOqt3xQz"
      }
    },
    {
      "cell_type": "code",
      "source": [
        "a= int(input(\"Enter First Value \"))\n",
        "b= int(input(\"Enter Second Value \"))\n",
        "c= int(input(\"Enter Third Value \"))\n",
        "\n",
        "print(a, b, c, sep= \"\\n\")"
      ],
      "metadata": {
        "colab": {
          "base_uri": "https://localhost:8080/"
        },
        "id": "QHiJEwd73xfH",
        "outputId": "dea4381f-7040-4bc1-856b-0e353385bb0c"
      },
      "execution_count": 11,
      "outputs": [
        {
          "output_type": "stream",
          "name": "stdout",
          "text": [
            "Enter First Value 12\n",
            "Enter Second Value 13\n",
            "Enter Third Value 15\n",
            "12\n",
            "13\n",
            "15\n"
          ]
        }
      ]
    }
  ]
}