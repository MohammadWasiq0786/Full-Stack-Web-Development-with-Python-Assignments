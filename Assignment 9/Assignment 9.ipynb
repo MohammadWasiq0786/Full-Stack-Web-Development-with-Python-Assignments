{
  "nbformat": 4,
  "nbformat_minor": 0,
  "metadata": {
    "colab": {
      "provenance": []
    },
    "kernelspec": {
      "name": "python3",
      "display_name": "Python 3"
    },
    "language_info": {
      "name": "python"
    }
  },
  "cells": [
    {
      "cell_type": "markdown",
      "source": [
        "![image](https://user-images.githubusercontent.com/57321948/196933065-4b16c235-f3b9-4391-9cfe-4affcec87c35.png)\n",
        "\n",
        "\n",
        "# Name: **Mohammad Wasiq**\n",
        "## Email: **mohammadwasiq0786@gmail.com**\n",
        "### Assignment 9"
      ],
      "metadata": {
        "id": "ihQkV_KWHc20"
      }
    },
    {
      "cell_type": "markdown",
      "source": [
        "# 1. Write a python script to print MySirG N times on the screen"
      ],
      "metadata": {
        "id": "479iNGK7JUCx"
      }
    },
    {
      "cell_type": "code",
      "source": [
        "n=int(input(\"Enter the number : \"))\n",
        "i=0\n",
        "while(n>i):\n",
        "    print(\"MySirG\")\n",
        "    i+=1"
      ],
      "metadata": {
        "colab": {
          "base_uri": "https://localhost:8080/"
        },
        "id": "cs4j5F15JUcS",
        "outputId": "c7866771-8a4e-487d-b1ea-bd757fb960b5"
      },
      "execution_count": 53,
      "outputs": [
        {
          "output_type": "stream",
          "name": "stdout",
          "text": [
            "Enter the number : 5\n",
            "MySirG\n",
            "MySirG\n",
            "MySirG\n",
            "MySirG\n",
            "MySirG\n"
          ]
        }
      ]
    },
    {
      "cell_type": "markdown",
      "source": [
        "# 2.  Write a python script to print first N natural numbers"
      ],
      "metadata": {
        "id": "qQ_9oVmyJUvE"
      }
    },
    {
      "cell_type": "code",
      "source": [
        "n=int(input(\"Enter the number : \"))\n",
        "i=1\n",
        "while(n>=i):\n",
        "    print(i)\n",
        "    i+=1"
      ],
      "metadata": {
        "colab": {
          "base_uri": "https://localhost:8080/"
        },
        "id": "65ZfOrOsJU8C",
        "outputId": "ae23f157-1272-4a8e-91bf-fba76953e763"
      },
      "execution_count": 54,
      "outputs": [
        {
          "output_type": "stream",
          "name": "stdout",
          "text": [
            "Enter the number : 12\n",
            "1\n",
            "2\n",
            "3\n",
            "4\n",
            "5\n",
            "6\n",
            "7\n",
            "8\n",
            "9\n",
            "10\n",
            "11\n",
            "12\n"
          ]
        }
      ]
    },
    {
      "cell_type": "markdown",
      "source": [
        "# 3. Write a python script to print first N natural numbers in reverse order\n",
        "\n"
      ],
      "metadata": {
        "id": "XMGn4hQ5JVHO"
      }
    },
    {
      "cell_type": "code",
      "source": [
        "n=int(input(\"Enter the number : \"))\n",
        "i=1\n",
        "while(i<=n):\n",
        "    print(n+1-i)\n",
        "    i+=1"
      ],
      "metadata": {
        "colab": {
          "base_uri": "https://localhost:8080/"
        },
        "id": "VCcXz9HaJVSb",
        "outputId": "630289f6-988c-4548-c99e-b527b796a06f"
      },
      "execution_count": 55,
      "outputs": [
        {
          "output_type": "stream",
          "name": "stdout",
          "text": [
            "Enter the number : 12\n",
            "12\n",
            "11\n",
            "10\n",
            "9\n",
            "8\n",
            "7\n",
            "6\n",
            "5\n",
            "4\n",
            "3\n",
            "2\n",
            "1\n"
          ]
        }
      ]
    },
    {
      "cell_type": "markdown",
      "source": [
        "# 4. Write a python script to print first N odd natural numbers."
      ],
      "metadata": {
        "id": "8CPnXit2JVdX"
      }
    },
    {
      "cell_type": "code",
      "source": [
        "n= int(input(\"Enter the number : \"))\n",
        "i,j=1,1\n",
        "while(i<=n):\n",
        "    if j%2!=0:\n",
        "        print(j)\n",
        "        i+=1\n",
        "    j+=1"
      ],
      "metadata": {
        "colab": {
          "base_uri": "https://localhost:8080/"
        },
        "id": "PSWQPD2dJVo4",
        "outputId": "8925ec9b-90dc-4531-f045-f2465891bb5e"
      },
      "execution_count": 56,
      "outputs": [
        {
          "output_type": "stream",
          "name": "stdout",
          "text": [
            "Enter the number : 12\n",
            "1\n",
            "3\n",
            "5\n",
            "7\n",
            "9\n",
            "11\n",
            "13\n",
            "15\n",
            "17\n",
            "19\n",
            "21\n",
            "23\n"
          ]
        }
      ]
    },
    {
      "cell_type": "markdown",
      "source": [
        "# 5. Write a python script to print first N odd natural numbers in reverse order."
      ],
      "metadata": {
        "id": "lMnHM3l9JVz5"
      }
    },
    {
      "cell_type": "code",
      "source": [
        "n= int(input(\"enter the number : \"))\n",
        "i,j=1,1\n",
        "lis=[]\n",
        "while(i<=n):\n",
        "    if(j%2!=0):\n",
        "        lis.append(j)\n",
        "        i+=1\n",
        "    j+=1\n",
        "\n",
        "lis.reverse()\n",
        "for i in lis:\n",
        "    print(i, end=\" \")"
      ],
      "metadata": {
        "colab": {
          "base_uri": "https://localhost:8080/"
        },
        "id": "jXKFQGbAJV_n",
        "outputId": "1fd6b875-456f-40cf-8342-e4651ba31b1c"
      },
      "execution_count": 57,
      "outputs": [
        {
          "output_type": "stream",
          "name": "stdout",
          "text": [
            "enter the number : 12\n",
            "23 21 19 17 15 13 11 9 7 5 3 1 "
          ]
        }
      ]
    },
    {
      "cell_type": "markdown",
      "source": [
        "# 6. Write a python script to print first N even natural numbers\n",
        "\n"
      ],
      "metadata": {
        "id": "3JB9vNlOJWKZ"
      }
    },
    {
      "cell_type": "code",
      "source": [
        "n= int(input(\"Enter the number : \"))\n",
        "\n",
        "i,j=1,1\n",
        "while(i<=n):\n",
        "    if(j%2==0):\n",
        "        print(j)\n",
        "        i+=1\n",
        "    j+=1"
      ],
      "metadata": {
        "colab": {
          "base_uri": "https://localhost:8080/"
        },
        "id": "uXW8mJxdJWVm",
        "outputId": "a93b8928-7e09-4828-9b9d-201cd68c3ec8"
      },
      "execution_count": 58,
      "outputs": [
        {
          "output_type": "stream",
          "name": "stdout",
          "text": [
            "Enter the number : 12\n",
            "2\n",
            "4\n",
            "6\n",
            "8\n",
            "10\n",
            "12\n",
            "14\n",
            "16\n",
            "18\n",
            "20\n",
            "22\n",
            "24\n"
          ]
        }
      ]
    },
    {
      "cell_type": "markdown",
      "source": [
        "# 7. Write a python script to print first N even natural numbers in reverse order\n",
        "\n"
      ],
      "metadata": {
        "id": "9ea9KCMfJWgT"
      }
    },
    {
      "cell_type": "code",
      "source": [
        "n= int(input(\"Enter the number : \"))\n",
        "i,j=1,1\n",
        "lis=[]\n",
        "while n:\n",
        "    if(i%2==0):\n",
        "        lis.append(i)\n",
        "        n-=1\n",
        "    i+=1\n",
        "lis.reverse()\n",
        "for i in lis:\n",
        "    print(i,end=' ')"
      ],
      "metadata": {
        "colab": {
          "base_uri": "https://localhost:8080/"
        },
        "id": "TQFl4JfSJW_7",
        "outputId": "91bc9cba-200a-4674-d2e7-b1ba94756619"
      },
      "execution_count": 59,
      "outputs": [
        {
          "output_type": "stream",
          "name": "stdout",
          "text": [
            "Enter the number : 12\n",
            "24 22 20 18 16 14 12 10 8 6 4 2 "
          ]
        }
      ]
    },
    {
      "cell_type": "markdown",
      "source": [
        "# 8. Write a python script to print squares of first N natural numbers\n",
        "\n"
      ],
      "metadata": {
        "id": "fWhWZPTYJXNU"
      }
    },
    {
      "cell_type": "code",
      "source": [
        "n= int(input(\"Enter the number : \"))\n",
        "i=1\n",
        "while n>=i:\n",
        "    print(i**2,end=' ')\n",
        "    i+=1"
      ],
      "metadata": {
        "colab": {
          "base_uri": "https://localhost:8080/"
        },
        "id": "JYF86tLwJXZJ",
        "outputId": "428415ee-92b5-4009-ec03-172d7e9db46d"
      },
      "execution_count": 60,
      "outputs": [
        {
          "output_type": "stream",
          "name": "stdout",
          "text": [
            "Enter the number : 12\n",
            "1 4 9 16 25 36 49 64 81 100 121 144 "
          ]
        }
      ]
    },
    {
      "cell_type": "markdown",
      "source": [
        "# 9. Write a python script to print cubes of first N natural numbers."
      ],
      "metadata": {
        "id": "7vLOOuoIJXma"
      }
    },
    {
      "cell_type": "code",
      "source": [
        "n= int(input(\"Enter the number : \"))\n",
        "i=1\n",
        "while n>=i:\n",
        "    print(i**3, end=' ')\n",
        "    i+=1"
      ],
      "metadata": {
        "colab": {
          "base_uri": "https://localhost:8080/"
        },
        "id": "bJTVsnixJXzW",
        "outputId": "1dfdbfa8-1547-4784-f27f-6c63ef2a88ce"
      },
      "execution_count": 61,
      "outputs": [
        {
          "output_type": "stream",
          "name": "stdout",
          "text": [
            "Enter the number : 12\n",
            "1 8 27 64 125 216 343 512 729 1000 1331 1728 "
          ]
        }
      ]
    },
    {
      "cell_type": "markdown",
      "source": [
        "# 10. Write a python script to print first 10 multiples of N."
      ],
      "metadata": {
        "id": "Xec1sym4K01r"
      }
    },
    {
      "cell_type": "code",
      "source": [
        "num= int(input(\"Enter the number that multiple you want : \"))\n",
        "print(\"first 10 multiple of \",num,\" are :\")\n",
        "i=1\n",
        "while i<=10:\n",
        "    print(num*i,end=' ')\n",
        "    i+=1"
      ],
      "metadata": {
        "colab": {
          "base_uri": "https://localhost:8080/"
        },
        "id": "DsRQQ6H0K1IU",
        "outputId": "83efeead-fa5c-4dc0-8f4d-0746fbb0d667"
      },
      "execution_count": 62,
      "outputs": [
        {
          "output_type": "stream",
          "name": "stdout",
          "text": [
            "Enter the number that multiple you want : 12\n",
            "first 10 multiple of  12  are :\n",
            "12 24 36 48 60 72 84 96 108 120 "
          ]
        }
      ]
    }
  ]
}