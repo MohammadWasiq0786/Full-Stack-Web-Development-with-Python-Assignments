{
 "cells": [
  {
   "cell_type": "markdown",
   "id": "dbdf3d54",
   "metadata": {},
   "source": [
    "![image](https://user-images.githubusercontent.com/57321948/196933065-4b16c235-f3b9-4391-9cfe-4affcec87c35.png)\n",
    "\n",
    "# Name: Mohammad Wasiq\n",
    "## Email: mohammadwasiq0786@gmail.com\n",
    "### Assignment 20"
   ]
  },
  {
   "cell_type": "markdown",
   "id": "7530f3da",
   "metadata": {},
   "source": [
    "# 1. Write a python program to create a function that takes a list and returns a new list with the original list's unique elements."
   ]
  },
  {
   "cell_type": "code",
   "execution_count": 1,
   "id": "0963d0c9",
   "metadata": {
    "ExecuteTime": {
     "end_time": "2023-02-23T04:17:54.460418Z",
     "start_time": "2023-02-23T04:17:46.345836Z"
    }
   },
   "outputs": [
    {
     "name": "stdout",
     "output_type": "stream",
     "text": [
      "Enter the list elements seperated by space : 1 2 3 4 5\n",
      "Original list are :  [1, 2, 3, 4, 5]\n",
      "New list with unique elements of the original list are :   [1, 2, 3, 4, 5]\n"
     ]
    }
   ],
   "source": [
    "def unique(lis):\n",
    "    lis2=[]\n",
    "    for i in lis:\n",
    "        if i not in lis2:\n",
    "            lis2.append(i)\n",
    "    return lis2\n",
    "\n",
    "\n",
    "lis=[int(i) for i in input(\"Enter the list elements seperated by space : \").split(' ')]\n",
    "print(\"Original list are : \",lis)\n",
    "lis2=unique(lis)\n",
    "print(\"New list with unique elements of the original list are :  \",lis2)"
   ]
  },
  {
   "cell_type": "markdown",
   "id": "496b26c3",
   "metadata": {},
   "source": [
    "# 2. Write a python program to create a function that takes a number as a parameter and checks if the number is prime or not."
   ]
  },
  {
   "cell_type": "code",
   "execution_count": 2,
   "id": "f0b30001",
   "metadata": {
    "ExecuteTime": {
     "end_time": "2023-02-23T04:18:27.285550Z",
     "start_time": "2023-02-23T04:18:23.912111Z"
    }
   },
   "outputs": [
    {
     "name": "stdout",
     "output_type": "stream",
     "text": [
      "Enter the number : 12\n",
      "Numner is not prime number i.e  12\n"
     ]
    }
   ],
   "source": [
    "def primecheck(num):\n",
    "    for i in range(2,num//2+1):\n",
    "        if num%i==0:\n",
    "            print(\"Numner is not prime number i.e \",num)\n",
    "            break\n",
    "    else:\n",
    "        print(\"Number is a prime number i.e \",num)\n",
    "\n",
    "num=int(input(\"Enter the number : \"))\n",
    "primecheck(num)"
   ]
  },
  {
   "cell_type": "markdown",
   "id": "d495d947",
   "metadata": {},
   "source": [
    "# 3. Write a python program to create a function that prints the even numbers from a given list.\n",
    "## `Sample List : [1, 2, 3, 4, 5, 6, 7, 8, 9]`"
   ]
  },
  {
   "cell_type": "code",
   "execution_count": 3,
   "id": "f9842654",
   "metadata": {
    "ExecuteTime": {
     "end_time": "2023-02-23T04:19:04.615430Z",
     "start_time": "2023-02-23T04:19:04.596479Z"
    }
   },
   "outputs": [
    {
     "name": "stdout",
     "output_type": "stream",
     "text": [
      "Given list are : \n",
      "[1, 2, 3, 4, 5, 6, 7, 8, 9]\n",
      "\n",
      "The even numbers in the list are : \n",
      "2 4 6 8 "
     ]
    }
   ],
   "source": [
    "def even(lis):\n",
    "    for i in lis:\n",
    "        if i%2==0:\n",
    "            print(i,end=\" \")\n",
    "        \n",
    "\n",
    "Sample_List = [1, 2, 3, 4, 5, 6, 7, 8, 9]\n",
    "print(\"Given list are : \")\n",
    "print(Sample_List)\n",
    "print()\n",
    "print(\"The even numbers in the list are : \")\n",
    "even(Sample_List)"
   ]
  },
  {
   "cell_type": "markdown",
   "id": "691079fd",
   "metadata": {},
   "source": [
    "# 4. Write a python program to create a function that checks whether a passed string is palindrome or not."
   ]
  },
  {
   "cell_type": "code",
   "execution_count": 4,
   "id": "9754e7df",
   "metadata": {
    "ExecuteTime": {
     "end_time": "2023-02-23T04:19:48.172805Z",
     "start_time": "2023-02-23T04:19:42.748695Z"
    }
   },
   "outputs": [
    {
     "name": "stdout",
     "output_type": "stream",
     "text": [
      "Enter the string : Mohammad\n",
      "Given string is not palindrome i.e  Mohammad\n"
     ]
    }
   ],
   "source": [
    "def check_palindrome(s):\n",
    "    l=len(s)\n",
    "    for i in range(l):\n",
    "        if s[i]!=s[l-i-1]:\n",
    "            print(\"Given string is not palindrome i.e \",s)\n",
    "            break\n",
    "    else:\n",
    "        print(\"Given string are palindrome i.e \",s)\n",
    "\n",
    "s=input(\"Enter the string : \")\n",
    "check_palindrome(s)"
   ]
  },
  {
   "cell_type": "markdown",
   "id": "44333c45",
   "metadata": {},
   "source": [
    "# 5. Write a python program to create a function to find the Min of three numbers."
   ]
  },
  {
   "cell_type": "code",
   "execution_count": 5,
   "id": "609fc46f",
   "metadata": {
    "ExecuteTime": {
     "end_time": "2023-02-23T04:20:24.054930Z",
     "start_time": "2023-02-23T04:20:19.257368Z"
    }
   },
   "outputs": [
    {
     "name": "stdout",
     "output_type": "stream",
     "text": [
      "Enter the 1st number : 1\n",
      "Enter the 2nd number : 2\n",
      "Enter the 3rd number : 3\n",
      "Minimum number among these three are :  1\n"
     ]
    }
   ],
   "source": [
    "def min_number(a,b,c):\n",
    "    if a<b and a<c:\n",
    "        return a\n",
    "    elif b<a and b<c:\n",
    "        return b\n",
    "    elif c<a and c<b:\n",
    "        return c\n",
    "\n",
    "a=int(input(\"Enter the 1st number : \"))\n",
    "b=int(input(\"Enter the 2nd number : \"))\n",
    "c=int(input(\"Enter the 3rd number : \"))\n",
    "\n",
    "print(\"Minimum number among these three are : \",min_number(a,b,c))"
   ]
  },
  {
   "cell_type": "markdown",
   "id": "5dfb565b",
   "metadata": {},
   "source": [
    "# 6. Write a python program to create a function and print a list where the values are square of numbers between 1 and 30."
   ]
  },
  {
   "cell_type": "code",
   "execution_count": 6,
   "id": "65c5cb8a",
   "metadata": {
    "ExecuteTime": {
     "end_time": "2023-02-23T04:21:02.035103Z",
     "start_time": "2023-02-23T04:21:02.017161Z"
    }
   },
   "outputs": [
    {
     "name": "stdout",
     "output_type": "stream",
     "text": [
      "[1, 4, 9, 16, 25, 36, 49, 64, 81, 100, 121, 144, 169, 196, 225, 256, 289, 324, 361, 400, 441, 484, 529, 576, 625, 676, 729, 784, 841, 900]\n"
     ]
    }
   ],
   "source": [
    "def printvalue():\n",
    "    lis=[]\n",
    "    for i in range(1,31):\n",
    "        lis.append(i**2)\n",
    "    print(lis)\n",
    "\n",
    "printvalue()"
   ]
  },
  {
   "cell_type": "markdown",
   "id": "5706f3a1",
   "metadata": {},
   "source": [
    "# 7. Write a python program to access a function inside a function"
   ]
  },
  {
   "cell_type": "code",
   "execution_count": 7,
   "id": "ddcb02a2",
   "metadata": {
    "ExecuteTime": {
     "end_time": "2023-02-23T04:21:33.135748Z",
     "start_time": "2023-02-23T04:21:33.127773Z"
    }
   },
   "outputs": [
    {
     "name": "stdout",
     "output_type": "stream",
     "text": [
      "Function 1 \n"
     ]
    }
   ],
   "source": [
    "def fun1():\n",
    "    print(\"Function 1 \")\n",
    "\n",
    "def fun2():\n",
    "    fun1()\n",
    "\n",
    "fun2()"
   ]
  },
  {
   "cell_type": "markdown",
   "id": "4063e90b",
   "metadata": {},
   "source": [
    "# 8. Write a python program to create a function that accepts a string and calculate the number of upper case letters and lower case letters."
   ]
  },
  {
   "cell_type": "code",
   "execution_count": 8,
   "id": "6fdc6e18",
   "metadata": {
    "ExecuteTime": {
     "end_time": "2023-02-23T04:22:14.736314Z",
     "start_time": "2023-02-23T04:22:08.965897Z"
    }
   },
   "outputs": [
    {
     "name": "stdout",
     "output_type": "stream",
     "text": [
      "Enter the string : Mohammad\n",
      "Number of upper case letters are :  1\n",
      "Number of lower case letters are :  7\n"
     ]
    }
   ],
   "source": [
    "def count(st):\n",
    "    up=0\n",
    "    low=0\n",
    "    for i in st:\n",
    "        if i.isupper():\n",
    "            up+=1\n",
    "        elif i.islower():\n",
    "            low+=1\n",
    "    print(\"Number of upper case letters are : \",up)\n",
    "    print(\"Number of lower case letters are : \",low)\n",
    "\n",
    "\n",
    "st=input(\"Enter the string : \")\n",
    "count(st)"
   ]
  },
  {
   "cell_type": "markdown",
   "id": "7c8c5e17",
   "metadata": {},
   "source": [
    "# 9. Write a python program to create a function to check whether a string is a pangram or not."
   ]
  },
  {
   "cell_type": "code",
   "execution_count": 9,
   "id": "98cab380",
   "metadata": {
    "ExecuteTime": {
     "end_time": "2023-02-23T04:22:54.391755Z",
     "start_time": "2023-02-23T04:22:48.066026Z"
    }
   },
   "outputs": [
    {
     "name": "stdout",
     "output_type": "stream",
     "text": [
      "Enter the string : Mohammad\n",
      "Given string are not pangram i.e  Mohammad\n"
     ]
    }
   ],
   "source": [
    "def panagram(st):\n",
    "    lis=[False]*26\n",
    "    \n",
    "    for i in st:\n",
    "        if i>='A' and i<='Z':\n",
    "            j=ord(i)-65\n",
    "            lis[j]=True\n",
    "        elif i>='a' and i<='z':\n",
    "            j=ord(i)-97\n",
    "            lis[j]=True\n",
    "        j+=1\n",
    "    return all(lis)\n",
    "\n",
    "\n",
    "st=input(\"Enter the string : \")\n",
    "\n",
    "if panagram(st):\n",
    "    print(\"Given string are pangram i.e \",st)\n",
    "else:\n",
    "    print(\"Given string are not pangram i.e \",st)"
   ]
  },
  {
   "cell_type": "markdown",
   "id": "fe856bf1",
   "metadata": {},
   "source": [
    "# 10. Write a python program to create a function to check whether a string is an anagram or not."
   ]
  },
  {
   "cell_type": "code",
   "execution_count": 10,
   "id": "911a854c",
   "metadata": {
    "ExecuteTime": {
     "end_time": "2023-02-23T04:23:28.915192Z",
     "start_time": "2023-02-23T04:23:21.732237Z"
    }
   },
   "outputs": [
    {
     "name": "stdout",
     "output_type": "stream",
     "text": [
      "Enter the string 1 : Mohammad\n",
      "Enter the string 2 : Wasiq\n",
      "Given two string are not anagram i.e Mohammad Wasiq\n"
     ]
    }
   ],
   "source": [
    "def anagram(a,b):\n",
    "    l1=len(a)\n",
    "    l2=len(b)\n",
    "    if l1 !=l2:\n",
    "        return False\n",
    "    a=sorted(a)\n",
    "    b=sorted(b)\n",
    "\n",
    "    for i in range(l1):\n",
    "        if a[i]!=b[i]:\n",
    "            return False\n",
    "    return True\n",
    "\n",
    "a=input(\"Enter the string 1 : \")\n",
    "b=input(\"Enter the string 2 : \")\n",
    "\n",
    "if anagram(a,b):\n",
    "    print(\"Given two string are anagram i.e\",a,b)\n",
    "else:\n",
    "    print(\"Given two string are not anagram i.e\",a,b)"
   ]
  }
 ],
 "metadata": {
  "kernelspec": {
   "display_name": "Python 3 (ipykernel)",
   "language": "python",
   "name": "python3"
  },
  "language_info": {
   "codemirror_mode": {
    "name": "ipython",
    "version": 3
   },
   "file_extension": ".py",
   "mimetype": "text/x-python",
   "name": "python",
   "nbconvert_exporter": "python",
   "pygments_lexer": "ipython3",
   "version": "3.9.12"
  },
  "latex_envs": {
   "LaTeX_envs_menu_present": true,
   "autoclose": false,
   "autocomplete": true,
   "bibliofile": "biblio.bib",
   "cite_by": "apalike",
   "current_citInitial": 1,
   "eqLabelWithNumbers": true,
   "eqNumInitial": 1,
   "hotkeys": {
    "equation": "Ctrl-E",
    "itemize": "Ctrl-I"
   },
   "labels_anchors": false,
   "latex_user_defs": false,
   "report_style_numbering": false,
   "user_envs_cfg": false
  },
  "nbTranslate": {
   "displayLangs": [
    "*"
   ],
   "hotkey": "alt-t",
   "langInMainMenu": true,
   "sourceLang": "en",
   "targetLang": "fr",
   "useGoogleTranslate": true
  },
  "toc": {
   "base_numbering": 1,
   "nav_menu": {},
   "number_sections": true,
   "sideBar": true,
   "skip_h1_title": false,
   "title_cell": "Table of Contents",
   "title_sidebar": "Contents",
   "toc_cell": false,
   "toc_position": {},
   "toc_section_display": true,
   "toc_window_display": false
  },
  "varInspector": {
   "cols": {
    "lenName": 16,
    "lenType": 16,
    "lenVar": 40
   },
   "kernels_config": {
    "python": {
     "delete_cmd_postfix": "",
     "delete_cmd_prefix": "del ",
     "library": "var_list.py",
     "varRefreshCmd": "print(var_dic_list())"
    },
    "r": {
     "delete_cmd_postfix": ") ",
     "delete_cmd_prefix": "rm(",
     "library": "var_list.r",
     "varRefreshCmd": "cat(var_dic_list()) "
    }
   },
   "types_to_exclude": [
    "module",
    "function",
    "builtin_function_or_method",
    "instance",
    "_Feature"
   ],
   "window_display": false
  }
 },
 "nbformat": 4,
 "nbformat_minor": 5
}
