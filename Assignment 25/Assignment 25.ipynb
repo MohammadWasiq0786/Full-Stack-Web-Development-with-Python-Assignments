{
 "cells": [
  {
   "cell_type": "markdown",
   "id": "82a0e680",
   "metadata": {},
   "source": [
    "![image](https://user-images.githubusercontent.com/57321948/196933065-4b16c235-f3b9-4391-9cfe-4affcec87c35.png)\n",
    "\n",
    "# Name: Mohammad Wasiq\n",
    "## Email: mohammadwasiq0786@gmail.com\n",
    "### Assignment 25"
   ]
  },
  {
   "cell_type": "markdown",
   "id": "6e9b9da9",
   "metadata": {},
   "source": [
    "# 1. Write a python script to create a Profile class with 3 attributes (name, email, age)."
   ]
  },
  {
   "cell_type": "code",
   "execution_count": 1,
   "id": "c5e73844",
   "metadata": {
    "ExecuteTime": {
     "end_time": "2023-02-23T05:00:34.984884Z",
     "start_time": "2023-02-23T05:00:34.976908Z"
    }
   },
   "outputs": [],
   "source": [
    "class Profile:\n",
    "    def __init__(self,name,email,age) -> None:\n",
    "        self.name=name\n",
    "        self.age=age\n",
    "        self.email=email\n",
    "    \n",
    "\n",
    "obj1= Profile('Wasiq', 'mohammadwasiq0786@gmail.com', 22)"
   ]
  },
  {
   "cell_type": "code",
   "execution_count": 4,
   "id": "9bf709f8",
   "metadata": {
    "ExecuteTime": {
     "end_time": "2023-02-23T05:01:44.876034Z",
     "start_time": "2023-02-23T05:01:44.863069Z"
    }
   },
   "outputs": [
    {
     "name": "stdout",
     "output_type": "stream",
     "text": [
      "Wasiq\n",
      "mohammadwasiq0786@gmail.com\n",
      "22\n"
     ]
    }
   ],
   "source": [
    "obj1.show()"
   ]
  },
  {
   "cell_type": "markdown",
   "id": "a4b2a1c0",
   "metadata": {},
   "source": [
    "# 2. Write a python script to update the above Profile class with encapsulation."
   ]
  },
  {
   "cell_type": "code",
   "execution_count": 3,
   "id": "a1cccdef",
   "metadata": {
    "ExecuteTime": {
     "end_time": "2023-02-23T05:01:35.406382Z",
     "start_time": "2023-02-23T05:01:35.384440Z"
    }
   },
   "outputs": [
    {
     "name": "stdout",
     "output_type": "stream",
     "text": [
      "Wasiq\n",
      "mohammadwasiq0786@gmail.com\n",
      "22\n"
     ]
    }
   ],
   "source": [
    "class Profile:\n",
    "    def __init__(self,name,email,age) -> None:\n",
    "        self.name=name\n",
    "        self.age=age\n",
    "        self.email=email\n",
    "    \n",
    "    def show(self):\n",
    "        print(self.name)\n",
    "        print(self.email)\n",
    "        print(self.age)\n",
    "        \n",
    "obj1=Profile('Wasiq', 'mohammadwasiq0786@gmail.com', 22)\n",
    "obj1.show()"
   ]
  },
  {
   "cell_type": "markdown",
   "id": "c2473e49",
   "metadata": {},
   "source": [
    "# 3. Write a python script to update 2nd Question, change email and age to `__email` and `__age`.\n"
   ]
  },
  {
   "cell_type": "code",
   "execution_count": 5,
   "id": "6f2a3326",
   "metadata": {
    "ExecuteTime": {
     "end_time": "2023-02-23T05:02:41.717106Z",
     "start_time": "2023-02-23T05:02:41.697161Z"
    }
   },
   "outputs": [
    {
     "name": "stdout",
     "output_type": "stream",
     "text": [
      "Altamash\n",
      "mohammadwasiq0786@gmail.com\n",
      "22\n"
     ]
    }
   ],
   "source": [
    "class Profile:\n",
    "    def __init__(self, name, email, age) -> None:\n",
    "        self.name=name\n",
    "        self.__age=age\n",
    "        self.__email=email\n",
    "    \n",
    "    def show(self):\n",
    "        print(self.name)\n",
    "        print(self.__email)\n",
    "        print(self.__age)\n",
    "        \n",
    "obj1=Profile('Wasiq', 'mohammadwasiq0786@gmail.com', 22)\n",
    "\n",
    "obj1.name='Altamash'\n",
    "obj1.email='altamash143@gmail.com'\n",
    "obj1.age=20\n",
    "\n",
    "obj1.show()"
   ]
  },
  {
   "cell_type": "markdown",
   "id": "0d4603ef",
   "metadata": {},
   "source": [
    "# 4. Write a python script to update 2nd Question, add a class variable (platform) and create a classmethod to access it."
   ]
  },
  {
   "cell_type": "code",
   "execution_count": 6,
   "id": "8b0a76b0",
   "metadata": {
    "ExecuteTime": {
     "end_time": "2023-02-23T05:03:10.425906Z",
     "start_time": "2023-02-23T05:03:10.405947Z"
    }
   },
   "outputs": [
    {
     "name": "stdout",
     "output_type": "stream",
     "text": [
      "instance variables are : \n",
      "Wasiq\n",
      "mohammadwasiq0786@gmail.com\n",
      "22\n",
      "class variable are : \n",
      "INEURON\n"
     ]
    }
   ],
   "source": [
    "import profile\n",
    "\n",
    "class Profile:\n",
    "    platform='INEURON'\n",
    "    @classmethod\n",
    "    def getplatform(cls):\n",
    "        return cls.platform\n",
    "\n",
    "\n",
    "    def __init__(self) -> None:\n",
    "        self.name=None\n",
    "        self.__age=None\n",
    "        self.__email=None\n",
    "\n",
    "    def setdata(self,name,email,age):\n",
    "        self.name=name\n",
    "        self.__age=age\n",
    "        self.__email=email\n",
    "\n",
    "    def getdata(self):\n",
    "        print(self.name)\n",
    "        print(self.__email)\n",
    "        print(self.__age)\n",
    "        \n",
    "    \n",
    "obj=Profile()\n",
    "\n",
    "obj.setdata('Wasiq', 'mohammadwasiq0786@gmail.com', 22)\n",
    "print(\"instance variables are : \")\n",
    "obj.getdata()\n",
    "print(\"class variable are : \")\n",
    "print(Profile.getplatform())"
   ]
  },
  {
   "cell_type": "markdown",
   "id": "ebe31d55",
   "metadata": {},
   "source": [
    "# 5. Write a python script to create a Calculator class with 2 methods for adding and subtracting 2 values."
   ]
  },
  {
   "cell_type": "code",
   "execution_count": 7,
   "id": "d8b06543",
   "metadata": {
    "ExecuteTime": {
     "end_time": "2023-02-23T05:03:38.273501Z",
     "start_time": "2023-02-23T05:03:38.250565Z"
    }
   },
   "outputs": [
    {
     "name": "stdout",
     "output_type": "stream",
     "text": [
      "Adding :  12\n",
      "Subtracting :  2\n"
     ]
    }
   ],
   "source": [
    "class Calculator:\n",
    "\n",
    "    def __init__(self) -> None:\n",
    "        self.x=None\n",
    "        self.y=None\n",
    "    \n",
    "    def setdata(self, x, y):\n",
    "        self.x=x\n",
    "        self.y=y\n",
    "    \n",
    "    def adding(self):\n",
    "        return self.x+self.y\n",
    "    \n",
    "    def subtracting(self):\n",
    "        return self.x-self.y\n",
    "    \n",
    "obj=Calculator()\n",
    "obj.setdata(7,5)\n",
    "print(\"Adding : \",obj.adding())\n",
    "print(\"Subtracting : \",obj.subtracting())"
   ]
  },
  {
   "cell_type": "markdown",
   "id": "b9cd4c93",
   "metadata": {},
   "source": [
    "# 6. Write a python script to create a Calculator 2.0 class with 2 methods for multiplication and division of 2 values and inherit it from the Calculator class."
   ]
  },
  {
   "cell_type": "code",
   "execution_count": 8,
   "id": "d236620b",
   "metadata": {
    "ExecuteTime": {
     "end_time": "2023-02-23T05:04:20.130605Z",
     "start_time": "2023-02-23T05:04:20.104682Z"
    }
   },
   "outputs": [
    {
     "name": "stdout",
     "output_type": "stream",
     "text": [
      "Adding :  12\n",
      "Subtracting :  2\n",
      "Multiplication :  35\n",
      "Division :  1.4\n"
     ]
    }
   ],
   "source": [
    "class Calculator:\n",
    "\n",
    "    def __init__(self) -> None:\n",
    "        self.x=None\n",
    "        self.y=None\n",
    "    \n",
    "    def setdata(self, x, y):\n",
    "        self.x=x\n",
    "        self.y=y\n",
    "    \n",
    "    def adding(self):\n",
    "        return self.x+self.y\n",
    "    \n",
    "    def subtracting(self):\n",
    "        return self.x-self.y\n",
    "\n",
    "class Calculator2(Calculator):\n",
    "    def multiplication(self):\n",
    "        return self.x*self.y\n",
    "\n",
    "    def division(self):\n",
    "        return self.x/self.y\n",
    "\n",
    "obj=Calculator2()\n",
    "obj.setdata(7,5)\n",
    "print(\"Adding : \",obj.adding())\n",
    "print(\"Subtracting : \",obj.subtracting())\n",
    "print(\"Multiplication : \",obj.multiplication())\n",
    "print(\"Division : \",obj.division())"
   ]
  },
  {
   "cell_type": "markdown",
   "id": "7f974bcf",
   "metadata": {},
   "source": [
    "# 7. Write a python script to create a Phone class with 2 methods to print the features (calling and sms)."
   ]
  },
  {
   "cell_type": "code",
   "execution_count": 9,
   "id": "74d09018",
   "metadata": {
    "ExecuteTime": {
     "end_time": "2023-02-23T05:04:50.817935Z",
     "start_time": "2023-02-23T05:04:50.805965Z"
    }
   },
   "outputs": [
    {
     "name": "stdout",
     "output_type": "stream",
     "text": [
      "Calling..........\n",
      "SMS...........\n"
     ]
    }
   ],
   "source": [
    "class Phone:\n",
    "    def calling(self):\n",
    "        print(\"Calling..........\")\n",
    "    \n",
    "    def sms(self):\n",
    "        print(\"SMS...........\")\n",
    "\n",
    "obj=Phone()\n",
    "obj.calling()\n",
    "obj.sms()"
   ]
  },
  {
   "cell_type": "markdown",
   "id": "88c600be",
   "metadata": {},
   "source": [
    "# 8. Write a python script to create a SmartPhone class by inheriting Calculator 2.0 and Phone Class."
   ]
  },
  {
   "cell_type": "code",
   "execution_count": 10,
   "id": "a080b999",
   "metadata": {
    "ExecuteTime": {
     "end_time": "2023-02-23T05:05:24.223125Z",
     "start_time": "2023-02-23T05:05:24.201189Z"
    }
   },
   "outputs": [
    {
     "name": "stdout",
     "output_type": "stream",
     "text": [
      "2.0\n",
      "Calling..........\n"
     ]
    }
   ],
   "source": [
    "class Phone:\n",
    "    def calling(self):\n",
    "        print(\"Calling..........\")\n",
    "    \n",
    "    def sms(self):\n",
    "        print(\"SMS...........\")\n",
    "\n",
    "class Calculator:\n",
    "\n",
    "    def __init__(self) -> None:\n",
    "        self.x=None\n",
    "        self.y=None\n",
    "    \n",
    "    def setdata(self, x, y):\n",
    "        self.x=x\n",
    "        self.y=y\n",
    "    \n",
    "    def adding(self):\n",
    "        return self.x+self.y\n",
    "    \n",
    "    def subtracting(self):\n",
    "        return self.x-self.y\n",
    "\n",
    "class Calculator2(Calculator):\n",
    "    def multiplication(self):\n",
    "        return self.x*self.y\n",
    "\n",
    "    def division(self):\n",
    "        return self.x/self.y\n",
    "\n",
    "class Smartphone(Calculator2,Phone):\n",
    "    pass\n",
    "\n",
    "obj=Smartphone()\n",
    "obj.setdata(6,3)\n",
    "print(obj.division())\n",
    "obj.calling()"
   ]
  },
  {
   "cell_type": "markdown",
   "id": "5a16dafe",
   "metadata": {},
   "source": [
    "#  Write a python script to create an application like Truecaller where names and numbers are stored. Truecaller class will have 2 methods (1st to fetch the name of a number and 2nd to add a new entry)."
   ]
  },
  {
   "cell_type": "code",
   "execution_count": 12,
   "id": "3af489a5",
   "metadata": {
    "ExecuteTime": {
     "end_time": "2023-02-23T05:07:00.243264Z",
     "start_time": "2023-02-23T05:06:45.943692Z"
    }
   },
   "outputs": [
    {
     "name": "stdout",
     "output_type": "stream",
     "text": [
      "***************************************************\n",
      "Press 1 for fetch the name \n",
      "Press 2 for add entry \n",
      "Press any other for exit \n",
      "***************************************************\n",
      "Enter the choice : 5\n"
     ]
    }
   ],
   "source": [
    "class truecaller:\n",
    "\n",
    "    \n",
    "    def __init__(self) -> None:\n",
    "        self.data={'9876543210':\"Wasiq\",'9988776655':\"Altamash\",\"9878767890\":\"Zainul\"}\n",
    "\n",
    "    # @staticmethod\n",
    "    def add_data(self,key,value):\n",
    "        self.data[key]=value\n",
    "\n",
    "    # @staticmethod\n",
    "    def fetch(self,key):\n",
    "        return self.data[key]\n",
    "\n",
    "\n",
    "obj=truecaller()\n",
    "while True:\n",
    "    print(\"*\"*51)\n",
    "    print(\"Press 1 for fetch the name \")\n",
    "    print(\"Press 2 for add entry \")\n",
    "    print(\"Press any other for exit \")\n",
    "    print(\"*\"*51)\n",
    "    choice=int(input(\"Enter the choice : \"))\n",
    "    if choice==1:\n",
    "        num=input(\"Enter the number : \")\n",
    "        print(\"Name : \",obj.fetch(num))\n",
    "    elif choice==2:\n",
    "        num=input(\"Number : \")\n",
    "        name=input(\"Name : \")\n",
    "        obj.add_data(num,name)\n",
    "    else:\n",
    "        break"
   ]
  },
  {
   "cell_type": "markdown",
   "id": "27972fa7",
   "metadata": {},
   "source": [
    "# 10. Write a python script to add the new method in SmartPhone class which accepts. Truecaller object as a parameter and call the fetch method of Truecaller."
   ]
  },
  {
   "cell_type": "code",
   "execution_count": 13,
   "id": "3862ab0f",
   "metadata": {
    "ExecuteTime": {
     "end_time": "2023-02-23T05:07:44.305425Z",
     "start_time": "2023-02-23T05:07:44.288471Z"
    }
   },
   "outputs": [
    {
     "name": "stdout",
     "output_type": "stream",
     "text": [
      "Ram\n"
     ]
    }
   ],
   "source": [
    "class truecaller:\n",
    "\n",
    "    def __init__(self) -> None:\n",
    "        self.data={'9876543210':\"Ram\",'9988776655':\"Shyam\",\"9878767890\":\"Asteek\"}\n",
    "\n",
    "    def add_data(self,key,value):\n",
    "        self.data[key]=value\n",
    "\n",
    "    def fetch(self,key):\n",
    "        return self.data[key]\n",
    "\n",
    "class smartphone():\n",
    "    \n",
    "    def accept_input(self,tc,num):\n",
    "       return tc.fetch(num)\n",
    "\n",
    "\n",
    "tc_obj=truecaller()\n",
    "sp_obj=smartphone()\n",
    "\n",
    "print(sp_obj.accept_input(tc_obj,'9876543210'))"
   ]
  }
 ],
 "metadata": {
  "kernelspec": {
   "display_name": "Python 3 (ipykernel)",
   "language": "python",
   "name": "python3"
  },
  "language_info": {
   "codemirror_mode": {
    "name": "ipython",
    "version": 3
   },
   "file_extension": ".py",
   "mimetype": "text/x-python",
   "name": "python",
   "nbconvert_exporter": "python",
   "pygments_lexer": "ipython3",
   "version": "3.9.12"
  },
  "latex_envs": {
   "LaTeX_envs_menu_present": true,
   "autoclose": false,
   "autocomplete": true,
   "bibliofile": "biblio.bib",
   "cite_by": "apalike",
   "current_citInitial": 1,
   "eqLabelWithNumbers": true,
   "eqNumInitial": 1,
   "hotkeys": {
    "equation": "Ctrl-E",
    "itemize": "Ctrl-I"
   },
   "labels_anchors": false,
   "latex_user_defs": false,
   "report_style_numbering": false,
   "user_envs_cfg": false
  },
  "nbTranslate": {
   "displayLangs": [
    "*"
   ],
   "hotkey": "alt-t",
   "langInMainMenu": true,
   "sourceLang": "en",
   "targetLang": "fr",
   "useGoogleTranslate": true
  },
  "toc": {
   "base_numbering": 1,
   "nav_menu": {},
   "number_sections": true,
   "sideBar": true,
   "skip_h1_title": false,
   "title_cell": "Table of Contents",
   "title_sidebar": "Contents",
   "toc_cell": false,
   "toc_position": {},
   "toc_section_display": true,
   "toc_window_display": false
  },
  "varInspector": {
   "cols": {
    "lenName": 16,
    "lenType": 16,
    "lenVar": 40
   },
   "kernels_config": {
    "python": {
     "delete_cmd_postfix": "",
     "delete_cmd_prefix": "del ",
     "library": "var_list.py",
     "varRefreshCmd": "print(var_dic_list())"
    },
    "r": {
     "delete_cmd_postfix": ") ",
     "delete_cmd_prefix": "rm(",
     "library": "var_list.r",
     "varRefreshCmd": "cat(var_dic_list()) "
    }
   },
   "types_to_exclude": [
    "module",
    "function",
    "builtin_function_or_method",
    "instance",
    "_Feature"
   ],
   "window_display": false
  }
 },
 "nbformat": 4,
 "nbformat_minor": 5
}
