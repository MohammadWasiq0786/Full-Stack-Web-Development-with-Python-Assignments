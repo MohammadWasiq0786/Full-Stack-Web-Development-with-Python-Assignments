{
 "cells": [
  {
   "cell_type": "markdown",
   "id": "662cfc81",
   "metadata": {},
   "source": [
    "![image](https://user-images.githubusercontent.com/57321948/196933065-4b16c235-f3b9-4391-9cfe-4affcec87c35.png)\n",
    "\n",
    "# Name: Mohammad Wasiq\n",
    "## Email: mohammadwasiq0786@gmail.com\n",
    "### Assignment 16"
   ]
  },
  {
   "cell_type": "markdown",
   "id": "217e9b33",
   "metadata": {},
   "source": [
    "# 1. Write a python script to store multiple items in a single variable ( Items are “Java” ,“Python”, “SQL”, “C” ) using tuple\n"
   ]
  },
  {
   "cell_type": "code",
   "execution_count": 1,
   "id": "55fba1d0",
   "metadata": {
    "ExecuteTime": {
     "end_time": "2023-02-22T18:21:12.180483Z",
     "start_time": "2023-02-22T18:21:12.162558Z"
    }
   },
   "outputs": [
    {
     "name": "stdout",
     "output_type": "stream",
     "text": [
      "('Java', 'Python', 'SQL', 'C')\n"
     ]
    }
   ],
   "source": [
    "item=(\"Java\",\"Python\",\"SQL\",\"C\")\n",
    "print(item)"
   ]
  },
  {
   "cell_type": "markdown",
   "id": "b20f90c4",
   "metadata": {},
   "source": [
    "# 2. Write a python program to store only one item using tuple."
   ]
  },
  {
   "cell_type": "code",
   "execution_count": 2,
   "id": "7970c54d",
   "metadata": {
    "ExecuteTime": {
     "end_time": "2023-02-22T18:21:47.027421Z",
     "start_time": "2023-02-22T18:21:47.019443Z"
    }
   },
   "outputs": [
    {
     "name": "stdout",
     "output_type": "stream",
     "text": [
      "Item :  ('iNeuron',)  and type :  <class 'tuple'>\n"
     ]
    }
   ],
   "source": [
    "item=(\"iNeuron\",)\n",
    "print(\"Item : \",item ,\" and type : \",type(item))"
   ]
  },
  {
   "cell_type": "markdown",
   "id": "80716eba",
   "metadata": {},
   "source": [
    "# 3. Write a python program to reverse the tuple."
   ]
  },
  {
   "cell_type": "code",
   "execution_count": 3,
   "id": "856a380b",
   "metadata": {
    "ExecuteTime": {
     "end_time": "2023-02-22T18:22:14.840460Z",
     "start_time": "2023-02-22T18:22:14.833484Z"
    }
   },
   "outputs": [
    {
     "name": "stdout",
     "output_type": "stream",
     "text": [
      "Normal tuple :  ('iNeuron', 'C#', 'Python', 'SQL', 'C++')\n",
      "Reverse tuple :  ('C++', 'SQL', 'Python', 'C#', 'iNeuron')\n"
     ]
    }
   ],
   "source": [
    "item=(\"iNeuron\",\"C#\",\"Python\",\"SQL\",\"C++\")\n",
    "print(\"Normal tuple : \",item)\n",
    "print(\"Reverse tuple : \",item[::-1])"
   ]
  },
  {
   "cell_type": "markdown",
   "id": "f488c67d",
   "metadata": {},
   "source": [
    "# 4. Write a python program to Swap two tuples in Python.."
   ]
  },
  {
   "cell_type": "code",
   "execution_count": 4,
   "id": "2fdaca8d",
   "metadata": {
    "ExecuteTime": {
     "end_time": "2023-02-22T18:22:47.461882Z",
     "start_time": "2023-02-22T18:22:47.438943Z"
    }
   },
   "outputs": [
    {
     "name": "stdout",
     "output_type": "stream",
     "text": [
      "Tuple 1 :  ('hey ', 'tuple ', ' 1')\n",
      "Tuple 2 :  ('hey ', 'tuple ', ' 2')\n",
      "\n",
      "After swapping : \n",
      "Tuple 1 :  ('hey ', 'tuple ', ' 2')\n",
      "TUple 2 :  ('hey ', 'tuple ', ' 1')\n"
     ]
    }
   ],
   "source": [
    "tup1=(\"hey \",\"tuple \",\" 1\")\n",
    "tup2=(\"hey \",\"tuple \",\" 2\")\n",
    "print(\"Tuple 1 : \",tup1)\n",
    "print(\"Tuple 2 : \",tup2)\n",
    "tup1,tup2=tup2,tup1\n",
    "print()\n",
    "\n",
    "print(\"After swapping : \")\n",
    "print(\"Tuple 1 : \",tup1)\n",
    "print(\"TUple 2 : \",tup2)"
   ]
  },
  {
   "cell_type": "markdown",
   "id": "58698815",
   "metadata": {},
   "source": [
    "# 5. Write a python program to check if all items in the tuple are the same"
   ]
  },
  {
   "cell_type": "code",
   "execution_count": 5,
   "id": "e26b0259",
   "metadata": {
    "ExecuteTime": {
     "end_time": "2023-02-22T18:23:29.344061Z",
     "start_time": "2023-02-22T18:23:29.328104Z"
    }
   },
   "outputs": [
    {
     "name": "stdout",
     "output_type": "stream",
     "text": [
      "All the items of tuple are same i.e  (1, 1, 1, 1)\n"
     ]
    }
   ],
   "source": [
    "tup=(1,1,1,1)\n",
    "flag=0\n",
    "for i in tup:\n",
    "    for j in tup:\n",
    "        if (i!=j):\n",
    "            print(\"All the items of tuple are not same i.e \",tup)\n",
    "            flag=1\n",
    "            break\n",
    "    if flag==1:\n",
    "        break\n",
    "else:\n",
    "    print(\"All the items of tuple are same i.e \",tup)"
   ]
  },
  {
   "cell_type": "markdown",
   "id": "390be2c2",
   "metadata": {},
   "source": [
    "# 6. Write a python program to divide the tuple into four variables. tuple1=(100, 200, 300, 400)"
   ]
  },
  {
   "cell_type": "code",
   "execution_count": 6,
   "id": "f78dbc40",
   "metadata": {
    "ExecuteTime": {
     "end_time": "2023-02-22T18:24:00.815657Z",
     "start_time": "2023-02-22T18:24:00.797695Z"
    }
   },
   "outputs": [
    {
     "name": "stdout",
     "output_type": "stream",
     "text": [
      "Tuple :  (100, 200, 300, 400)\n",
      "After dividing the tuple into 4 variables : \n",
      "a :  100\n",
      "b :  200\n",
      "c :  300\n",
      "d :  400\n"
     ]
    }
   ],
   "source": [
    "tuple1=(100, 200, 300, 400)\n",
    "print(\"Tuple : \",tuple1)\n",
    "print(\"After dividing the tuple into 4 variables : \")\n",
    "\n",
    "a,b,c,d=tuple1\n",
    "print(\"a : \",a)\n",
    "print(\"b : \",b)\n",
    "print(\"c : \",c)\n",
    "print(\"d : \",d)"
   ]
  },
  {
   "cell_type": "markdown",
   "id": "156b7eca",
   "metadata": {},
   "source": [
    "# 7. Write a python program to copy elements 4 and 5 from the following tuple into a new tuple. tuple1=(1,2,3,4,5,6)\n"
   ]
  },
  {
   "cell_type": "code",
   "execution_count": 7,
   "id": "a543a953",
   "metadata": {
    "ExecuteTime": {
     "end_time": "2023-02-22T18:24:34.713778Z",
     "start_time": "2023-02-22T18:24:34.704802Z"
    }
   },
   "outputs": [
    {
     "name": "stdout",
     "output_type": "stream",
     "text": [
      "after copy the tuple become :  (4, 5)\n"
     ]
    }
   ],
   "source": [
    "tuple1=(1,2,3,4,5,6)\n",
    "tup=()\n",
    "for i in tuple1:\n",
    "    if i==4 or i==5:\n",
    "        tup=tup+(i,)\n",
    "\n",
    "print(\"after copy the tuple become : \",tup)"
   ]
  },
  {
   "cell_type": "markdown",
   "id": "52981aa5",
   "metadata": {},
   "source": [
    "# 8. Write a python program to Sort a tuple of tuples by the second item.\n",
    "## `tuple1 = (('a', 21),('b', 37),('c', 11), ('d',29))`\n"
   ]
  },
  {
   "cell_type": "code",
   "execution_count": 8,
   "id": "3a32ee96",
   "metadata": {
    "ExecuteTime": {
     "end_time": "2023-02-22T18:25:03.567663Z",
     "start_time": "2023-02-22T18:25:03.549719Z"
    }
   },
   "outputs": [
    {
     "name": "stdout",
     "output_type": "stream",
     "text": [
      "Before sorting : \n",
      "(('a', 21), ('b', 37), ('c', 11), ('d', 29))\n",
      "After sorting by second item : \n",
      "(('c', 11), ('a', 21), ('d', 29), ('b', 37))\n"
     ]
    }
   ],
   "source": [
    "def sort_tup(tup):\n",
    "    l=len(tup)\n",
    "    for i in range(l):\n",
    "        for j in range(0,l-i-1):\n",
    "            if (tup[j][1]>tup[j+1][1]):\n",
    "                temp=tup[j]\n",
    "                tup[j]=tup[j+1]\n",
    "                tup[j+1]=temp\n",
    "    return tuple(tup)\n",
    "\n",
    "tuple1 = (('a', 21),('b', 37),('c', 11), ('d',29))\n",
    "print(\"Before sorting : \")\n",
    "print(tuple1)\n",
    "tuple1=list(tuple1)\n",
    "tup=sort_tup(tuple1)\n",
    "\n",
    "print(\"After sorting by second item : \")\n",
    "print(tup)"
   ]
  },
  {
   "cell_type": "markdown",
   "id": "09abbed1",
   "metadata": {},
   "source": [
    "# 9. Write a python program to print the value 20 from given nested tuple\n",
    "## `tuple1 = (\"Python\", [10, 20, 30], (2, 4, 16))`"
   ]
  },
  {
   "cell_type": "code",
   "execution_count": 10,
   "id": "8cd925b0",
   "metadata": {
    "ExecuteTime": {
     "end_time": "2023-02-22T18:27:51.819572Z",
     "start_time": "2023-02-22T18:27:51.810596Z"
    }
   },
   "outputs": [
    {
     "name": "stdout",
     "output_type": "stream",
     "text": [
      "20 is printed by tuple1[1][1] :  20\n"
     ]
    }
   ],
   "source": [
    "tuple1 = (\"Python\", [10, 20, 30], (2, 4, 16))\n",
    "\n",
    "print(\"20 is printed by tuple1[1][1] : \",tuple1[1][1])"
   ]
  },
  {
   "cell_type": "markdown",
   "id": "a415ad26",
   "metadata": {},
   "source": [
    "# 10. Write a python program to change the first item (22) of a list within the following tuple to 222.\n",
    "## `tuple1 = (11, [22, 33], 44, 55)`\n",
    "\n",
    "```py\n",
    "tuple1 = (11, [22, 33], 44, 55)\n",
    "\n",
    "tup=()\n",
    "for i in tuple1:\n",
    "    if type(i)!=int:\n",
    "        lis=[]\n",
    "        for j in i :\n",
    "            if j==22:\n",
    "                lis.append(222)\n",
    "                \n",
    "            else:\n",
    "                lis.append(j)\n",
    "                tup=tup+(lis,)  \n",
    "    else:\n",
    "        tup=tup+(i,)\n",
    "```"
   ]
  },
  {
   "cell_type": "code",
   "execution_count": 9,
   "id": "b58606ce",
   "metadata": {
    "ExecuteTime": {
     "end_time": "2023-02-22T18:26:58.106838Z",
     "start_time": "2023-02-22T18:26:58.087889Z"
    }
   },
   "outputs": [
    {
     "name": "stdout",
     "output_type": "stream",
     "text": [
      "tuple are :  (11, [222, 33], 44, 55)\n"
     ]
    }
   ],
   "source": [
    "tuple1 = (11, [22, 33], 44, 55)\n",
    "\n",
    "tuple1[1][0]=222\n",
    "print(\"tuple are : \",tuple1)"
   ]
  }
 ],
 "metadata": {
  "kernelspec": {
   "display_name": "Python 3 (ipykernel)",
   "language": "python",
   "name": "python3"
  },
  "language_info": {
   "codemirror_mode": {
    "name": "ipython",
    "version": 3
   },
   "file_extension": ".py",
   "mimetype": "text/x-python",
   "name": "python",
   "nbconvert_exporter": "python",
   "pygments_lexer": "ipython3",
   "version": "3.9.12"
  },
  "latex_envs": {
   "LaTeX_envs_menu_present": true,
   "autoclose": false,
   "autocomplete": true,
   "bibliofile": "biblio.bib",
   "cite_by": "apalike",
   "current_citInitial": 1,
   "eqLabelWithNumbers": true,
   "eqNumInitial": 1,
   "hotkeys": {
    "equation": "Ctrl-E",
    "itemize": "Ctrl-I"
   },
   "labels_anchors": false,
   "latex_user_defs": false,
   "report_style_numbering": false,
   "user_envs_cfg": false
  },
  "nbTranslate": {
   "displayLangs": [
    "*"
   ],
   "hotkey": "alt-t",
   "langInMainMenu": true,
   "sourceLang": "en",
   "targetLang": "fr",
   "useGoogleTranslate": true
  },
  "toc": {
   "base_numbering": 1,
   "nav_menu": {},
   "number_sections": true,
   "sideBar": true,
   "skip_h1_title": false,
   "title_cell": "Table of Contents",
   "title_sidebar": "Contents",
   "toc_cell": false,
   "toc_position": {},
   "toc_section_display": true,
   "toc_window_display": false
  },
  "varInspector": {
   "cols": {
    "lenName": 16,
    "lenType": 16,
    "lenVar": 40
   },
   "kernels_config": {
    "python": {
     "delete_cmd_postfix": "",
     "delete_cmd_prefix": "del ",
     "library": "var_list.py",
     "varRefreshCmd": "print(var_dic_list())"
    },
    "r": {
     "delete_cmd_postfix": ") ",
     "delete_cmd_prefix": "rm(",
     "library": "var_list.r",
     "varRefreshCmd": "cat(var_dic_list()) "
    }
   },
   "types_to_exclude": [
    "module",
    "function",
    "builtin_function_or_method",
    "instance",
    "_Feature"
   ],
   "window_display": false
  }
 },
 "nbformat": 4,
 "nbformat_minor": 5
}
