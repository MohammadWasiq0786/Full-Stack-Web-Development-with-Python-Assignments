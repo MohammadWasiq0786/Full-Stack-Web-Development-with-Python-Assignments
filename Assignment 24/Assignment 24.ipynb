{
 "cells": [
  {
   "cell_type": "markdown",
   "id": "2332d617",
   "metadata": {},
   "source": [
    "![image](https://user-images.githubusercontent.com/57321948/196933065-4b16c235-f3b9-4391-9cfe-4affcec87c35.png)\n",
    "\n",
    "# Name: Mohammad Wasiq\n",
    "## Email: mohammadwasiq0786@gmail.com\n",
    "### Assignment 24"
   ]
  },
  {
   "cell_type": "markdown",
   "id": "2eb369f6",
   "metadata": {},
   "source": [
    "# 1. Write a python program to create a user class with 3 properties : name, age, email."
   ]
  },
  {
   "cell_type": "code",
   "execution_count": 1,
   "id": "4fec9965",
   "metadata": {
    "ExecuteTime": {
     "end_time": "2023-02-23T04:52:21.527031Z",
     "start_time": "2023-02-23T04:52:21.502100Z"
    }
   },
   "outputs": [
    {
     "name": "stdout",
     "output_type": "stream",
     "text": [
      "Name :  Wasiq\n",
      "Age :  22\n",
      "Email :  mohammadwasiq0786@gmail.com\n",
      "Name :  Altamash\n",
      "Age :  20\n",
      "Email :  altamash0143@mail.com\n"
     ]
    }
   ],
   "source": [
    "class user:\n",
    "    def __init__(self,name,age,email) -> None:\n",
    "        self.name=name\n",
    "        self.age=age\n",
    "        self.email=email\n",
    "    \n",
    "    def showdata(self):\n",
    "        print(\"Name : \",self.name)\n",
    "        print(\"Age : \",self.age)\n",
    "        print(\"Email : \",self.email)\n",
    "\n",
    "\n",
    "wasiq=user('Wasiq',22,\"mohammadwasiq0786@gmail.com\")\n",
    "altamash=user(\"Altamash\",20,\"altamash0143@mail.com\")\n",
    "\n",
    "wasiq.showdata()\n",
    "altamash.showdata()"
   ]
  },
  {
   "cell_type": "markdown",
   "id": "8161d432",
   "metadata": {},
   "source": [
    "# 2. Write a python program to create a user class with a method to greet the user."
   ]
  },
  {
   "cell_type": "code",
   "execution_count": 2,
   "id": "714d6a9d",
   "metadata": {
    "ExecuteTime": {
     "end_time": "2023-02-23T04:52:59.095099Z",
     "start_time": "2023-02-23T04:52:48.741906Z"
    }
   },
   "outputs": [
    {
     "name": "stdout",
     "output_type": "stream",
     "text": [
      "Enter the name of user 1 : Wasiq\n",
      "Enter the name of user 2 : Altamash\n",
      "Welcome !  Wasiq\n",
      "Welcome !  Altamash\n"
     ]
    }
   ],
   "source": [
    "class user:\n",
    "    def __init__(self,name):\n",
    "        self.name=name\n",
    "    \n",
    "    def greet(self):\n",
    "        print(\"Welcome ! \",self.name)\n",
    "\n",
    "\n",
    "user1_name=input(\"Enter the name of user 1 : \")\n",
    "user1=user(user1_name)\n",
    "user2_name=input(\"Enter the name of user 2 : \")\n",
    "user2=user(user2_name)\n",
    "\n",
    "user1.greet()\n",
    "user2.greet()"
   ]
  },
  {
   "cell_type": "markdown",
   "id": "39793eb4",
   "metadata": {},
   "source": [
    "# 3. Write a python program to create 2 objects of the user class and assign different values."
   ]
  },
  {
   "cell_type": "code",
   "execution_count": 3,
   "id": "75716c87",
   "metadata": {
    "ExecuteTime": {
     "end_time": "2023-02-23T04:53:23.962577Z",
     "start_time": "2023-02-23T04:53:23.939642Z"
    }
   },
   "outputs": [
    {
     "name": "stdout",
     "output_type": "stream",
     "text": [
      "hello !  wasiq\n",
      "hello !  altamash\n"
     ]
    }
   ],
   "source": [
    "class user:\n",
    "    def __init__(self,name) -> None:\n",
    "        self.name=name\n",
    "    \n",
    "    def greet(self):\n",
    "        print(\"hello ! \",self.name)\n",
    "\n",
    "\n",
    "obj1=user(\"wasiq\")\n",
    "obj2=user(\"altamash\")\n",
    "\n",
    "obj1.greet()\n",
    "obj2.greet()"
   ]
  },
  {
   "cell_type": "markdown",
   "id": "5219eb7b",
   "metadata": {},
   "source": [
    "# 4. Write a python program to init default values for user object using `__init__` method."
   ]
  },
  {
   "cell_type": "code",
   "execution_count": 4,
   "id": "f7b0c4b8",
   "metadata": {
    "ExecuteTime": {
     "end_time": "2023-02-23T04:54:03.527740Z",
     "start_time": "2023-02-23T04:54:03.507794Z"
    }
   },
   "outputs": [
    {
     "name": "stdout",
     "output_type": "stream",
     "text": [
      "default value of user 1 are :  Google\n",
      "default value of user 2 are :  Google\n"
     ]
    }
   ],
   "source": [
    "class company:\n",
    "    def __init__(self):\n",
    "        self.company=\"Google\"\n",
    "    \n",
    "\n",
    "user1=company()\n",
    "user2=company()\n",
    "\n",
    "print(\"default value of user 1 are : \",user1.company)\n",
    "print(\"default value of user 2 are : \",user2.company)"
   ]
  },
  {
   "cell_type": "markdown",
   "id": "00396fa5",
   "metadata": {},
   "source": [
    "# 5. Write a python program to delete the age property of the user."
   ]
  },
  {
   "cell_type": "code",
   "execution_count": 5,
   "id": "3c20a4f7",
   "metadata": {
    "ExecuteTime": {
     "end_time": "2023-02-23T04:55:28.321048Z",
     "start_time": "2023-02-23T04:55:28.305092Z"
    }
   },
   "outputs": [
    {
     "name": "stdout",
     "output_type": "stream",
     "text": [
      "Name : Wasiq\n",
      "Age ;  22\n",
      "Name : Altamash\n",
      "Age ;  20\n"
     ]
    }
   ],
   "source": [
    "class user:\n",
    "    def __init__(self,name,age):\n",
    "        self.name=name\n",
    "        self.age=age\n",
    "    \n",
    "    def showdata(self):\n",
    "        print(\"Name :\" ,self.name)\n",
    "        print(\"Age ; \",self.age)\n",
    "\n",
    "\n",
    "obj1=user(\"Wasiq\",22)\n",
    "obj2=user(\"Altamash\",20)\n",
    "\n",
    "obj1.showdata()\n",
    "obj2.showdata()\n",
    "\n",
    "del obj1.age\n",
    "del obj2.age"
   ]
  },
  {
   "cell_type": "markdown",
   "id": "dd928366",
   "metadata": {},
   "source": [
    "# 6. Write a python program to create 3 user objects and find the youngest of all."
   ]
  },
  {
   "cell_type": "code",
   "execution_count": 6,
   "id": "734babf3",
   "metadata": {
    "ExecuteTime": {
     "end_time": "2023-02-23T04:56:19.370655Z",
     "start_time": "2023-02-23T04:56:05.637747Z"
    }
   },
   "outputs": [
    {
     "name": "stdout",
     "output_type": "stream",
     "text": [
      "Enter the age of user 1 : 22\n",
      "Enter the age of user 2 : 20\n",
      "Enter the age of user 3 : 14\n",
      "Youngest age are :  14  of  user3\n"
     ]
    }
   ],
   "source": [
    "class user:\n",
    "    def __init__(self,age):\n",
    "        self.age=age\n",
    "\n",
    "\n",
    "user1_age=int(input(\"Enter the age of user 1 : \"))\n",
    "user1=user(user1_age)\n",
    "\n",
    "user2_age=int(input(\"Enter the age of user 2 : \"))\n",
    "user2=user(user2_age)\n",
    "\n",
    "user3_age=int(input(\"Enter the age of user 3 : \"))\n",
    "user3=user(user3_age)\n",
    "\n",
    "youngest=min(user1.age,user2.age,user3.age)\n",
    " \n",
    "if youngest==user1_age:\n",
    "    youngest_user=\"user1\"\n",
    "elif youngest==user2_age:\n",
    "    youngest_user='user2'\n",
    "else:\n",
    "    youngest_user='user3'\n",
    "\n",
    "print(\"Youngest age are : \",youngest,\" of \",youngest_user)"
   ]
  },
  {
   "cell_type": "markdown",
   "id": "10db7d52",
   "metadata": {},
   "source": [
    "# 7. Write a python program to create a Laptop class with 4 attributes (brand, ram, cpu, hdd) and 2 methods (showConfig() to print the values, `__init__()` to initialize the values)."
   ]
  },
  {
   "cell_type": "code",
   "execution_count": 7,
   "id": "8c39c960",
   "metadata": {
    "ExecuteTime": {
     "end_time": "2023-02-23T04:57:02.716817Z",
     "start_time": "2023-02-23T04:57:02.703852Z"
    }
   },
   "outputs": [
    {
     "name": "stdout",
     "output_type": "stream",
     "text": [
      "Brand :  Apple\n",
      "Wasiq :  <__main__.user object at 0x000001FDC0742A00>\n",
      "Cpu :  m1\n",
      "Hdd :  500gb\n",
      "Brand :  Lenovo\n",
      "Wasiq :  <__main__.user object at 0x000001FDC0742A00>\n",
      "Cpu :  i5\n",
      "Hdd :  1tb\n"
     ]
    }
   ],
   "source": [
    "class laptop:\n",
    "    def __init__(self,brand,ram,cpu,hdd) -> None:\n",
    "        self.brand=brand\n",
    "        self.wasiq=wasiq\n",
    "        self.cpu=cpu\n",
    "        self.hdd=hdd\n",
    "\n",
    "    def showConfig(self):\n",
    "        print(\"Brand : \",self.brand)\n",
    "        print(\"Wasiq : \",self.wasiq)\n",
    "        print(\"Cpu : \",self.cpu)\n",
    "        print(\"Hdd : \",self.hdd)\n",
    "\n",
    "\n",
    "user1=laptop(\"Apple\",\"8gb\",\"m1\",\"500gb\")\n",
    "user2=laptop(\"Lenovo\",'16gb','i5','1tb')\n",
    "\n",
    "user1.showConfig()\n",
    "user2.showConfig()"
   ]
  },
  {
   "cell_type": "markdown",
   "id": "d0dc570c",
   "metadata": {},
   "source": [
    "# 8. WRT 7th Question, create 3 Laptop objects and add them to the list in the sorted order based on the ram size."
   ]
  },
  {
   "cell_type": "code",
   "execution_count": 8,
   "id": "3e1fca11",
   "metadata": {
    "ExecuteTime": {
     "end_time": "2023-02-23T04:57:35.582178Z",
     "start_time": "2023-02-23T04:57:35.559241Z"
    }
   },
   "outputs": [
    {
     "name": "stdout",
     "output_type": "stream",
     "text": [
      "Final list of object on the basis of there ram : \n",
      "['obj1', 'obj3', 'obj2']\n"
     ]
    }
   ],
   "source": [
    "class laptop:\n",
    "    def __init__(self,brand,wasiq,cpu,hdd) -> None:\n",
    "        self.brand=brand\n",
    "        self.wasiq=wasiq\n",
    "        self.cpu=cpu\n",
    "        self.hdd=hdd\n",
    "\n",
    "obj1=laptop(\"Apple\",8,'m1','500gb')\n",
    "obj2=laptop('Lenovo',32,'i5','1tb')\n",
    "obj3=laptop('HP',16,'i7','1tb')\n",
    "\n",
    "lis=[]\n",
    "lis=sorted([obj1.wasiq, obj2.wasiq, obj3.wasiq])\n",
    "finallist=[]\n",
    "for i in lis:\n",
    "    if i==obj1.wasiq:\n",
    "        finallist.append('obj1')\n",
    "    elif i==obj2.wasiq:\n",
    "        finallist.append('obj2')\n",
    "    else:\n",
    "        finallist.append('obj3')\n",
    "\n",
    "print(\"Final list of object on the basis of there ram : \")\n",
    "print(finallist)"
   ]
  },
  {
   "cell_type": "markdown",
   "id": "be69556b",
   "metadata": {},
   "source": [
    "# 9. Write a python program to create a School class and 3 instance variables and 1 class variable."
   ]
  },
  {
   "cell_type": "code",
   "execution_count": 9,
   "id": "506cc586",
   "metadata": {
    "ExecuteTime": {
     "end_time": "2023-02-23T04:58:11.891066Z",
     "start_time": "2023-02-23T04:58:11.868126Z"
    }
   },
   "outputs": [
    {
     "name": "stdout",
     "output_type": "stream",
     "text": [
      "Name :  Wasiq\n",
      "Age :  22\n",
      "Gender :  Male\n",
      "School :  iNeuron\n",
      "Name :  Aurat\n",
      "Age :  20\n",
      "Gender :  Female\n",
      "School :  iNeuron\n",
      "Name :  Altamash\n",
      "Age :  19\n",
      "Gender :  Male\n",
      "School :  iNeuron\n"
     ]
    }
   ],
   "source": [
    "class school:\n",
    "    school='iNeuron'\n",
    "    \n",
    "    def __init__(self,name,age,gender) -> None:\n",
    "        self.name=name\n",
    "        self.age=age\n",
    "        self.gender=gender\n",
    "\n",
    "    def showdata(self):\n",
    "        print(\"Name : \",self.name)\n",
    "        print(\"Age : \",self.age)\n",
    "        print(\"Gender : \",self.gender)\n",
    "        print(\"School : \",self.school)\n",
    "\n",
    "\n",
    "user1=school('Wasiq',22,'Male')\n",
    "user2=school(\"Aurat\",20,'Female')\n",
    "user3=school(\"Altamash\",19,'Male')\n",
    "\n",
    "user1.showdata()\n",
    "user2.showdata()\n",
    "user3.showdata()"
   ]
  },
  {
   "cell_type": "markdown",
   "id": "c9d58d9e",
   "metadata": {},
   "source": [
    "# 10. Define a class Employee with instance object variables empid, name, salary. Write `__init__()` method in the class to initialize instance object variables. Also define instance methods to input fields and display field values."
   ]
  },
  {
   "cell_type": "code",
   "execution_count": 10,
   "id": "1c5b7a33",
   "metadata": {
    "ExecuteTime": {
     "end_time": "2023-02-23T04:59:14.930349Z",
     "start_time": "2023-02-23T04:59:14.906415Z"
    }
   },
   "outputs": [
    {
     "name": "stdout",
     "output_type": "stream",
     "text": [
      "Emp_Id : 101\n",
      "Name :  Wasiq\n",
      "Salary :  10000000\n",
      "Emp_Id : 203\n",
      "Name :  Altamash\n",
      "Salary :  8000000\n"
     ]
    }
   ],
   "source": [
    "class Employee:\n",
    "\n",
    "    def __init__(self) -> None:\n",
    "        self.empid=0\n",
    "        self.name=0\n",
    "        self.salary=0\n",
    "    \n",
    "    def input(self,id,name,salary):\n",
    "        self.empid=id\n",
    "        self.name=name\n",
    "        self.salary=salary\n",
    "    \n",
    "    def display(self):\n",
    "        print(\"Emp_Id :\",self.empid)\n",
    "        print(\"Name : \",self.name)\n",
    "        print(\"Salary : \",self.salary)\n",
    "\n",
    "\n",
    "user1= Employee()\n",
    "user2= Employee()\n",
    "\n",
    "user1.input(\"101\",\"Wasiq\",10000000)\n",
    "user2.input(\"203\",\"Altamash\",8000000)\n",
    "\n",
    "user1.display()\n",
    "user2.display()"
   ]
  }
 ],
 "metadata": {
  "kernelspec": {
   "display_name": "Python 3 (ipykernel)",
   "language": "python",
   "name": "python3"
  },
  "language_info": {
   "codemirror_mode": {
    "name": "ipython",
    "version": 3
   },
   "file_extension": ".py",
   "mimetype": "text/x-python",
   "name": "python",
   "nbconvert_exporter": "python",
   "pygments_lexer": "ipython3",
   "version": "3.9.12"
  },
  "latex_envs": {
   "LaTeX_envs_menu_present": true,
   "autoclose": false,
   "autocomplete": true,
   "bibliofile": "biblio.bib",
   "cite_by": "apalike",
   "current_citInitial": 1,
   "eqLabelWithNumbers": true,
   "eqNumInitial": 1,
   "hotkeys": {
    "equation": "Ctrl-E",
    "itemize": "Ctrl-I"
   },
   "labels_anchors": false,
   "latex_user_defs": false,
   "report_style_numbering": false,
   "user_envs_cfg": false
  },
  "nbTranslate": {
   "displayLangs": [
    "*"
   ],
   "hotkey": "alt-t",
   "langInMainMenu": true,
   "sourceLang": "en",
   "targetLang": "fr",
   "useGoogleTranslate": true
  },
  "toc": {
   "base_numbering": 1,
   "nav_menu": {},
   "number_sections": true,
   "sideBar": true,
   "skip_h1_title": false,
   "title_cell": "Table of Contents",
   "title_sidebar": "Contents",
   "toc_cell": false,
   "toc_position": {},
   "toc_section_display": true,
   "toc_window_display": false
  },
  "varInspector": {
   "cols": {
    "lenName": 16,
    "lenType": 16,
    "lenVar": 40
   },
   "kernels_config": {
    "python": {
     "delete_cmd_postfix": "",
     "delete_cmd_prefix": "del ",
     "library": "var_list.py",
     "varRefreshCmd": "print(var_dic_list())"
    },
    "r": {
     "delete_cmd_postfix": ") ",
     "delete_cmd_prefix": "rm(",
     "library": "var_list.r",
     "varRefreshCmd": "cat(var_dic_list()) "
    }
   },
   "types_to_exclude": [
    "module",
    "function",
    "builtin_function_or_method",
    "instance",
    "_Feature"
   ],
   "window_display": false
  }
 },
 "nbformat": 4,
 "nbformat_minor": 5
}
