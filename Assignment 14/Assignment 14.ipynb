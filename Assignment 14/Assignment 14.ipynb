{
  "nbformat": 4,
  "nbformat_minor": 0,
  "metadata": {
    "colab": {
      "provenance": []
    },
    "kernelspec": {
      "name": "python3",
      "display_name": "Python 3"
    },
    "language_info": {
      "name": "python"
    }
  },
  "cells": [
    {
      "cell_type": "markdown",
      "source": [
        "![image](https://user-images.githubusercontent.com/57321948/196933065-4b16c235-f3b9-4391-9cfe-4affcec87c35.png)\n",
        "\n",
        "\n",
        "# Name: **Mohammad Wasiq**\n",
        "## Email: **mohammadwasiq0786@gmail.com**\n",
        "### Assignment 14"
      ],
      "metadata": {
        "id": "ihQkV_KWHc20"
      }
    },
    {
      "cell_type": "markdown",
      "source": [
        "# 1. Write a Python script to create a list of first N natural numbers."
      ],
      "metadata": {
        "id": "XAQAumxcXNm1"
      }
    },
    {
      "cell_type": "code",
      "source": [
        "n=int(input(\"Enter the range of natural numbers : \"))\n",
        "lis=[int(i) for i in range(1,n+1)]\n",
        "print(\"The list of first \",n,\" natural numbers are : \")\n",
        "print(lis)"
      ],
      "metadata": {
        "colab": {
          "base_uri": "https://localhost:8080/"
        },
        "id": "2AnY9JJ2XN-M",
        "outputId": "764baa1b-022c-4112-c434-45661f1d0806"
      },
      "execution_count": 109,
      "outputs": [
        {
          "output_type": "stream",
          "name": "stdout",
          "text": [
            "Enter the range of natural numbers : 5\n",
            "The list of first  5  natural numbers are : \n",
            "[1, 2, 3, 4, 5]\n"
          ]
        }
      ]
    },
    {
      "cell_type": "markdown",
      "source": [
        "# 2. Write a Python script to create a list of first N odd natural numbers"
      ],
      "metadata": {
        "id": "zLghOW3eXOJi"
      }
    },
    {
      "cell_type": "code",
      "source": [
        "n=int(input(\"Enter the range of odd natural numbers are  : \" ))\n",
        "i=0\n",
        "j=1\n",
        "lis=[]\n",
        "while i<n:\n",
        "    lis.append(j)\n",
        "    j+=2\n",
        "    i+=1\n",
        "\n",
        "# lis=[int(i) for i in range(1,n+1) if i%2!=0]\n",
        "print(\"The list of first \",n,\" odd natural numbers are :\")\n",
        "print(lis)"
      ],
      "metadata": {
        "colab": {
          "base_uri": "https://localhost:8080/"
        },
        "id": "8DX7QhcyXOTD",
        "outputId": "ae21a2c5-bf47-4c6c-b1bc-6d256064d846"
      },
      "execution_count": 110,
      "outputs": [
        {
          "output_type": "stream",
          "name": "stdout",
          "text": [
            "Enter the range of odd natural numbers are  : 5\n",
            "The list of first  5  odd natural numbers are :\n",
            "[1, 3, 5, 7, 9]\n"
          ]
        }
      ]
    },
    {
      "cell_type": "markdown",
      "source": [
        "# 3. Write a Python script to create a list of first N even natural numbers.\n",
        "\n"
      ],
      "metadata": {
        "id": "GmAj1J7aXOdR"
      }
    },
    {
      "cell_type": "code",
      "source": [
        "n= int(input(\"Enter the range of even natural numbers : \"))\n",
        "lis=[]\n",
        "i=2\n",
        "c=1\n",
        "while c<=n:\n",
        "    lis.append(i)\n",
        "    i+=2\n",
        "    c+=1\n",
        "print(\"The list of first \",n,\" natural numbers are : \")\n",
        "print(lis)"
      ],
      "metadata": {
        "colab": {
          "base_uri": "https://localhost:8080/"
        },
        "id": "om0lXe07XOm_",
        "outputId": "316fa25e-0776-4ca0-fb7a-ea85af630543"
      },
      "execution_count": 111,
      "outputs": [
        {
          "output_type": "stream",
          "name": "stdout",
          "text": [
            "Enter the range of even natural numbers : 5\n",
            "The list of first  5  natural numbers are : \n",
            "[2, 4, 6, 8, 10]\n"
          ]
        }
      ]
    },
    {
      "cell_type": "markdown",
      "source": [
        "# 4. Write a Python script to find the greatest number in a given list of numbers\n",
        "\n"
      ],
      "metadata": {
        "id": "a5sQNc2ZXOwv"
      }
    },
    {
      "cell_type": "code",
      "source": [
        "lis=[1,2,3,4,5,6]\n",
        "print(\"Greatest number in given list are : \",max(lis))"
      ],
      "metadata": {
        "colab": {
          "base_uri": "https://localhost:8080/"
        },
        "id": "9ATNq3w1XO7A",
        "outputId": "61d490ef-4242-455f-ca1b-7a2af1dff99d"
      },
      "execution_count": 112,
      "outputs": [
        {
          "output_type": "stream",
          "name": "stdout",
          "text": [
            "Greatest number in given list are :  6\n"
          ]
        }
      ]
    },
    {
      "cell_type": "markdown",
      "source": [
        "# 5. Write a Python script to find the smallest number in a given list of numbers\n",
        "\n"
      ],
      "metadata": {
        "id": "LdwNl9X0XPET"
      }
    },
    {
      "cell_type": "code",
      "source": [
        "lis=[1,2,3,4,5,6]\n",
        "print(\"Given list are : \",lis)\n",
        "print(\"Smallest number are : \",min(lis))"
      ],
      "metadata": {
        "colab": {
          "base_uri": "https://localhost:8080/"
        },
        "id": "iLIRbXJIX6oW",
        "outputId": "1d18fbff-c5b0-4179-9fdb-9505490d850f"
      },
      "execution_count": 113,
      "outputs": [
        {
          "output_type": "stream",
          "name": "stdout",
          "text": [
            "Given list are :  [1, 2, 3, 4, 5, 6]\n",
            "Smallest number are :  1\n"
          ]
        }
      ]
    },
    {
      "cell_type": "markdown",
      "source": [
        "# 6. Write a Python script to calculate the sum of elements in a given list of numbers."
      ],
      "metadata": {
        "id": "heHZ8nSbXPYW"
      }
    },
    {
      "cell_type": "code",
      "source": [
        "lis=[1,2,3,4,5]\n",
        "print(\"Given list are : \",lis)\n",
        "print(\"Sum of list are : \",sum(lis))"
      ],
      "metadata": {
        "colab": {
          "base_uri": "https://localhost:8080/"
        },
        "id": "QzPWDZ7nXPiS",
        "outputId": "01923a9d-35f7-4464-d2a9-280a32801283"
      },
      "execution_count": 114,
      "outputs": [
        {
          "output_type": "stream",
          "name": "stdout",
          "text": [
            "Given list are :  [1, 2, 3, 4, 5]\n",
            "Sum of list are :  15\n"
          ]
        }
      ]
    },
    {
      "cell_type": "markdown",
      "source": [
        "# 7. Write a Python script to remove all non int values from a list.\n",
        "```py\n",
        "ls=[]\n",
        "for i in lis:\n",
        "  \n",
        "  if type(i)==int:\n",
        "    ls.append(i)\n",
        "print(ls)\n",
        "```"
      ],
      "metadata": {
        "id": "Pw_yxp1HXPsT"
      }
    },
    {
      "cell_type": "code",
      "source": [
        "lis=[1,\"hello\",\"c#\",5,\"Python\",6,7]\n",
        "print(\"Initial list are : \")\n",
        "print(lis)\n",
        "\n",
        "lis=[x for x in lis if type(x)==int]\n",
        "print(\"After the removal of all non int values list are : \")\n",
        "print(lis)"
      ],
      "metadata": {
        "colab": {
          "base_uri": "https://localhost:8080/"
        },
        "id": "NQZj8gdTXP2k",
        "outputId": "6e41589d-d5c2-4ad4-944b-12ba47a49b80"
      },
      "execution_count": 115,
      "outputs": [
        {
          "output_type": "stream",
          "name": "stdout",
          "text": [
            "Initial list are : \n",
            "[1, 'hello', 'c#', 5, 'Python', 6, 7]\n",
            "After the removal of all non int values list are : \n",
            "[1, 5, 6, 7]\n"
          ]
        }
      ]
    },
    {
      "cell_type": "markdown",
      "source": [
        "# 8. Write a Python script to print distinct elements along with their frequencies of occurrence in the list\n"
      ],
      "metadata": {
        "id": "zjG7hAFxXQF6"
      }
    },
    {
      "cell_type": "code",
      "source": [
        "lis=[1,2,3,2,4,5,3,4]\n",
        "tup=[]\n",
        "for i in lis:\n",
        "    if i not in tup:\n",
        "        print(\"element - \",i, \"frequency of occurance - \",lis.count(i)) \n",
        "        tup.append(i)  "
      ],
      "metadata": {
        "colab": {
          "base_uri": "https://localhost:8080/"
        },
        "id": "7wlXH80FXQRH",
        "outputId": "c1773d73-c077-4e36-c7a2-24648bd0b2bd"
      },
      "execution_count": 116,
      "outputs": [
        {
          "output_type": "stream",
          "name": "stdout",
          "text": [
            "element -  1 frequency of occurance -  1\n",
            "element -  2 frequency of occurance -  2\n",
            "element -  3 frequency of occurance -  2\n",
            "element -  4 frequency of occurance -  2\n",
            "element -  5 frequency of occurance -  1\n"
          ]
        }
      ]
    },
    {
      "cell_type": "markdown",
      "source": [
        "# 9. Write a Python script to print indices of all occurrences of a given element in a given list.\n",
        "\n"
      ],
      "metadata": {
        "id": "L0FiP8fIXQbW"
      }
    },
    {
      "cell_type": "code",
      "source": [
        "lis=[1,2,3,4,5,3,5,4,7,4]\n",
        "print(\"the list are : \")\n",
        "print(lis)\n",
        "\n",
        "n=int(input(\"Enter the element : \"))\n",
        "i=0\n",
        "ind=[]\n",
        "for j in lis:\n",
        "    if j==n:\n",
        "        ind.append(i)\n",
        "    i+=1\n",
        "print(\"The indices of \",n,\" in a list are : \")\n",
        "print(ind)"
      ],
      "metadata": {
        "colab": {
          "base_uri": "https://localhost:8080/"
        },
        "id": "khzl6EaTXQln",
        "outputId": "7e09e5a7-61b1-427c-fcba-cde1e626b08e"
      },
      "execution_count": 117,
      "outputs": [
        {
          "output_type": "stream",
          "name": "stdout",
          "text": [
            "the list are : \n",
            "[1, 2, 3, 4, 5, 3, 5, 4, 7, 4]\n",
            "Enter the element : 5\n",
            "The indices of  5  in a list are : \n",
            "[4, 6]\n"
          ]
        }
      ]
    },
    {
      "cell_type": "markdown",
      "source": [
        "# 10. Write a python script to sort a list."
      ],
      "metadata": {
        "id": "arx_GBWQXQwH"
      }
    },
    {
      "cell_type": "code",
      "source": [
        "lis=[1,9,2,8,3,7,4,6,5,10]\n",
        "print(\"Before sorting list are : \")\n",
        "print(lis)\n",
        "lis.sort()\n",
        "print(\"After sorting list are : \")\n",
        "print(lis)"
      ],
      "metadata": {
        "colab": {
          "base_uri": "https://localhost:8080/"
        },
        "id": "KlIoqPb8XQ60",
        "outputId": "4ab02162-12df-4590-83b2-0dc6900d653d"
      },
      "execution_count": 118,
      "outputs": [
        {
          "output_type": "stream",
          "name": "stdout",
          "text": [
            "Before sorting list are : \n",
            "[1, 9, 2, 8, 3, 7, 4, 6, 5, 10]\n",
            "After sorting list are : \n",
            "[1, 2, 3, 4, 5, 6, 7, 8, 9, 10]\n"
          ]
        }
      ]
    }
  ]
}