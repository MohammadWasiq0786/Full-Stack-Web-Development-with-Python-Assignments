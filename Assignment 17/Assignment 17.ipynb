{
 "cells": [
  {
   "cell_type": "markdown",
   "id": "937edf78",
   "metadata": {},
   "source": [
    "![image](https://user-images.githubusercontent.com/57321948/196933065-4b16c235-f3b9-4391-9cfe-4affcec87c35.png)\n",
    "\n",
    "# Name: Mohammad Wasiq\n",
    "## Email: mohammadwasiq0786@gmail.com\n",
    "### Assignment 17"
   ]
  },
  {
   "cell_type": "markdown",
   "id": "f9f7cd32",
   "metadata": {},
   "source": [
    "# 1. Write a python program to store all the programming languages known to you using Set"
   ]
  },
  {
   "cell_type": "code",
   "execution_count": 1,
   "id": "580634d6",
   "metadata": {
    "ExecuteTime": {
     "end_time": "2023-02-22T18:32:24.620152Z",
     "start_time": "2023-02-22T18:32:20.102558Z"
    }
   },
   "outputs": [
    {
     "name": "stdout",
     "output_type": "stream",
     "text": [
      "Enter the programming languages known to you : Python\n",
      "languages names are : \n",
      "{'Python'}\n",
      "Type of s are :  <class 'set'>\n"
     ]
    }
   ],
   "source": [
    "s={i for i in input(\"Enter the programming languages known to you : \").split(\" \")}\n",
    "print(\"languages names are : \")\n",
    "print(s)\n",
    "print(\"Type of s are : \",type(s))"
   ]
  },
  {
   "cell_type": "markdown",
   "id": "d5b7b9ba",
   "metadata": {},
   "source": [
    "# 2. Write a python program to delete the set completely."
   ]
  },
  {
   "cell_type": "code",
   "execution_count": 2,
   "id": "c4192a9d",
   "metadata": {
    "ExecuteTime": {
     "end_time": "2023-02-22T18:32:44.780760Z",
     "start_time": "2023-02-22T18:32:44.765796Z"
    }
   },
   "outputs": [
    {
     "name": "stdout",
     "output_type": "stream",
     "text": [
      "Given set are :  {'SQL', 'Python', 'Django', 'JavaScript'}\n",
      "After deletion of set set()\n"
     ]
    }
   ],
   "source": [
    "thisset = { \"Python\", \"Django\", \"JavaScript\", \"SQL\" }\n",
    "print(\"Given set are : \",thisset)\n",
    "\n",
    "thisset.clear()\n",
    "print(\"After deletion of set\",thisset)"
   ]
  },
  {
   "cell_type": "markdown",
   "id": "21040ae4",
   "metadata": {},
   "source": [
    "# 3. Write a python program to delete the set completely.\n"
   ]
  },
  {
   "cell_type": "code",
   "execution_count": 3,
   "id": "d971e547",
   "metadata": {
    "ExecuteTime": {
     "end_time": "2023-02-22T18:33:04.660086Z",
     "start_time": "2023-02-22T18:33:04.639142Z"
    }
   },
   "outputs": [
    {
     "name": "stdout",
     "output_type": "stream",
     "text": [
      "Given set are :  {'SQL', 'Python', 'Django', 'JavaScript'}\n",
      "After deletion of set set()\n"
     ]
    }
   ],
   "source": [
    "thisset = { \"Python\", \"Django\", \"JavaScript\", \"SQL\" }\n",
    "print(\"Given set are : \",thisset)\n",
    "\n",
    "thisset.clear()\n",
    "print(\"After deletion of set\",thisset)"
   ]
  },
  {
   "cell_type": "markdown",
   "id": "61de8086",
   "metadata": {},
   "source": [
    "# 4. Write a Python script to find if “Python” is present in the set thisset = {\"Java\", \"Python\", \"Django\"}\n"
   ]
  },
  {
   "cell_type": "code",
   "execution_count": 4,
   "id": "1b439b82",
   "metadata": {
    "ExecuteTime": {
     "end_time": "2023-02-22T18:33:27.860891Z",
     "start_time": "2023-02-22T18:33:27.840948Z"
    }
   },
   "outputs": [
    {
     "name": "stdout",
     "output_type": "stream",
     "text": [
      "Python is present in given set \n"
     ]
    }
   ],
   "source": [
    "thisset = {\"Java\",\"Python\", \"Django\"}\n",
    "for i in thisset:\n",
    "    if i=='Python':\n",
    "        print(\"Python is present in given set \")\n",
    "        break\n",
    "else:\n",
    "    print(\"Python is not present in given set\")"
   ]
  },
  {
   "cell_type": "markdown",
   "id": "1fbc5b59",
   "metadata": {},
   "source": [
    "# 5. Write a python program to add items from another set to the current set. \n",
    "## `thisset= {\"Java\", \"Python\", \"SQL\"}`\n",
    "## `secondset= {\"C\", \"Cpp\", \"NoSQL\"}`\n"
   ]
  },
  {
   "cell_type": "code",
   "execution_count": 5,
   "id": "81d3ba12",
   "metadata": {
    "ExecuteTime": {
     "end_time": "2023-02-22T18:34:01.079477Z",
     "start_time": "2023-02-22T18:34:01.069503Z"
    }
   },
   "outputs": [
    {
     "name": "stdout",
     "output_type": "stream",
     "text": [
      "thisset set : {'SQL', 'Python', 'Java'}\n",
      "second set :  {'C', 'NoSQL', 'Cpp'}\n",
      "\n",
      "After addition of items from another set to the current set are : \n",
      "{'Python', 'Cpp', 'C', 'Java', 'SQL', 'NoSQL'}\n"
     ]
    }
   ],
   "source": [
    "thisset = {\"Java\", \"Python\", \"SQL\"}\n",
    "secondset= {\"C\", \"Cpp\", \"NoSQL\"}\n",
    "\n",
    "print(\"thisset set :\",thisset)\n",
    "print(\"second set : \",secondset)\n",
    "\n",
    "for i in secondset:\n",
    "    thisset.add(i)\n",
    "\n",
    "print()\n",
    "print(\"After addition of items from another set to the current set are : \")\n",
    "print(thisset)"
   ]
  },
  {
   "cell_type": "markdown",
   "id": "bcb9800c",
   "metadata": {},
   "source": [
    "# 6. Write a python program to add elements of list to a set\n",
    "## `thisset = {\"Python\", \"Django\", \"JavaScript\"}`\n",
    "## `mylist = [\"Java\", \"C\"]`"
   ]
  },
  {
   "cell_type": "code",
   "execution_count": 6,
   "id": "983ecbc5",
   "metadata": {
    "ExecuteTime": {
     "end_time": "2023-02-22T18:35:14.307604Z",
     "start_time": "2023-02-22T18:35:14.285672Z"
    }
   },
   "outputs": [
    {
     "name": "stdout",
     "output_type": "stream",
     "text": [
      "set :  {'Python', 'Django', 'JavaScript'}\n",
      "list :  ['Java', 'C']\n",
      "After the addition of list element to the set : \n",
      "{'Python', 'C', 'Java', 'JavaScript', 'Django'}\n"
     ]
    }
   ],
   "source": [
    "thisset = {\"Python\", \"Django\", \"JavaScript\"}\n",
    "mylist = [\"Java\", \"C\"]\n",
    "\n",
    "print(\"set : \",thisset)\n",
    "print(\"list : \",mylist)\n",
    "\n",
    "for i in mylist:\n",
    "    thisset.add(i)\n",
    "\n",
    "print(\"After the addition of list element to the set : \")\n",
    "print(thisset)"
   ]
  },
  {
   "cell_type": "markdown",
   "id": "449a7cd1",
   "metadata": {},
   "source": [
    "# 7. Write a python program to remove last item of the given set\n",
    "## `thisset = {\"Python\", \"Django\", \"JavaScript\", “SQL”}`"
   ]
  },
  {
   "cell_type": "code",
   "execution_count": 7,
   "id": "2b04701e",
   "metadata": {
    "ExecuteTime": {
     "end_time": "2023-02-22T18:35:43.110330Z",
     "start_time": "2023-02-22T18:35:43.094373Z"
    }
   },
   "outputs": [
    {
     "name": "stdout",
     "output_type": "stream",
     "text": [
      "set :  {'SQL', 'Python', 'Django', 'JavaScript'}\n",
      "Last element are :  JavaScript\n",
      "After removing the last item of the given set : \n",
      "{'SQL', 'Python', 'Django'}\n"
     ]
    }
   ],
   "source": [
    "thisset = { \"Python\", \"Django\", \"JavaScript\", \"SQL\" }\n",
    "print(\"set : \",thisset)\n",
    "\n",
    "x=list(thisset)[-1]\n",
    "print(\"Last element are : \",x)\n",
    "\n",
    "thisset.discard(x)\n",
    "print(\"After removing the last item of the given set : \")\n",
    "print(thisset)"
   ]
  },
  {
   "cell_type": "markdown",
   "id": "bbb23d00",
   "metadata": {},
   "source": [
    "# 8. Write a python program to delete the set completely."
   ]
  },
  {
   "cell_type": "code",
   "execution_count": 8,
   "id": "ec90fc5e",
   "metadata": {
    "ExecuteTime": {
     "end_time": "2023-02-22T18:36:24.763759Z",
     "start_time": "2023-02-22T18:36:24.742831Z"
    }
   },
   "outputs": [
    {
     "name": "stdout",
     "output_type": "stream",
     "text": [
      "Given set are :  {'SQL', 'Python', 'Django', 'JavaScript'}\n",
      "After deletion of set set()\n"
     ]
    }
   ],
   "source": [
    "thisset = { \"Python\", \"Django\", \"JavaScript\", \"SQL\" }\n",
    "print(\"Given set are : \",thisset)\n",
    "\n",
    "thisset.clear()\n",
    "print(\"After deletion of set\",thisset)"
   ]
  },
  {
   "cell_type": "markdown",
   "id": "9f6f7e17",
   "metadata": {},
   "source": [
    "# 9. Write a python program to loop through the set and print values\n",
    "## `thisset = {\"Python\", \"Django\", \"JavaScript\", “SQL”}`"
   ]
  },
  {
   "cell_type": "code",
   "execution_count": 9,
   "id": "551aee23",
   "metadata": {
    "ExecuteTime": {
     "end_time": "2023-02-22T18:36:56.733302Z",
     "start_time": "2023-02-22T18:36:56.716349Z"
    }
   },
   "outputs": [
    {
     "name": "stdout",
     "output_type": "stream",
     "text": [
      "The value of set are : \n",
      "SQL\n",
      "Python\n",
      "Django\n",
      "JavaScript\n"
     ]
    }
   ],
   "source": [
    "thisset = {\"Python\", \"Django\", \"JavaScript\", \"SQL\"}\n",
    "print(\"The value of set are : \")\n",
    "for i in thisset:\n",
    "    print(i)"
   ]
  },
  {
   "cell_type": "markdown",
   "id": "d9096adf",
   "metadata": {},
   "source": [
    "# 10. Write a python program to find the maximum and minimum value in a set."
   ]
  },
  {
   "cell_type": "code",
   "execution_count": 10,
   "id": "ab0120c0",
   "metadata": {
    "ExecuteTime": {
     "end_time": "2023-02-22T18:37:25.920882Z",
     "start_time": "2023-02-22T18:37:25.900936Z"
    }
   },
   "outputs": [
    {
     "name": "stdout",
     "output_type": "stream",
     "text": [
      "maximum element in the given set are :  7\n",
      "minimum element in the given set are :  1\n"
     ]
    }
   ],
   "source": [
    "s={1,2,3,4,5,6,7}\n",
    "print(\"maximum element in the given set are : \",max(s))\n",
    "print(\"minimum element in the given set are : \",min(s))"
   ]
  }
 ],
 "metadata": {
  "kernelspec": {
   "display_name": "Python 3 (ipykernel)",
   "language": "python",
   "name": "python3"
  },
  "language_info": {
   "codemirror_mode": {
    "name": "ipython",
    "version": 3
   },
   "file_extension": ".py",
   "mimetype": "text/x-python",
   "name": "python",
   "nbconvert_exporter": "python",
   "pygments_lexer": "ipython3",
   "version": "3.9.12"
  },
  "latex_envs": {
   "LaTeX_envs_menu_present": true,
   "autoclose": false,
   "autocomplete": true,
   "bibliofile": "biblio.bib",
   "cite_by": "apalike",
   "current_citInitial": 1,
   "eqLabelWithNumbers": true,
   "eqNumInitial": 1,
   "hotkeys": {
    "equation": "Ctrl-E",
    "itemize": "Ctrl-I"
   },
   "labels_anchors": false,
   "latex_user_defs": false,
   "report_style_numbering": false,
   "user_envs_cfg": false
  },
  "nbTranslate": {
   "displayLangs": [
    "*"
   ],
   "hotkey": "alt-t",
   "langInMainMenu": true,
   "sourceLang": "en",
   "targetLang": "fr",
   "useGoogleTranslate": true
  },
  "toc": {
   "base_numbering": 1,
   "nav_menu": {},
   "number_sections": true,
   "sideBar": true,
   "skip_h1_title": false,
   "title_cell": "Table of Contents",
   "title_sidebar": "Contents",
   "toc_cell": false,
   "toc_position": {},
   "toc_section_display": true,
   "toc_window_display": false
  },
  "varInspector": {
   "cols": {
    "lenName": 16,
    "lenType": 16,
    "lenVar": 40
   },
   "kernels_config": {
    "python": {
     "delete_cmd_postfix": "",
     "delete_cmd_prefix": "del ",
     "library": "var_list.py",
     "varRefreshCmd": "print(var_dic_list())"
    },
    "r": {
     "delete_cmd_postfix": ") ",
     "delete_cmd_prefix": "rm(",
     "library": "var_list.r",
     "varRefreshCmd": "cat(var_dic_list()) "
    }
   },
   "types_to_exclude": [
    "module",
    "function",
    "builtin_function_or_method",
    "instance",
    "_Feature"
   ],
   "window_display": false
  }
 },
 "nbformat": 4,
 "nbformat_minor": 5
}
