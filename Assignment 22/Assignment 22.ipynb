{
 "cells": [
  {
   "cell_type": "markdown",
   "id": "60063534",
   "metadata": {},
   "source": [
    "![image](https://user-images.githubusercontent.com/57321948/196933065-4b16c235-f3b9-4391-9cfe-4affcec87c35.png)\n",
    "\n",
    "# Name: Mohammad Wasiq\n",
    "## Email: mohammadwasiq0786@gmail.com\n",
    "### Assignment 22"
   ]
  },
  {
   "cell_type": "markdown",
   "id": "f8c5bb3a",
   "metadata": {},
   "source": [
    "# 1. Write a recursive python function to calculate sum of first N natural numbers."
   ]
  },
  {
   "cell_type": "code",
   "execution_count": 1,
   "id": "2998159c",
   "metadata": {
    "ExecuteTime": {
     "end_time": "2023-02-23T04:37:17.726149Z",
     "start_time": "2023-02-23T04:37:16.093379Z"
    }
   },
   "outputs": [
    {
     "name": "stdout",
     "output_type": "stream",
     "text": [
      "Enter the number : 5\n",
      "Sum of first  5  natural numbers are : \n",
      "15\n"
     ]
    }
   ],
   "source": [
    "def sum_of_natural(num,sum):\n",
    "    if num:\n",
    "        sum+= num\n",
    "        num-=1\n",
    "        return sum_of_natural(num,sum)\n",
    "    return sum\n",
    "\n",
    "num=int(input(\"Enter the number : \"))\n",
    "print(\"Sum of first \",num,\" natural numbers are : \")\n",
    "print(sum_of_natural(num,0))"
   ]
  },
  {
   "cell_type": "markdown",
   "id": "6df537be",
   "metadata": {},
   "source": [
    "# 2. Write a recursive python function to calculate sum of first N odd natural numbers."
   ]
  },
  {
   "cell_type": "code",
   "execution_count": 2,
   "id": "8e1cba69",
   "metadata": {
    "ExecuteTime": {
     "end_time": "2023-02-23T04:37:55.975677Z",
     "start_time": "2023-02-23T04:37:52.047187Z"
    }
   },
   "outputs": [
    {
     "name": "stdout",
     "output_type": "stream",
     "text": [
      "Enter the number : 5\n",
      "Sum of first  5  odd natural numbers are : \n",
      "25\n"
     ]
    }
   ],
   "source": [
    "def oddsum(num,sum):\n",
    "    if num:\n",
    "        sum+=2*num-1\n",
    "        num-=1\n",
    "        return oddsum(num,sum)\n",
    "    return sum\n",
    "\n",
    "num=int(input(\"Enter the number : \"))\n",
    "print(\"Sum of first \",num,\" odd natural numbers are : \")\n",
    "print(oddsum(num,0))"
   ]
  },
  {
   "cell_type": "markdown",
   "id": "5c2f57b6",
   "metadata": {},
   "source": [
    "# 3. Write a recursive python function to calculate sum of first N even natural numbers."
   ]
  },
  {
   "cell_type": "code",
   "execution_count": 3,
   "id": "dd0e9a7d",
   "metadata": {
    "ExecuteTime": {
     "end_time": "2023-02-23T04:38:25.645587Z",
     "start_time": "2023-02-23T04:38:19.966611Z"
    }
   },
   "outputs": [
    {
     "name": "stdout",
     "output_type": "stream",
     "text": [
      "Enter the number : 5\n",
      "Sum of first  5  even natural numbers are : \n",
      "30\n"
     ]
    }
   ],
   "source": [
    "def evensum(num,sum):\n",
    "    if num:\n",
    "        sum+=2*num\n",
    "        num-=1\n",
    "        return evensum(num,sum)\n",
    "    return sum\n",
    "\n",
    "num=int(input(\"Enter the number : \"))\n",
    "print(\"Sum of first \",num,\" even natural numbers are : \")\n",
    "print(evensum(num,0))\n"
   ]
  },
  {
   "cell_type": "markdown",
   "id": "bedfb71f",
   "metadata": {},
   "source": [
    "# 4. Write a recursive python function to calculate sum of squares of first N natural numbers."
   ]
  },
  {
   "cell_type": "code",
   "execution_count": 4,
   "id": "28e6c643",
   "metadata": {
    "ExecuteTime": {
     "end_time": "2023-02-23T04:39:17.355342Z",
     "start_time": "2023-02-23T04:39:15.050816Z"
    }
   },
   "outputs": [
    {
     "name": "stdout",
     "output_type": "stream",
     "text": [
      "Enter the number : 5\n",
      "Sum of sqaure of first  5  natural numbers are : \n",
      "55\n"
     ]
    }
   ],
   "source": [
    "def sqsum(num,sum):\n",
    "    if num:\n",
    "        sum+=num**2\n",
    "        num-=1\n",
    "        return sqsum(num,sum)\n",
    "    return sum\n",
    "\n",
    "num=int(input(\"Enter the number : \"))\n",
    "print(\"Sum of sqaure of first \",num,\" natural numbers are : \")\n",
    "print(sqsum(num,0))"
   ]
  },
  {
   "cell_type": "markdown",
   "id": "e383c7f3",
   "metadata": {},
   "source": [
    "# 5. Write a recursive python function to calculate sum of cubes of first N natural numbers."
   ]
  },
  {
   "cell_type": "code",
   "execution_count": 5,
   "id": "ca4ebecb",
   "metadata": {
    "ExecuteTime": {
     "end_time": "2023-02-23T04:39:50.782954Z",
     "start_time": "2023-02-23T04:39:47.739403Z"
    }
   },
   "outputs": [
    {
     "name": "stdout",
     "output_type": "stream",
     "text": [
      "Enter the number : 5\n",
      "Sum of cubes of first  5  natural numbers are : \n",
      "225\n"
     ]
    }
   ],
   "source": [
    "def cubesum(num,sum):\n",
    "    if num:\n",
    "        sum+=num**3\n",
    "        num-=1\n",
    "        return cubesum(num,sum)\n",
    "    return sum\n",
    "\n",
    "num=int(input(\"Enter the number : \"))\n",
    "print(\"Sum of cubes of first \",num,\" natural numbers are : \")\n",
    "print(cubesum(num,0))"
   ]
  },
  {
   "cell_type": "markdown",
   "id": "387356df",
   "metadata": {},
   "source": [
    "# 6. Write a recursive python function to calculate the factorial of a number."
   ]
  },
  {
   "cell_type": "code",
   "execution_count": 6,
   "id": "78e56459",
   "metadata": {
    "ExecuteTime": {
     "end_time": "2023-02-23T04:40:18.725049Z",
     "start_time": "2023-02-23T04:40:14.965695Z"
    }
   },
   "outputs": [
    {
     "name": "stdout",
     "output_type": "stream",
     "text": [
      "Enter the number : 5\n",
      "The factorial of  5  are : \n",
      "120\n"
     ]
    }
   ],
   "source": [
    "def fac(num):\n",
    "    if num==0:\n",
    "        return 1\n",
    "    else:\n",
    "        return num*fac(num-1)\n",
    "\n",
    "num=int(input(\"Enter the number : \"))\n",
    "print(\"The factorial of \",num,\" are : \")\n",
    "print(fac(num))"
   ]
  },
  {
   "cell_type": "markdown",
   "id": "8e3433dc",
   "metadata": {},
   "source": [
    "# 7. Write a recursive python function to calculate sum of the digits of a given number."
   ]
  },
  {
   "cell_type": "code",
   "execution_count": 7,
   "id": "e7edce24",
   "metadata": {
    "ExecuteTime": {
     "end_time": "2023-02-23T04:40:42.841191Z",
     "start_time": "2023-02-23T04:40:40.259393Z"
    }
   },
   "outputs": [
    {
     "name": "stdout",
     "output_type": "stream",
     "text": [
      "Enter the number : 5\n",
      "The sum of the digits of a given number ( 5 ) are : \n",
      "5\n"
     ]
    }
   ],
   "source": [
    "def digit_sum(num,sum):\n",
    "    if num:\n",
    "        r=num%10\n",
    "        sum+=r\n",
    "        num=num//10\n",
    "        return digit_sum(num,sum)\n",
    "    return sum\n",
    "\n",
    "num=int(input(\"Enter the number : \"))\n",
    "print(\"The sum of the digits of a given number (\",num,\") are : \")\n",
    "print(digit_sum(num,0))\n"
   ]
  },
  {
   "cell_type": "markdown",
   "id": "37c258b7",
   "metadata": {},
   "source": [
    "# 8. Write a recursive python function to print binary of a given decimal number."
   ]
  },
  {
   "cell_type": "code",
   "execution_count": 8,
   "id": "c8cf3f26",
   "metadata": {
    "ExecuteTime": {
     "end_time": "2023-02-23T04:41:14.246236Z",
     "start_time": "2023-02-23T04:41:09.021722Z"
    }
   },
   "outputs": [
    {
     "name": "stdout",
     "output_type": "stream",
     "text": [
      "Enter the number : 10\n",
      "The binary of given decimal number ( 10 ) are : \n",
      "1010\n"
     ]
    }
   ],
   "source": [
    "def binary(num,lis):\n",
    "    if num:\n",
    "        r=num%2\n",
    "        lis.append(r)\n",
    "        num=num//2\n",
    "        return binary(num,lis)\n",
    "    return lis\n",
    "\n",
    "\n",
    "num=int(input(\"Enter the number : \"))\n",
    "print(\"The binary of given decimal number (\",num,\") are : \")\n",
    "lis=binary(num,[])\n",
    "lis.reverse()\n",
    "num=0\n",
    "for i in lis:\n",
    "    num=num*10+i\n",
    "\n",
    "print(num)\n"
   ]
  },
  {
   "cell_type": "markdown",
   "id": "0b91006e",
   "metadata": {},
   "source": [
    "# 9. Write a recursive python function to print octal of a given decimal number."
   ]
  },
  {
   "cell_type": "code",
   "execution_count": 9,
   "id": "c774e937",
   "metadata": {
    "ExecuteTime": {
     "end_time": "2023-02-23T04:41:55.922709Z",
     "start_time": "2023-02-23T04:41:50.991373Z"
    }
   },
   "outputs": [
    {
     "name": "stdout",
     "output_type": "stream",
     "text": [
      "Enter the number : 10\n",
      "octal of given decimal number ( 10 ) are : \n",
      "[1, 2]\n",
      "12\n"
     ]
    }
   ],
   "source": [
    "def octal(num,lis):\n",
    "    if num:\n",
    "        r=num%8\n",
    "        lis.append(r)\n",
    "        num=num//8\n",
    "        return octal(num,lis)\n",
    "    return lis\n",
    "\n",
    "num=int(input(\"Enter the number : \"))\n",
    "print(\"octal of given decimal number (\",num,\") are : \")\n",
    "lis=octal(num,[])\n",
    "lis.reverse()\n",
    "num=0\n",
    "print(lis)\n",
    "for i in lis:\n",
    "    num=num*10+i\n",
    "print(num)"
   ]
  },
  {
   "cell_type": "markdown",
   "id": "7bea0463",
   "metadata": {},
   "source": [
    "# 10. Write a recursive python function to find the Nth term of the Fibonacci series."
   ]
  },
  {
   "cell_type": "code",
   "execution_count": 10,
   "id": "ea98ac37",
   "metadata": {
    "ExecuteTime": {
     "end_time": "2023-02-23T04:42:30.736818Z",
     "start_time": "2023-02-23T04:42:27.803663Z"
    }
   },
   "outputs": [
    {
     "name": "stdout",
     "output_type": "stream",
     "text": [
      "Enter the number : 10\n",
      "The  10  term of fibonacci series are : \n",
      "34\n"
     ]
    }
   ],
   "source": [
    "def term(n):\n",
    "    if n<=2:\n",
    "        return n-1\n",
    "    return term(n-1)+term(n-2)\n",
    "\n",
    "num=int(input(\"Enter the number : \"))\n",
    "print(\"The \",num,\" term of fibonacci series are : \")\n",
    "print(term(num))"
   ]
  }
 ],
 "metadata": {
  "kernelspec": {
   "display_name": "Python 3 (ipykernel)",
   "language": "python",
   "name": "python3"
  },
  "language_info": {
   "codemirror_mode": {
    "name": "ipython",
    "version": 3
   },
   "file_extension": ".py",
   "mimetype": "text/x-python",
   "name": "python",
   "nbconvert_exporter": "python",
   "pygments_lexer": "ipython3",
   "version": "3.9.12"
  },
  "latex_envs": {
   "LaTeX_envs_menu_present": true,
   "autoclose": false,
   "autocomplete": true,
   "bibliofile": "biblio.bib",
   "cite_by": "apalike",
   "current_citInitial": 1,
   "eqLabelWithNumbers": true,
   "eqNumInitial": 1,
   "hotkeys": {
    "equation": "Ctrl-E",
    "itemize": "Ctrl-I"
   },
   "labels_anchors": false,
   "latex_user_defs": false,
   "report_style_numbering": false,
   "user_envs_cfg": false
  },
  "nbTranslate": {
   "displayLangs": [
    "*"
   ],
   "hotkey": "alt-t",
   "langInMainMenu": true,
   "sourceLang": "en",
   "targetLang": "fr",
   "useGoogleTranslate": true
  },
  "toc": {
   "base_numbering": 1,
   "nav_menu": {},
   "number_sections": true,
   "sideBar": true,
   "skip_h1_title": false,
   "title_cell": "Table of Contents",
   "title_sidebar": "Contents",
   "toc_cell": false,
   "toc_position": {},
   "toc_section_display": true,
   "toc_window_display": false
  },
  "varInspector": {
   "cols": {
    "lenName": 16,
    "lenType": 16,
    "lenVar": 40
   },
   "kernels_config": {
    "python": {
     "delete_cmd_postfix": "",
     "delete_cmd_prefix": "del ",
     "library": "var_list.py",
     "varRefreshCmd": "print(var_dic_list())"
    },
    "r": {
     "delete_cmd_postfix": ") ",
     "delete_cmd_prefix": "rm(",
     "library": "var_list.r",
     "varRefreshCmd": "cat(var_dic_list()) "
    }
   },
   "types_to_exclude": [
    "module",
    "function",
    "builtin_function_or_method",
    "instance",
    "_Feature"
   ],
   "window_display": false
  }
 },
 "nbformat": 4,
 "nbformat_minor": 5
}
