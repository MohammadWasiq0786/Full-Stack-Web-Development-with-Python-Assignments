{
 "cells": [
  {
   "cell_type": "markdown",
   "id": "039afa75",
   "metadata": {},
   "source": [
    "![image](https://user-images.githubusercontent.com/57321948/196933065-4b16c235-f3b9-4391-9cfe-4affcec87c35.png)\n",
    "\n",
    "# Name: Mohammad Wasiq\n",
    "## Email: mohammadwasiq0786@gmail.com\n",
    "### Assignment 23"
   ]
  },
  {
   "cell_type": "markdown",
   "id": "fc7c412f",
   "metadata": {},
   "source": [
    "# 1. Use iter and next method to access all the elements of a given set using while loop."
   ]
  },
  {
   "cell_type": "code",
   "execution_count": 1,
   "id": "984f0bb1",
   "metadata": {
    "ExecuteTime": {
     "end_time": "2023-02-23T04:43:53.155141Z",
     "start_time": "2023-02-23T04:43:53.145168Z"
    }
   },
   "outputs": [
    {
     "name": "stdout",
     "output_type": "stream",
     "text": [
      "The elements of a given set are : \n",
      "1 2 3 4 5 6 "
     ]
    }
   ],
   "source": [
    "l1={1,2,3,4,5,6}\n",
    "it=iter(l1)\n",
    "\n",
    "print(\"The elements of a given set are : \")\n",
    "while True:\n",
    "    try:\n",
    "        print(next(it),end=\" \")\n",
    "    except StopIteration:\n",
    "        break"
   ]
  },
  {
   "cell_type": "markdown",
   "id": "33464c80",
   "metadata": {},
   "source": [
    "# 2. Create a generator to produce first n odd natural numbers."
   ]
  },
  {
   "cell_type": "code",
   "execution_count": 2,
   "id": "2f80e23c",
   "metadata": {
    "ExecuteTime": {
     "end_time": "2023-02-23T04:44:29.550857Z",
     "start_time": "2023-02-23T04:44:25.458665Z"
    }
   },
   "outputs": [
    {
     "name": "stdout",
     "output_type": "stream",
     "text": [
      "Enter the number : 10\n",
      "The first n odd numbers are :\n",
      "1 3 5 7 9 11 13 15 17 19 "
     ]
    }
   ],
   "source": [
    "def generator(n):\n",
    "    l=1\n",
    "    for i in range(n):\n",
    "        yield l\n",
    "        l+=2\n",
    "\n",
    "n=int(input(\"Enter the number : \"))\n",
    "it=generator(n)\n",
    "print(\"The first n odd numbers are :\")\n",
    "for it in generator(n):\n",
    "    print(it,end=\" \")"
   ]
  },
  {
   "cell_type": "markdown",
   "id": "19815c33",
   "metadata": {},
   "source": [
    "# 3. Create a generator to produce first n even natural numbers."
   ]
  },
  {
   "cell_type": "code",
   "execution_count": 3,
   "id": "36a7734e",
   "metadata": {
    "ExecuteTime": {
     "end_time": "2023-02-23T04:45:04.256826Z",
     "start_time": "2023-02-23T04:45:01.831149Z"
    }
   },
   "outputs": [
    {
     "name": "stdout",
     "output_type": "stream",
     "text": [
      "Enter the number : 10\n",
      "First n even numbers are : \n",
      "2 4 6 8 10 12 14 16 18 20 "
     ]
    }
   ],
   "source": [
    "def generator(n):\n",
    "    # for i in range(n):\n",
    "    #     yield(2*i+2)\n",
    "    k=2\n",
    "    while n:\n",
    "        yield k\n",
    "        k+=2\n",
    "        n-=1\n",
    "\n",
    "n=int(input(\"Enter the number : \"))\n",
    "print(\"First n even numbers are : \")\n",
    "for it in generator(n):\n",
    "    print(it,end=\" \")"
   ]
  },
  {
   "cell_type": "markdown",
   "id": "e3a051e1",
   "metadata": {},
   "source": [
    "# 4. Create a generator to produce squares of first N natural numbers."
   ]
  },
  {
   "cell_type": "code",
   "execution_count": 4,
   "id": "25e7480b",
   "metadata": {
    "ExecuteTime": {
     "end_time": "2023-02-23T04:45:38.373059Z",
     "start_time": "2023-02-23T04:45:32.159712Z"
    }
   },
   "outputs": [
    {
     "name": "stdout",
     "output_type": "stream",
     "text": [
      "Enter the number to generate square of n natural numbers : 10\n",
      "1 4 9 16 25 36 49 64 81 100 "
     ]
    }
   ],
   "source": [
    "def squaregenrator(n):\n",
    "    j=1\n",
    "    while n:\n",
    "        yield j**2\n",
    "        j+=1\n",
    "        n-=1\n",
    "\n",
    "\n",
    "for e in squaregenrator(int(input(\"Enter the number to generate square of n natural numbers : \"))):\n",
    "    print(e,end=\" \")"
   ]
  },
  {
   "cell_type": "markdown",
   "id": "1e56e739",
   "metadata": {},
   "source": [
    "# 5. Create a generator to produce first n terms of Fibonacci series."
   ]
  },
  {
   "cell_type": "code",
   "execution_count": 5,
   "id": "32e85dfb",
   "metadata": {
    "ExecuteTime": {
     "end_time": "2023-02-23T04:46:43.511695Z",
     "start_time": "2023-02-23T04:46:40.017937Z"
    }
   },
   "outputs": [
    {
     "name": "stdout",
     "output_type": "stream",
     "text": [
      "enter the number to generate fibonacci serie : 10\n",
      "0 1 1 2 3 5 8 13 21 34 "
     ]
    }
   ],
   "source": [
    "def fibgenerator(n):\n",
    "    a,b=0,1\n",
    "    while n:\n",
    "        yield a\n",
    "        a,b=b,a+b\n",
    "        n-=1\n",
    "\n",
    "for it in fibgenerator(int(input(\"enter the number to generate fibonacci serie : \"))):\n",
    "    print(it , end=\" \")"
   ]
  },
  {
   "cell_type": "markdown",
   "id": "ea32ab3f",
   "metadata": {},
   "source": [
    "# 6. Create a generator to produce first n prime numbers."
   ]
  },
  {
   "cell_type": "code",
   "execution_count": 6,
   "id": "30742c1e",
   "metadata": {
    "ExecuteTime": {
     "end_time": "2023-02-23T04:47:14.894714Z",
     "start_time": "2023-02-23T04:47:11.710793Z"
    }
   },
   "outputs": [
    {
     "name": "stdout",
     "output_type": "stream",
     "text": [
      "Enter the number to generate first n prime numbers : 10\n",
      "2 3 5 7 11 13 17 19 23 29 "
     ]
    }
   ],
   "source": [
    "def prime_genrator(n):\n",
    "    a=2\n",
    "    yield a\n",
    "    while n-1:\n",
    "        a+=1\n",
    "        for i in range(2,a//2+1):\n",
    "            if a%i==0:\n",
    "                break\n",
    "        else:\n",
    "            yield a\n",
    "            n-=1\n",
    "\n",
    "\n",
    "for it in prime_genrator(int(input(\"Enter the number to generate first n prime numbers : \"))):\n",
    "    print(it,end=\" \")"
   ]
  },
  {
   "cell_type": "markdown",
   "id": "10b320de",
   "metadata": {},
   "source": [
    "# 7. Create an endless iterator using generator method to produce terms of Fibonacci series."
   ]
  },
  {
   "cell_type": "code",
   "execution_count": 7,
   "id": "86820824",
   "metadata": {
    "ExecuteTime": {
     "end_time": "2023-02-23T04:48:10.342029Z",
     "start_time": "2023-02-23T04:47:53.883427Z"
    }
   },
   "outputs": [
    {
     "name": "stdout",
     "output_type": "stream",
     "text": [
      "Do you want to generate more element [y/n]:y\n",
      "0\n",
      "Do you want to generate more element [y/n]:y\n",
      "1\n",
      "Do you want to generate more element [y/n]:y\n",
      "1\n",
      "Do you want to generate more element [y/n]:y\n",
      "2\n",
      "Do you want to generate more element [y/n]:n\n",
      "The element generated by fibonacci series are : \n",
      "[0, 1, 1, 2]\n"
     ]
    }
   ],
   "source": [
    "from re import A\n",
    "\n",
    "def endless_fib():\n",
    "    a,b=0,1\n",
    "    while True:\n",
    "        yield a\n",
    "        a,b=b,a+b\n",
    "\n",
    "lis=[]\n",
    "it=iter(endless_fib())\n",
    "while True:\n",
    "    ans=input(\"Do you want to generate more element [y/n]:\")\n",
    "    if ans=='y':\n",
    "        lis.append(next(it))\n",
    "        print(lis[-1])\n",
    "    else:\n",
    "        print(\"The element generated by fibonacci series are : \")\n",
    "        print(lis)\n",
    "        break"
   ]
  },
  {
   "cell_type": "markdown",
   "id": "65e46270",
   "metadata": {},
   "source": [
    "# 8. Create an endless iterator using generator method to produce Prime numbers."
   ]
  },
  {
   "cell_type": "code",
   "execution_count": 8,
   "id": "1241587d",
   "metadata": {
    "ExecuteTime": {
     "end_time": "2023-02-23T04:48:56.309322Z",
     "start_time": "2023-02-23T04:48:52.428506Z"
    }
   },
   "outputs": [
    {
     "name": "stdout",
     "output_type": "stream",
     "text": [
      "Do you want to generate another prime number [y/n] y\n",
      "2\n",
      "Do you want to generate another prime number [y/n] n\n",
      "The list of generated prime numbers are : \n",
      "[2]\n"
     ]
    }
   ],
   "source": [
    "from re import A\n",
    "\n",
    "def endless_prime():\n",
    "    a=2\n",
    "    yield a\n",
    "    while True:\n",
    "        a+=1\n",
    "        for i in range(2,a//2+1):\n",
    "            if a%i==0:\n",
    "                break\n",
    "        else:\n",
    "            yield a\n",
    "\n",
    "\n",
    "lis=[]\n",
    "it=iter(endless_prime())\n",
    "\n",
    "while True:\n",
    "    ans=input(\"Do you want to generate another prime number [y/n] \")\n",
    "    if ans=='y':\n",
    "        lis.append(next(it))\n",
    "        print(lis[-1])\n",
    "    else:\n",
    "        print(\"The list of generated prime numbers are : \")\n",
    "        print(lis)\n",
    "        break"
   ]
  },
  {
   "cell_type": "markdown",
   "id": "5704d13c",
   "metadata": {},
   "source": [
    "# 9. Define a function which takes lengths of three sides of a triangle as arguments and display the perimeter or triangle. Define and apply a decorator which checks for the validity of the triangle on the basis of lengths of the side. This makes the perimeter to be displayed when the triangle can exist with the given lengths of the sides."
   ]
  },
  {
   "cell_type": "code",
   "execution_count": 9,
   "id": "f2b1bf2c",
   "metadata": {
    "ExecuteTime": {
     "end_time": "2023-02-23T04:49:51.971251Z",
     "start_time": "2023-02-23T04:49:47.452069Z"
    }
   },
   "outputs": [
    {
     "name": "stdout",
     "output_type": "stream",
     "text": [
      "Enter the 1st side of triangle : 5\n",
      "Enter the 2nd side of triangle : 6\n",
      "Enter the 3rd side of triangle : 7\n",
      "triangle is valid with given sides :  5 6 7\n",
      "Perimeter :  18\n"
     ]
    }
   ],
   "source": [
    "def valid_triangle(perimeter):\n",
    "    def check(a,b,c):\n",
    "        if a+b>c and b+c>a and c+a>b:\n",
    "            print(\"triangle is valid with given sides : \",a,b,c)\n",
    "            perimeter(a,b,c)\n",
    "            \n",
    "        else:\n",
    "            print(\"Triangle is not valid with given sides : \",a,b,c)      \n",
    "    return check      \n",
    "\n",
    "@valid_triangle\n",
    "def perimeter(a,b,c):\n",
    "    print(\"Perimeter : \",a+b+c)\n",
    "\n",
    "\n",
    "s1=int(input(\"Enter the 1st side of triangle : \"))\n",
    "s2=int(input(\"Enter the 2nd side of triangle : \"))\n",
    "s3=int(input(\"Enter the 3rd side of triangle : \"))\n",
    "perimeter(s1,s2,s3)"
   ]
  },
  {
   "cell_type": "markdown",
   "id": "03a2f398",
   "metadata": {},
   "source": [
    "# 10. Define a function which calculates HCF of two numbers. Define and apply a decorator to check whether two given numbers are co-prime or not."
   ]
  },
  {
   "cell_type": "code",
   "execution_count": 10,
   "id": "33c633ad",
   "metadata": {
    "ExecuteTime": {
     "end_time": "2023-02-23T04:50:44.772767Z",
     "start_time": "2023-02-23T04:50:39.828180Z"
    }
   },
   "outputs": [
    {
     "name": "stdout",
     "output_type": "stream",
     "text": [
      "Enter the 1st number : 12\n",
      "Enter the 2nd number : 13\n",
      "Two numbers 12  and  13   are co-prime number \n"
     ]
    }
   ],
   "source": [
    "def co_prime(hcf):\n",
    "    h=1\n",
    "    def check(a,b):\n",
    "        l=min(a,b)\n",
    "        for i in range(2,l+1):\n",
    "            if a%i==0 and b%i==0:\n",
    "                hcf(a,b)\n",
    "                break\n",
    "        else:\n",
    "            print(\"Two numbers\",a,\" and \",b,\"  are co-prime number \")\n",
    "\n",
    "    return check\n",
    "\n",
    "\n",
    "@co_prime\n",
    "def hcf(a,b):\n",
    "    l=min(a,b)\n",
    "    for i in range(2,l+1):\n",
    "        if a%i==0 and b%i==0:\n",
    "            h=i\n",
    "    print(\"Hcf of \",a,\" and \",b,\" are : \",h)\n",
    "\n",
    "\n",
    "num1=int(input(\"Enter the 1st number : \"))\n",
    "num2=int(input(\"Enter the 2nd number : \"))\n",
    "hcf(num1,num2)"
   ]
  }
 ],
 "metadata": {
  "kernelspec": {
   "display_name": "Python 3 (ipykernel)",
   "language": "python",
   "name": "python3"
  },
  "language_info": {
   "codemirror_mode": {
    "name": "ipython",
    "version": 3
   },
   "file_extension": ".py",
   "mimetype": "text/x-python",
   "name": "python",
   "nbconvert_exporter": "python",
   "pygments_lexer": "ipython3",
   "version": "3.9.12"
  },
  "latex_envs": {
   "LaTeX_envs_menu_present": true,
   "autoclose": false,
   "autocomplete": true,
   "bibliofile": "biblio.bib",
   "cite_by": "apalike",
   "current_citInitial": 1,
   "eqLabelWithNumbers": true,
   "eqNumInitial": 1,
   "hotkeys": {
    "equation": "Ctrl-E",
    "itemize": "Ctrl-I"
   },
   "labels_anchors": false,
   "latex_user_defs": false,
   "report_style_numbering": false,
   "user_envs_cfg": false
  },
  "nbTranslate": {
   "displayLangs": [
    "*"
   ],
   "hotkey": "alt-t",
   "langInMainMenu": true,
   "sourceLang": "en",
   "targetLang": "fr",
   "useGoogleTranslate": true
  },
  "toc": {
   "base_numbering": 1,
   "nav_menu": {},
   "number_sections": true,
   "sideBar": true,
   "skip_h1_title": false,
   "title_cell": "Table of Contents",
   "title_sidebar": "Contents",
   "toc_cell": false,
   "toc_position": {},
   "toc_section_display": true,
   "toc_window_display": false
  },
  "varInspector": {
   "cols": {
    "lenName": 16,
    "lenType": 16,
    "lenVar": 40
   },
   "kernels_config": {
    "python": {
     "delete_cmd_postfix": "",
     "delete_cmd_prefix": "del ",
     "library": "var_list.py",
     "varRefreshCmd": "print(var_dic_list())"
    },
    "r": {
     "delete_cmd_postfix": ") ",
     "delete_cmd_prefix": "rm(",
     "library": "var_list.r",
     "varRefreshCmd": "cat(var_dic_list()) "
    }
   },
   "types_to_exclude": [
    "module",
    "function",
    "builtin_function_or_method",
    "instance",
    "_Feature"
   ],
   "window_display": false
  }
 },
 "nbformat": 4,
 "nbformat_minor": 5
}
