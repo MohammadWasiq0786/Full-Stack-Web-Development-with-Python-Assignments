{
  "nbformat": 4,
  "nbformat_minor": 0,
  "metadata": {
    "colab": {
      "provenance": []
    },
    "kernelspec": {
      "name": "python3",
      "display_name": "Python 3"
    },
    "language_info": {
      "name": "python"
    }
  },
  "cells": [
    {
      "cell_type": "markdown",
      "source": [
        "![image](https://user-images.githubusercontent.com/57321948/196933065-4b16c235-f3b9-4391-9cfe-4affcec87c35.png)\n",
        "\n",
        "\n",
        "# Name: **Mohammad Wasiq**\n",
        "## Email: **mohammadwasiq0786@gmail.com**\n",
        "### Assignment 12"
      ],
      "metadata": {
        "id": "ihQkV_KWHc20"
      }
    },
    {
      "cell_type": "markdown",
      "source": [
        "# 1. Write a python script to reverse a number."
      ],
      "metadata": {
        "id": "qLFYFvgLQEER"
      }
    },
    {
      "cell_type": "code",
      "source": [
        "n= int(input(\"Enter the number : \"))\n",
        "x=n\n",
        "s=0\n",
        "while n:\n",
        "    r=n%10\n",
        "    s=r+s*10\n",
        "    n=n//10\n",
        "print(\"The reverse of the \",x, \" are : \",s)"
      ],
      "metadata": {
        "colab": {
          "base_uri": "https://localhost:8080/"
        },
        "id": "2xzlhxcXQSrG",
        "outputId": "a5903592-4c1f-4fb6-d6a5-f9d2eebacfdb"
      },
      "execution_count": 88,
      "outputs": [
        {
          "output_type": "stream",
          "name": "stdout",
          "text": [
            "Enter the number : 12\n",
            "The reverse of the  12  are :  21\n"
          ]
        }
      ]
    },
    {
      "cell_type": "markdown",
      "source": [
        "# 2. Write a python script to check whether a given number is Prime or not."
      ],
      "metadata": {
        "id": "BWcbnSrfQEYe"
      }
    },
    {
      "cell_type": "code",
      "source": [
        "num= int(input(\"Enter the number : \"))\n",
        "check= num//2\n",
        "n=0\n",
        "for i in range(2,check+1):\n",
        "    if(num%i==0):\n",
        "        \n",
        "        print(num,\"  is not primary number \")\n",
        "        break\n",
        "else:\n",
        "    print(num,\" is a primary number \")"
      ],
      "metadata": {
        "colab": {
          "base_uri": "https://localhost:8080/"
        },
        "id": "07k3qHAtQEjh",
        "outputId": "4a0df8c7-27f5-41eb-cb7d-99894acf1693"
      },
      "execution_count": 89,
      "outputs": [
        {
          "output_type": "stream",
          "name": "stdout",
          "text": [
            "Enter the number : 12\n",
            "12   is not primary number \n"
          ]
        }
      ]
    },
    {
      "cell_type": "markdown",
      "source": [
        "# 3. Write a python script to print all Prime numbers under 100."
      ],
      "metadata": {
        "id": "FKVDmK6dQFUe"
      }
    },
    {
      "cell_type": "code",
      "source": [
        "print(\"All primary number under 100 are : \")\n",
        "\n",
        "for i in range(1,100+1):\n",
        "    n=1\n",
        "    for j in range(2,i//2+1):\n",
        "        if(i%j==0):\n",
        "            n=0  \n",
        "    if n==1:\n",
        "         print(i,end=\" \")  "
      ],
      "metadata": {
        "colab": {
          "base_uri": "https://localhost:8080/"
        },
        "id": "HaAjYeRNQFhX",
        "outputId": "d02882d0-92d0-4652-aca7-8d35dcd7e072"
      },
      "execution_count": 90,
      "outputs": [
        {
          "output_type": "stream",
          "name": "stdout",
          "text": [
            "All primary number under 100 are : \n",
            "1 2 3 5 7 11 13 17 19 23 29 31 37 41 43 47 53 59 61 67 71 73 79 83 89 97 "
          ]
        }
      ]
    },
    {
      "cell_type": "markdown",
      "source": [
        "# 4. Write a python script to print all Prime numbers between two given numbers (both values inclusive)"
      ],
      "metadata": {
        "id": "DtNSZAwiQFr2"
      }
    },
    {
      "cell_type": "code",
      "source": [
        "a=int(input(\"Enter the 1st number : \"))\n",
        "b=int(input(\"Enter the 2nd number : \"))\n",
        "\n",
        "print(\"Prime numbers between \",a,\" and \",b,\" are : \")\n",
        "for i in range(a,b+1):\n",
        "    n=1\n",
        "    for j in range(2,i//2+1):\n",
        "        if(i%j==0):\n",
        "            n=0\n",
        "    if n==1:\n",
        "        print(i,end=\" \")"
      ],
      "metadata": {
        "colab": {
          "base_uri": "https://localhost:8080/"
        },
        "id": "lrfv6hTeQF1l",
        "outputId": "5e9dd245-49c7-4594-ead3-9a7c1129fc3d"
      },
      "execution_count": 91,
      "outputs": [
        {
          "output_type": "stream",
          "name": "stdout",
          "text": [
            "Enter the 1st number : 12\n",
            "Enter the 2nd number : 6\n",
            "Prime numbers between  12  and  6  are : \n"
          ]
        }
      ]
    },
    {
      "cell_type": "markdown",
      "source": [
        "# 5. Write a python script to find next prime number of a given number.\n",
        "\n",
        "```py\n",
        "n= n+1\n",
        "while n:\n",
        "  j=1\n",
        "  for i in range(2,(n//2)+1):\n",
        "    if(n%i==0):\n",
        "      j=0\n",
        "      break\n",
        "  if j==1:\n",
        "    print(\"Next prime number are : \",n)\n",
        "    break\n",
        "  n+=1\n",
        "print(\"Next prime number are : \",nextprime(n))\n",
        "```"
      ],
      "metadata": {
        "id": "TPlot53qQF_z"
      }
    },
    {
      "cell_type": "code",
      "source": [
        "def nextprime(n):\n",
        "    while True:\n",
        "        n+=1\n",
        "        for i in range(2,n//2+1):\n",
        "            if n%i==0:\n",
        "                break\n",
        "        else:\n",
        "            return n\n",
        "\n",
        "n=int(input(\"Enter the prime number : \"))\n",
        "\n",
        "print(\"Next prime number are : \",nextprime(n))"
      ],
      "metadata": {
        "colab": {
          "base_uri": "https://localhost:8080/"
        },
        "id": "YisUqP5tQGJ0",
        "outputId": "e2ee68f0-3635-4738-c6af-b387398d0420"
      },
      "execution_count": 92,
      "outputs": [
        {
          "output_type": "stream",
          "name": "stdout",
          "text": [
            "Enter the prime number : 13\n",
            "Next prime number are :  17\n"
          ]
        }
      ]
    },
    {
      "cell_type": "markdown",
      "source": [
        "# 6. Write a python script to print first N prime numbers."
      ],
      "metadata": {
        "id": "FuNcRq_CQGoJ"
      }
    },
    {
      "cell_type": "code",
      "source": [
        "def nextprime(n):\n",
        "    while True:\n",
        "        n+=1\n",
        "        for i in range(2,n//2+1):\n",
        "            if n%i==0:\n",
        "                break\n",
        "        else:\n",
        "            return n\n",
        "def primegenerator(n):\n",
        "    num,count=1,1\n",
        "    # for i in range(n):\n",
        "    #     p=nextprime(num)\n",
        "    #     num=p\n",
        "    #     yield p\n",
        "    while count<=n:\n",
        "        num=nextprime(num)\n",
        "        yield num\n",
        "        count+=1\n",
        "\n",
        "n=int(input(\"Enter the number : \"))\n",
        "print(\"first \",n,\" prime numbers are : \")\n",
        "for i in primegenerator(n):\n",
        "    print(i,end=\" \")\n"
      ],
      "metadata": {
        "colab": {
          "base_uri": "https://localhost:8080/"
        },
        "id": "MGcgIvyVQGy2",
        "outputId": "6489b21b-ee90-416c-b928-8515ff9ee836"
      },
      "execution_count": 93,
      "outputs": [
        {
          "output_type": "stream",
          "name": "stdout",
          "text": [
            "Enter the number : 13\n",
            "first  13  prime numbers are : \n",
            "2 3 5 7 11 13 17 19 23 29 31 37 41 "
          ]
        }
      ]
    },
    {
      "cell_type": "markdown",
      "source": [
        "# 7. Write a python script to check whether a given pair of numbers are co-Prime numbers or not.\n",
        "\n",
        "```py\n",
        "a,b=int(input()),int(input())\n",
        "alis=[]\n",
        "blis=[]\n",
        "for i in range (1,a+1):\n",
        "  if (a%i==0):\n",
        "    alis.append(i)\n",
        "for j in range(1,b+1):\n",
        "  if b%j==0:\n",
        "    blis.append(j)\n",
        "\n",
        "if alis[0]==blis[0] and alis[1]!=blis[1]:\n",
        "  print(a,b,\" are co-prime numbers \")\n",
        "else:\n",
        "  print(a,b,\"are not co-prime numbers\")\n",
        "```"
      ],
      "metadata": {
        "id": "pUACRLRvQG9G"
      }
    },
    {
      "cell_type": "code",
      "source": [
        "print(\"Enter the two pair of number to check weather they are co-prime or not : \")\n",
        "\n",
        "a,b=int(input()),int(input())\n",
        "\n",
        "m= min(a,b)\n",
        "for i in range(2,m):\n",
        "        if(a%i==0 and b%i==0):\n",
        "            flag=0\n",
        "            print(a,b,\" are not co-prime numbers \")\n",
        "            break\n",
        "else:\n",
        "        print(a,b,\"are co-prime numbers\")\n"
      ],
      "metadata": {
        "colab": {
          "base_uri": "https://localhost:8080/"
        },
        "id": "1Bn03nUBQHHI",
        "outputId": "74ae7e5f-2d4f-4909-f1d3-07fee31be367"
      },
      "execution_count": 94,
      "outputs": [
        {
          "output_type": "stream",
          "name": "stdout",
          "text": [
            "Enter the two pair of number to check weather they are co-prime or not : \n",
            "13\n",
            "17\n",
            "13 17 are co-prime numbers\n"
          ]
        }
      ]
    },
    {
      "cell_type": "markdown",
      "source": [
        "# 8. Write a python script to print first N terms of a Fibonacci series."
      ],
      "metadata": {
        "id": "m8vrVHK9QHRM"
      }
    },
    {
      "cell_type": "code",
      "source": [
        "def fibonacci(n):\n",
        "\n",
        "    if n<=1:\n",
        "        return n\n",
        "    else:\n",
        "        return fibonacci(n-1) + fibonacci(n-2)   \n",
        "n=int(input(\"Enter the value of n to print first n terms of fibonaccir series \"))\n",
        "print(\"First \",n,\"  terms of fibonacci series are : \")\n",
        "\n",
        "for i in range(n):\n",
        "    print(fibonacci(i))"
      ],
      "metadata": {
        "colab": {
          "base_uri": "https://localhost:8080/"
        },
        "id": "uWfhbu3hQHcd",
        "outputId": "578766a8-3370-4869-b47a-ef528815adf6"
      },
      "execution_count": 95,
      "outputs": [
        {
          "output_type": "stream",
          "name": "stdout",
          "text": [
            "Enter the value of n to print first n terms of fibonaccir series 12\n",
            "First  12   terms of fibonacci series are : \n",
            "0\n",
            "1\n",
            "1\n",
            "2\n",
            "3\n",
            "5\n",
            "8\n",
            "13\n",
            "21\n",
            "34\n",
            "55\n",
            "89\n"
          ]
        }
      ]
    },
    {
      "cell_type": "markdown",
      "source": [
        "# 9. Write a python script to calculate LCM of two numbers."
      ],
      "metadata": {
        "id": "EjL2k7sESFzP"
      }
    },
    {
      "cell_type": "code",
      "source": [
        "print(\"Enter the two numbers\")\n",
        "\n",
        "a= int(input(\"1st number \"))\n",
        "b= int(input(\"2nd number \"))\n",
        "c= max(a,b)\n",
        "\n",
        "for i in range(c,a*b+1):\n",
        "    if i%a==0 and i%b==0:\n",
        "        print(\"LCM of \",a,\" and \",b,\" are : \",i)\n",
        "        break"
      ],
      "metadata": {
        "colab": {
          "base_uri": "https://localhost:8080/"
        },
        "id": "q664VErKSGAo",
        "outputId": "436f52fe-ef38-4d27-e6af-cb168bcd960c"
      },
      "execution_count": 96,
      "outputs": [
        {
          "output_type": "stream",
          "name": "stdout",
          "text": [
            "Enter the two numbers\n",
            "1st number 12\n",
            "2nd number 13\n",
            "LCM of  12  and  13  are :  156\n"
          ]
        }
      ]
    },
    {
      "cell_type": "markdown",
      "source": [
        "# 10. Write a python script to calculate HCF of two numbers."
      ],
      "metadata": {
        "id": "7q08huxgSGOn"
      }
    },
    {
      "cell_type": "code",
      "source": [
        "print(\"Enter the two numbers\")\n",
        "\n",
        "a= int(input(\"1st number \"))\n",
        "b= int(input(\"2nd number \"))\n",
        "c= min(a,b)\n",
        "\n",
        "for i in range(1,c+1):\n",
        "    if a%i==0 and b%i==0:\n",
        "        fac=i\n",
        "print(\"HCF of \",a,\" and\",b,\" are : \",fac)"
      ],
      "metadata": {
        "colab": {
          "base_uri": "https://localhost:8080/"
        },
        "id": "FvdJ207fSGct",
        "outputId": "57bf6969-ed28-480c-d246-43595f0760b3"
      },
      "execution_count": 97,
      "outputs": [
        {
          "output_type": "stream",
          "name": "stdout",
          "text": [
            "Enter the two numbers\n",
            "1st number 12\n",
            "2nd number 13\n",
            "HCF of  12  and 13  are :  1\n"
          ]
        }
      ]
    }
  ]
}