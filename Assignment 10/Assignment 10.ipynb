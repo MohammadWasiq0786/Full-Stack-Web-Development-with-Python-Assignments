{
  "nbformat": 4,
  "nbformat_minor": 0,
  "metadata": {
    "colab": {
      "provenance": []
    },
    "kernelspec": {
      "name": "python3",
      "display_name": "Python 3"
    },
    "language_info": {
      "name": "python"
    }
  },
  "cells": [
    {
      "cell_type": "markdown",
      "source": [
        "![image](https://user-images.githubusercontent.com/57321948/196933065-4b16c235-f3b9-4391-9cfe-4affcec87c35.png)\n",
        "\n",
        "\n",
        "# Name: **Mohammad Wasiq**\n",
        "## Email: **mohammadwasiq0786@gmail.com**\n",
        "### Assignment 10"
      ],
      "metadata": {
        "id": "ihQkV_KWHc20"
      }
    },
    {
      "cell_type": "markdown",
      "source": [
        "# 1. Write a python script to print MySirG N times on the screen"
      ],
      "metadata": {
        "id": "0wwCXrCXLrRN"
      }
    },
    {
      "cell_type": "code",
      "source": [
        "n=int(input(\"Enter the number : \"))\n",
        "for i in range(n):\n",
        "    print(\"MySirG\")"
      ],
      "metadata": {
        "colab": {
          "base_uri": "https://localhost:8080/"
        },
        "id": "_KUUMZUSLpYI",
        "outputId": "a3d3f94a-9f86-4671-a408-63e565b7f9a4"
      },
      "execution_count": 64,
      "outputs": [
        {
          "output_type": "stream",
          "name": "stdout",
          "text": [
            "Enter the number : 4\n",
            "MySirG\n",
            "MySirG\n",
            "MySirG\n",
            "MySirG\n"
          ]
        }
      ]
    },
    {
      "cell_type": "markdown",
      "source": [
        "# 2. Write a python script to print first N natural numbers"
      ],
      "metadata": {
        "id": "D8oYBw45LsQ3"
      }
    },
    {
      "cell_type": "code",
      "source": [
        "n=int(input(\"Enter the number : \"))\n",
        "for i in range(1,n+1):\n",
        "    print(i)"
      ],
      "metadata": {
        "colab": {
          "base_uri": "https://localhost:8080/"
        },
        "id": "kWlh7o8-Lsck",
        "outputId": "87b6b08a-a2fe-4379-f735-8a36370a6079"
      },
      "execution_count": 65,
      "outputs": [
        {
          "output_type": "stream",
          "name": "stdout",
          "text": [
            "Enter the number : 6\n",
            "1\n",
            "2\n",
            "3\n",
            "4\n",
            "5\n",
            "6\n"
          ]
        }
      ]
    },
    {
      "cell_type": "markdown",
      "source": [
        "# 3. Write a python script to print first N natural numbers in reverse order."
      ],
      "metadata": {
        "id": "mXeHhuhOLsrm"
      }
    },
    {
      "cell_type": "code",
      "source": [
        "n=int(input(\"Enter the number : \"))\n",
        "for i in range(n,0,-1):\n",
        "    print(i)"
      ],
      "metadata": {
        "colab": {
          "base_uri": "https://localhost:8080/"
        },
        "id": "JkCnHMZmLs2W",
        "outputId": "d2fcc94f-9f77-42e5-8bb0-13916deb0b0a"
      },
      "execution_count": 66,
      "outputs": [
        {
          "output_type": "stream",
          "name": "stdout",
          "text": [
            "Enter the number : 6\n",
            "6\n",
            "5\n",
            "4\n",
            "3\n",
            "2\n",
            "1\n"
          ]
        }
      ]
    },
    {
      "cell_type": "markdown",
      "source": [
        "# 4. Write a python script to print first N odd natural numbers."
      ],
      "metadata": {
        "id": "TSoQmYs-LtAX"
      }
    },
    {
      "cell_type": "code",
      "source": [
        "n=int(input(\"Enter the number : \"))\n",
        "j=1\n",
        "for i in range(1,n+1):\n",
        "    while(j%2==0):\n",
        "        j+=1\n",
        "    print(j)\n",
        "    j+=1"
      ],
      "metadata": {
        "colab": {
          "base_uri": "https://localhost:8080/"
        },
        "id": "9mlxJxO9LtOq",
        "outputId": "ba9ddca0-d29f-4e4b-9df6-3bd4f0dfa798"
      },
      "execution_count": 67,
      "outputs": [
        {
          "output_type": "stream",
          "name": "stdout",
          "text": [
            "Enter the number : 6\n",
            "1\n",
            "3\n",
            "5\n",
            "7\n",
            "9\n",
            "11\n"
          ]
        }
      ]
    },
    {
      "cell_type": "markdown",
      "source": [
        "# 5. Write a python script to print first N odd natural numbers in reverse order."
      ],
      "metadata": {
        "id": "qQbgfQ64LtY5"
      }
    },
    {
      "cell_type": "code",
      "source": [
        "n=int(input(\"Enter the number\"))\n",
        "# for i in range(1,n+1):\n",
        "#     print(2*n-2*i+1)\n",
        "\n",
        "for i in range(2*n-1,0,-2):\n",
        "    print(i)"
      ],
      "metadata": {
        "colab": {
          "base_uri": "https://localhost:8080/"
        },
        "id": "4ekz5bivLtkW",
        "outputId": "4487156d-b656-4e22-d846-240005594128"
      },
      "execution_count": 69,
      "outputs": [
        {
          "output_type": "stream",
          "name": "stdout",
          "text": [
            "Enter the number6\n",
            "11\n",
            "9\n",
            "7\n",
            "5\n",
            "3\n",
            "1\n"
          ]
        }
      ]
    },
    {
      "cell_type": "markdown",
      "source": [
        "# 6. Write a python script to print first N even natural numbers\n",
        "\n"
      ],
      "metadata": {
        "id": "AWNUaL-pLvmP"
      }
    },
    {
      "cell_type": "code",
      "source": [
        "n=int(input(\"Enter the number : \"))\n",
        "for i in range(2,2*n+1,2):\n",
        "    print(i)"
      ],
      "metadata": {
        "colab": {
          "base_uri": "https://localhost:8080/"
        },
        "id": "U9M6AQMxLuEi",
        "outputId": "4d3da8ee-47a7-485c-9ad9-8ad165fc9738"
      },
      "execution_count": 70,
      "outputs": [
        {
          "output_type": "stream",
          "name": "stdout",
          "text": [
            "Enter the number : 6\n",
            "2\n",
            "4\n",
            "6\n",
            "8\n",
            "10\n",
            "12\n"
          ]
        }
      ]
    },
    {
      "cell_type": "markdown",
      "source": [
        "# 7. Write a python script to print first N even natural numbers in reverse order."
      ],
      "metadata": {
        "id": "5ltG_0MqLwab"
      }
    },
    {
      "cell_type": "code",
      "source": [
        "n=int(input(\"Enter the number : \"))\n",
        "for i in range(2*n,0,-2):\n",
        "    print(i)"
      ],
      "metadata": {
        "colab": {
          "base_uri": "https://localhost:8080/"
        },
        "id": "azrF72kFLwpd",
        "outputId": "b83ab319-929e-4465-d8fb-e1028d3f4ad3"
      },
      "execution_count": 71,
      "outputs": [
        {
          "output_type": "stream",
          "name": "stdout",
          "text": [
            "Enter the number : 6\n",
            "12\n",
            "10\n",
            "8\n",
            "6\n",
            "4\n",
            "2\n"
          ]
        }
      ]
    },
    {
      "cell_type": "markdown",
      "source": [
        "# 8. Write a python script to print squares of first N natural numbers."
      ],
      "metadata": {
        "id": "rFEjhDQDLw27"
      }
    },
    {
      "cell_type": "code",
      "source": [
        "n=int(input(\"Enter the number : \"))\n",
        "for i in range(1,n+1):\n",
        "    print(i**2,end=' ')"
      ],
      "metadata": {
        "colab": {
          "base_uri": "https://localhost:8080/"
        },
        "id": "vxUV6FYILxCJ",
        "outputId": "3d8dfaf6-a13f-4076-cb4b-22434259b559"
      },
      "execution_count": 72,
      "outputs": [
        {
          "output_type": "stream",
          "name": "stdout",
          "text": [
            "Enter the number : 6\n",
            "1 4 9 16 25 36 "
          ]
        }
      ]
    },
    {
      "cell_type": "markdown",
      "source": [
        "# 9. Write a python script to print cubes of first N natural numbers"
      ],
      "metadata": {
        "id": "4QvbI0cbLxRt"
      }
    },
    {
      "cell_type": "code",
      "source": [
        "n=int(input(\"Enter the number : \"))\n",
        "for i in range(1,n+1):\n",
        "    print(i**3,end=\" \")"
      ],
      "metadata": {
        "colab": {
          "base_uri": "https://localhost:8080/"
        },
        "id": "m_FKiJprLxe7",
        "outputId": "70b4d6dd-86fc-487a-ef41-77d6dd496c9f"
      },
      "execution_count": 73,
      "outputs": [
        {
          "output_type": "stream",
          "name": "stdout",
          "text": [
            "Enter the number : 6\n",
            "1 8 27 64 125 216 "
          ]
        }
      ]
    },
    {
      "cell_type": "markdown",
      "source": [
        "# 10. Write a python script to print first 10 multiples of No."
      ],
      "metadata": {
        "id": "qhqgd3SsNbVU"
      }
    },
    {
      "cell_type": "code",
      "source": [
        "n=int(input(\"Enter the number : \"))\n",
        "for i in range(1,11):\n",
        "    print(i*n,end=\" \")"
      ],
      "metadata": {
        "colab": {
          "base_uri": "https://localhost:8080/"
        },
        "id": "bDyyrKd3NYGF",
        "outputId": "e2566e26-6006-4c87-f66f-18c90a1f4c06"
      },
      "execution_count": 74,
      "outputs": [
        {
          "output_type": "stream",
          "name": "stdout",
          "text": [
            "Enter the number : 6\n",
            "6 12 18 24 30 36 42 48 54 60 "
          ]
        }
      ]
    }
  ]
}