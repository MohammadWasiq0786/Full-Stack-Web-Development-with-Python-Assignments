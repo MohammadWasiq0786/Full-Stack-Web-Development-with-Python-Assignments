{
  "nbformat": 4,
  "nbformat_minor": 0,
  "metadata": {
    "colab": {
      "provenance": []
    },
    "kernelspec": {
      "name": "python3",
      "display_name": "Python 3"
    },
    "language_info": {
      "name": "python"
    }
  },
  "cells": [
    {
      "cell_type": "markdown",
      "source": [
        "![image](https://user-images.githubusercontent.com/57321948/196933065-4b16c235-f3b9-4391-9cfe-4affcec87c35.png)\n",
        "\n",
        "\n",
        "# Name: **Mohammad Wasiq**\n",
        "## Email: **mohammadwasiq0786@gmail.com**\n",
        "### Assignment 2"
      ],
      "metadata": {
        "id": "U-um9vID2sir"
      }
    },
    {
      "cell_type": "markdown",
      "source": [
        "# 1. Write a python script to add comments and print “Learning Python” on screen.\n",
        "\n"
      ],
      "metadata": {
        "id": "wu0aEUnA6Duw"
      }
    },
    {
      "cell_type": "code",
      "source": [
        "print('''\"Learning Python\"''')"
      ],
      "metadata": {
        "colab": {
          "base_uri": "https://localhost:8080/"
        },
        "id": "_HvVMRGQ5_s5",
        "outputId": "a4792a86-6f5c-4749-c295-28305b18d16c"
      },
      "execution_count": 12,
      "outputs": [
        {
          "output_type": "stream",
          "name": "stdout",
          "text": [
            "\"Learning Python\"\n"
          ]
        }
      ]
    },
    {
      "cell_type": "markdown",
      "source": [
        "# 2. Write a python script to add multi line comments and print values of four variables, each in a new line. Variable contains any values.\n",
        "\n"
      ],
      "metadata": {
        "id": "ZCK852o06Efn"
      }
    },
    {
      "cell_type": "code",
      "source": [
        "'''\n",
        "Multi\n",
        "Line \n",
        "Comment\n",
        "'''\n",
        "\n",
        "a='Mohammad Wasiq'\n",
        "b='D.O.B'\n",
        "c='is'\n",
        "d='27/08/2000'\n",
        "\n",
        "print(a,b,c,d, sep= '\\n')"
      ],
      "metadata": {
        "colab": {
          "base_uri": "https://localhost:8080/"
        },
        "id": "kgYyGDUD6Eu2",
        "outputId": "6321ec43-eb57-4fd3-c468-58dd4aedb0f3"
      },
      "execution_count": 13,
      "outputs": [
        {
          "output_type": "stream",
          "name": "stdout",
          "text": [
            "Mohammad Wasiq\n",
            "D.O.B\n",
            "is\n",
            "27/08/2000\n"
          ]
        }
      ]
    },
    {
      "cell_type": "markdown",
      "source": [
        "# 3. Write a python script to print types of variables. Create 5 variables each of them containing different types of data. `(like 35, True, “MySirG”,5.46, 3+4j, etc)`\n",
        "\n"
      ],
      "metadata": {
        "id": "vJsiJxy-6E7E"
      }
    },
    {
      "cell_type": "code",
      "source": [
        "a=35\n",
        "b=True\n",
        "c='MySirG'\n",
        "d=5.46\n",
        "e=3+4j\n",
        "\n",
        "print(type(a))\n",
        "print(type(b))\n",
        "print(type(c))\n",
        "print(type(d))\n",
        "print(type(e))"
      ],
      "metadata": {
        "colab": {
          "base_uri": "https://localhost:8080/"
        },
        "id": "bfaFsZHS6FGs",
        "outputId": "9eca91ab-8f59-4a6c-b688-3f490e4612d2"
      },
      "execution_count": 14,
      "outputs": [
        {
          "output_type": "stream",
          "name": "stdout",
          "text": [
            "<class 'int'>\n",
            "<class 'bool'>\n",
            "<class 'str'>\n",
            "<class 'float'>\n",
            "<class 'complex'>\n"
          ]
        }
      ]
    },
    {
      "cell_type": "markdown",
      "source": [
        "# 4. Write a python script to print the id of two variables containing the same integer values.\n",
        "\n"
      ],
      "metadata": {
        "id": "4JxQyyOa6FSt"
      }
    },
    {
      "cell_type": "code",
      "source": [
        "x=4\n",
        "y=4\n",
        "\n",
        "print('Id of x= 4 is ', id(x))\n",
        "print('Id of y= 5 is ', id(y))"
      ],
      "metadata": {
        "colab": {
          "base_uri": "https://localhost:8080/"
        },
        "id": "B4G0fH8E6FeQ",
        "outputId": "edfa839e-e946-4a78-90d5-4261d5b3cf28"
      },
      "execution_count": 15,
      "outputs": [
        {
          "output_type": "stream",
          "name": "stdout",
          "text": [
            "Id of x= 4 is  9793184\n",
            "Id of y= 5 is  9793184\n"
          ]
        }
      ]
    },
    {
      "cell_type": "markdown",
      "source": [
        "# 5. Create four variables in a Python script and assign values of different data types to them. Write a Python script to print value, its type and id of each variable\n",
        "\n"
      ],
      "metadata": {
        "id": "hDgpQCgw6Fp7"
      }
    },
    {
      "cell_type": "code",
      "source": [
        "a=1\n",
        "b=2.0\n",
        "c=3+4j\n",
        "d='hello'\n",
        " \n",
        "print(\"The value of a is :\",a)\n",
        "print('Type is :',type(a))\n",
        "print(\"Id is :\",id(a))\n",
        "print()\n",
        "\n",
        "print(\"The value of b is :\",b)\n",
        "print('Type is :',type(b))\n",
        "print(\"Id is :\",id(b))\n",
        "print()\n",
        "\n",
        "print(\"The value of c is :\",c)\n",
        "print('Type is :',type(c))\n",
        "print(\"Id is :\",id(c))\n",
        "print()\n",
        "\n",
        "print(\"The value of d is :\",d)\n",
        "print('Type is :',type(d))\n",
        "print(\"Id is :\",id(d))"
      ],
      "metadata": {
        "colab": {
          "base_uri": "https://localhost:8080/"
        },
        "id": "6eNTWoVP6F2V",
        "outputId": "efdb00a0-0d9f-4908-abd7-b311df435f0f"
      },
      "execution_count": 16,
      "outputs": [
        {
          "output_type": "stream",
          "name": "stdout",
          "text": [
            "The value of a is : 1\n",
            "Type is : <class 'int'>\n",
            "Id is : 9793088\n",
            "\n",
            "The value of b is : 2.0\n",
            "Type is : <class 'float'>\n",
            "Id is : 139748040634640\n",
            "\n",
            "The value of c is : (3+4j)\n",
            "Type is : <class 'complex'>\n",
            "Id is : 139748040634544\n",
            "\n",
            "The value of d is : hello\n",
            "Type is : <class 'str'>\n",
            "Id is : 139748091649584\n"
          ]
        }
      ]
    },
    {
      "cell_type": "markdown",
      "source": [
        "# 6. Write a python script to print all the keywords"
      ],
      "metadata": {
        "id": "T00WUqTJ6GCw"
      }
    },
    {
      "cell_type": "code",
      "source": [
        "import keyword\n",
        "\n",
        "print(keyword.kwlist)"
      ],
      "metadata": {
        "colab": {
          "base_uri": "https://localhost:8080/"
        },
        "id": "sK93jix66GPE",
        "outputId": "910a9b96-ed9c-4110-beb3-dc557cddf99b"
      },
      "execution_count": 17,
      "outputs": [
        {
          "output_type": "stream",
          "name": "stdout",
          "text": [
            "['False', 'None', 'True', 'and', 'as', 'assert', 'async', 'await', 'break', 'class', 'continue', 'def', 'del', 'elif', 'else', 'except', 'finally', 'for', 'from', 'global', 'if', 'import', 'in', 'is', 'lambda', 'nonlocal', 'not', 'or', 'pass', 'raise', 'return', 'try', 'while', 'with', 'yield']\n"
          ]
        }
      ]
    },
    {
      "cell_type": "markdown",
      "source": [
        "# 7. On Python shell use help() function and display the list of keywords\n",
        "\n"
      ],
      "metadata": {
        "id": "AK7T-8Fy6GdZ"
      }
    },
    {
      "cell_type": "code",
      "source": [
        "print(help())"
      ],
      "metadata": {
        "colab": {
          "base_uri": "https://localhost:8080/"
        },
        "id": "xF3B5OPq6Gqn",
        "outputId": "d0f48122-c0b1-40c1-8cb9-155ccc17b1d0"
      },
      "execution_count": null,
      "outputs": [
        {
          "output_type": "stream",
          "name": "stdout",
          "text": [
            "\n",
            "Welcome to Python 3.8's help utility!\n",
            "\n",
            "If this is your first time using Python, you should definitely check out\n",
            "the tutorial on the Internet at https://docs.python.org/3.8/tutorial/.\n",
            "\n",
            "Enter the name of any module, keyword, or topic to get help on writing\n",
            "Python programs and using Python modules.  To quit this help utility and\n",
            "return to the interpreter, just type \"quit\".\n",
            "\n",
            "To get a list of available modules, keywords, symbols, or topics, type\n",
            "\"modules\", \"keywords\", \"symbols\", or \"topics\".  Each module also comes\n",
            "with a one-line summary of what it does; to list the modules whose name\n",
            "or summary contain a given string such as \"spam\", type \"modules spam\".\n",
            "\n",
            "help> pandas\n",
            "Help on package pandas:\n",
            "\n",
            "NAME\n",
            "    pandas\n",
            "\n",
            "DESCRIPTION\n",
            "    pandas - a powerful data analysis and manipulation library for Python\n",
            "    =====================================================================\n",
            "    \n",
            "    **pandas** is a Python package providing fast, flexible, and expressive data\n",
            "    structures designed to make working with \"relational\" or \"labeled\" data both\n",
            "    easy and intuitive. It aims to be the fundamental high-level building block for\n",
            "    doing practical, **real world** data analysis in Python. Additionally, it has\n",
            "    the broader goal of becoming **the most powerful and flexible open source data\n",
            "    analysis / manipulation tool available in any language**. It is already well on\n",
            "    its way toward this goal.\n",
            "    \n",
            "    Main Features\n",
            "    -------------\n",
            "    Here are just a few of the things that pandas does well:\n",
            "    \n",
            "      - Easy handling of missing data in floating point as well as non-floating\n",
            "        point data.\n",
            "      - Size mutability: columns can be inserted and deleted from DataFrame and\n",
            "        higher dimensional objects\n",
            "      - Automatic and explicit data alignment: objects can be explicitly aligned\n",
            "        to a set of labels, or the user can simply ignore the labels and let\n",
            "        `Series`, `DataFrame`, etc. automatically align the data for you in\n",
            "        computations.\n",
            "      - Powerful, flexible group by functionality to perform split-apply-combine\n",
            "        operations on data sets, for both aggregating and transforming data.\n",
            "      - Make it easy to convert ragged, differently-indexed data in other Python\n",
            "        and NumPy data structures into DataFrame objects.\n",
            "      - Intelligent label-based slicing, fancy indexing, and subsetting of large\n",
            "        data sets.\n",
            "      - Intuitive merging and joining data sets.\n",
            "      - Flexible reshaping and pivoting of data sets.\n",
            "      - Hierarchical labeling of axes (possible to have multiple labels per tick).\n",
            "      - Robust IO tools for loading data from flat files (CSV and delimited),\n",
            "        Excel files, databases, and saving/loading data from the ultrafast HDF5\n",
            "        format.\n",
            "      - Time series-specific functionality: date range generation and frequency\n",
            "        conversion, moving window statistics, date shifting and lagging.\n",
            "\n",
            "PACKAGE CONTENTS\n",
            "    _config (package)\n",
            "    _libs (package)\n",
            "    _testing (package)\n",
            "    _typing\n",
            "    _version\n",
            "    api (package)\n",
            "    arrays (package)\n",
            "    compat (package)\n",
            "    conftest\n",
            "    core (package)\n",
            "    errors (package)\n",
            "    io (package)\n",
            "    plotting (package)\n",
            "    testing\n",
            "    tests (package)\n",
            "    tseries (package)\n",
            "    util (package)\n",
            "\n",
            "SUBMODULES\n",
            "    _hashtable\n",
            "    _lib\n",
            "    _tslib\n",
            "    offsets\n",
            "\n",
            "FUNCTIONS\n",
            "    __getattr__(name)\n",
            "        # GH 27101\n",
            "\n",
            "DATA\n",
            "    IndexSlice = <pandas.core.indexing._IndexSlice object>\n",
            "    NA = <NA>\n",
            "    NaT = NaT\n",
            "    __docformat__ = 'restructuredtext'\n",
            "    __git_version__ = '66e3805b8cabe977f40c05259cc3fcf7ead5687d'\n",
            "    describe_option = <pandas._config.config.CallableDynamicDoc object>\n",
            "    get_option = <pandas._config.config.CallableDynamicDoc object>\n",
            "    options = <pandas._config.config.DictWrapper object>\n",
            "    reset_option = <pandas._config.config.CallableDynamicDoc object>\n",
            "    set_option = <pandas._config.config.CallableDynamicDoc object>\n",
            "\n",
            "VERSION\n",
            "    1.3.5\n",
            "\n",
            "FILE\n",
            "    /usr/local/lib/python3.8/dist-packages/pandas/__init__.py\n",
            "\n",
            "\n"
          ]
        }
      ]
    },
    {
      "cell_type": "markdown",
      "source": [
        "# 8. Create two Python files A0.py and A1.py. Create a variable in A1.py and assign some\n",
        "# value to it. Write a python script to import A1 module in A0 and print value of the\n",
        "# variable created in A0.py\n",
        "\n",
        "`A1.py`\n",
        "```python\n",
        "x= 'This x variable in A1.py file'\n",
        "```"
      ],
      "metadata": {
        "id": "1P8U6L5M6G3T"
      }
    },
    {
      "cell_type": "code",
      "source": [
        "import A1\n",
        "\n",
        "print(A1.x)"
      ],
      "metadata": {
        "id": "accQzmAe6HDc"
      },
      "execution_count": null,
      "outputs": []
    },
    {
      "cell_type": "markdown",
      "source": [
        "# 9. Name the keywords, used as data in the Python script.\n",
        "\n",
        "```py\n",
        "print(True)\n",
        "print()\n",
        "\n",
        "print(False)\n",
        "```"
      ],
      "metadata": {
        "id": "W3tZTDuM6HPS"
      }
    },
    {
      "cell_type": "markdown",
      "source": [
        "# 10. Write a python script to display the current date and time. First create variables to store date and time, then display date and time in proper format (like: 13-8-2022 and 9:00 PM)\n",
        "\n",
        "```py\n",
        "from datetime import datetime\n",
        "from time import strftime\n",
        "\n",
        "dt= datetime.today()\n",
        "\n",
        "# day month yearfull and 12 hout time format\n",
        "l1=dt.strftime(\"%d-%m-%Y and %I-%M-%p\")\n",
        "print(l1)\n",
        "print()\n",
        "\n",
        "# 12 hour format\n",
        "l2 =strftime(\"%H-%M-%S\")\n",
        "print(l1)\n",
        "print()\n",
        "\n",
        "# print month in date\n",
        "m= strftime('%d/%B/%Y')\n",
        "print(m)\n",
        "```"
      ],
      "metadata": {
        "id": "nYmCV3Y76Hmn"
      }
    }
  ]
}