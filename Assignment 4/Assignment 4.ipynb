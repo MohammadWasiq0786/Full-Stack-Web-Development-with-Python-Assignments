{
  "nbformat": 4,
  "nbformat_minor": 0,
  "metadata": {
    "colab": {
      "provenance": []
    },
    "kernelspec": {
      "name": "python3",
      "display_name": "Python 3"
    },
    "language_info": {
      "name": "python"
    }
  },
  "cells": [
    {
      "cell_type": "markdown",
      "source": [
        "![image](https://user-images.githubusercontent.com/57321948/196933065-4b16c235-f3b9-4391-9cfe-4affcec87c35.png)\n",
        "\n",
        "\n",
        "# Name: **Mohammad Wasiq**\n",
        "## Email: **mohammadwasiq0786@gmail.com**\n",
        "### Assignment 4"
      ],
      "metadata": {
        "id": "U-um9vID2sir"
      }
    },
    {
      "cell_type": "markdown",
      "source": [
        "# 1. Write a python script to take your name as input from the user and then print it.\n",
        "\n"
      ],
      "metadata": {
        "id": "IKJTZky_8EpE"
      }
    },
    {
      "cell_type": "code",
      "source": [
        "name= input('Enter your name :')\n",
        "\n",
        "print('Your name is :', name)"
      ],
      "metadata": {
        "colab": {
          "base_uri": "https://localhost:8080/"
        },
        "id": "AA75o82C8CS9",
        "outputId": "f7446ad3-15e7-469b-8a55-bc8918858e5a"
      },
      "execution_count": 1,
      "outputs": [
        {
          "output_type": "stream",
          "name": "stdout",
          "text": [
            "Enter your name :Mohammad Wasiq\n",
            "Your name is : Mohammad Wasiq\n"
          ]
        }
      ]
    },
    {
      "cell_type": "markdown",
      "source": [
        "# 2. Write a python script to take input from the user. Input must be a number.\n",
        "\n"
      ],
      "metadata": {
        "id": "_2QcVIOA8FlM"
      }
    },
    {
      "cell_type": "code",
      "source": [
        "num= int(input('Enter a number : '))\n",
        "print('The number you entered is : ', num)"
      ],
      "metadata": {
        "colab": {
          "base_uri": "https://localhost:8080/"
        },
        "id": "ei4pyXB58Fyf",
        "outputId": "6769e7e2-e1ce-4b75-e0fc-d0cde887e494"
      },
      "execution_count": 2,
      "outputs": [
        {
          "output_type": "stream",
          "name": "stdout",
          "text": [
            "Enter a number : 12\n",
            "The number you entered is :  12\n"
          ]
        }
      ]
    },
    {
      "cell_type": "markdown",
      "source": [
        "# 3. Write a python script which takes two numbers from the user, then calculate their sum and display the result.\n",
        "\n"
      ],
      "metadata": {
        "id": "BCZH6RIT8GBe"
      }
    },
    {
      "cell_type": "code",
      "source": [
        "num1= int(input('Enter 1st number :'))\n",
        "num2= int(input('Enter 2nd number :'))\n",
        "\n",
        "print('Sum of two number is :', num1+num2)"
      ],
      "metadata": {
        "colab": {
          "base_uri": "https://localhost:8080/"
        },
        "id": "ITUTHIIr8GWO",
        "outputId": "8f3b69d9-2b92-4fcf-8f5e-20f5ee989b53"
      },
      "execution_count": 3,
      "outputs": [
        {
          "output_type": "stream",
          "name": "stdout",
          "text": [
            "Enter 1st number :12\n",
            "Enter 2nd number :11\n",
            "Sum of two number is : 23\n"
          ]
        }
      ]
    },
    {
      "cell_type": "markdown",
      "source": [
        "# 4. Write a python script which takes the radius from the user and display area of a circle.\n",
        "\n"
      ],
      "metadata": {
        "id": "jSvsbxsY8Gk-"
      }
    },
    {
      "cell_type": "code",
      "source": [
        "from cmath import pi\n",
        "radius= float(input('Enter the radius of circle :'))\n",
        "areaofcircle= pi*radius**2\n",
        "print('Area of circle is :','%.2f'%areaofcircle)"
      ],
      "metadata": {
        "colab": {
          "base_uri": "https://localhost:8080/"
        },
        "id": "inawMt9T8Gzb",
        "outputId": "ffeaf48c-80fc-46be-df86-c00a37ebbc70"
      },
      "execution_count": 4,
      "outputs": [
        {
          "output_type": "stream",
          "name": "stdout",
          "text": [
            "Enter the radius of circle :7\n",
            "Area of circle is : 153.94\n"
          ]
        }
      ]
    },
    {
      "cell_type": "markdown",
      "source": [
        "# 5. Write a python script to calculate the square of a number. Number is entered by the user."
      ],
      "metadata": {
        "id": "k9aYckeT8HEs"
      }
    },
    {
      "cell_type": "code",
      "source": [
        "num= float(input('Enter the number : '))\n",
        "print('Square of ',num,\" are : \",'%.2f'%num**2)"
      ],
      "metadata": {
        "colab": {
          "base_uri": "https://localhost:8080/"
        },
        "id": "DraHZ_pt8HUj",
        "outputId": "9325afdf-73e2-4df6-b87f-03b7296891a3"
      },
      "execution_count": 5,
      "outputs": [
        {
          "output_type": "stream",
          "name": "stdout",
          "text": [
            "Enter the number : 12.12\n",
            "Square of  12.12  are :  146.89\n"
          ]
        }
      ]
    },
    {
      "cell_type": "markdown",
      "source": [
        "# 6. Write a python script to calculate the area of Triangle. Number is entered by the user.\n",
        "\n"
      ],
      "metadata": {
        "id": "tDYacDLh8HmF"
      }
    },
    {
      "cell_type": "code",
      "source": [
        "base= float(input('Enter the base value : '))\n",
        "height= float(input('Enter the height value : '))\n",
        "area=(base*height)/2\n",
        "\n",
        "print('Area of triangle are :','%.2f'%area)"
      ],
      "metadata": {
        "colab": {
          "base_uri": "https://localhost:8080/"
        },
        "id": "FghCYy4o8H1M",
        "outputId": "a2a2d66a-7192-4151-b908-839d7acd4111"
      },
      "execution_count": 6,
      "outputs": [
        {
          "output_type": "stream",
          "name": "stdout",
          "text": [
            "Enter the base value : 12.11\n",
            "Enter the height value : 13.13\n",
            "Area of triangle are : 79.50\n"
          ]
        }
      ]
    },
    {
      "cell_type": "markdown",
      "source": [
        "# 7. Write a python script to calculate average of three numbers, entered by the user\n",
        "\n"
      ],
      "metadata": {
        "id": "PHsk2yI38IEF"
      }
    },
    {
      "cell_type": "code",
      "source": [
        "num1= float(input(\"Enter the 1st number :\"))\n",
        "num2= float(input(\"Enter the 2nd number :\"))\n",
        "num3= float(input('Enter the 3rd number :'))\n",
        "print('Average of',num1,num2,num3,\" are :\",'%.2f'%((num1+num2+num3)/3))"
      ],
      "metadata": {
        "colab": {
          "base_uri": "https://localhost:8080/"
        },
        "id": "TA1SrhJq8IT_",
        "outputId": "242c6bba-e972-4362-9912-47952b077e3b"
      },
      "execution_count": 7,
      "outputs": [
        {
          "output_type": "stream",
          "name": "stdout",
          "text": [
            "Enter the 1st number :12.0\n",
            "Enter the 2nd number :13.0\n",
            "Enter the 3rd number :14.0\n",
            "Average of 12.0 13.0 14.0  are : 13.00\n"
          ]
        }
      ]
    },
    {
      "cell_type": "markdown",
      "source": [
        "# 8. Write a python script to calculate simple interest\n"
      ],
      "metadata": {
        "id": "od_MSIg-8IjZ"
      }
    },
    {
      "cell_type": "code",
      "source": [
        "principle= float(input('Enter the initial interest balance :'))\n",
        "rate= float(input('Enter the annual rate interest :'))\n",
        "time= float(input('Enter the time in years :'))\n",
        "final_amount= ((principle*rate*time)/100)\n",
        "print('The final amount is :','%.2f'%final_amount)"
      ],
      "metadata": {
        "colab": {
          "base_uri": "https://localhost:8080/"
        },
        "id": "zGQziynF8IwD",
        "outputId": "41ae0c70-1a8b-4264-a8c6-18ffa2cc7822"
      },
      "execution_count": 8,
      "outputs": [
        {
          "output_type": "stream",
          "name": "stdout",
          "text": [
            "Enter the initial interest balance :100000\n",
            "Enter the annual rate interest :12\n",
            "Enter the time in years :5\n",
            "The final amount is : 60000.00\n"
          ]
        }
      ]
    },
    {
      "cell_type": "markdown",
      "source": [
        "# 9. Write a python script to calculate the volume of a cuboid.\n",
        "\n"
      ],
      "metadata": {
        "id": "UIfA8Smd8J7s"
      }
    },
    {
      "cell_type": "code",
      "source": [
        "len= float(input('Enter the length of cuboid :'))\n",
        "wid= float(input('Enter the width of cuboid :'))\n",
        "height= float(input('Enter the height of cuboid :'))\n",
        "vol= len*wid*height\n",
        "print('Volume of cuboid is :','%.2f'%vol)"
      ],
      "metadata": {
        "colab": {
          "base_uri": "https://localhost:8080/"
        },
        "id": "XAbxX5K18Izd",
        "outputId": "111c624d-5863-436b-91d6-c479fc9643ff"
      },
      "execution_count": 9,
      "outputs": [
        {
          "output_type": "stream",
          "name": "stdout",
          "text": [
            "Enter the length of cuboid :11\n",
            "Enter the width of cuboid :8\n",
            "Enter the height of cuboid :4\n",
            "Volume of cuboid is : 352.00\n"
          ]
        }
      ]
    },
    {
      "cell_type": "markdown",
      "source": [
        "# 10. Write a python script to calculate area of a rectangle\n",
        "\n"
      ],
      "metadata": {
        "id": "FXy5Md5g8KwL"
      }
    },
    {
      "cell_type": "code",
      "source": [
        "len= float(input('Enter the length of rectangle : '))\n",
        "wid= float(input('Enter the breadth of rectangle : '))\n",
        "area=len*wid\n",
        "print('Area of rectangle are :','%.2f'%area)"
      ],
      "metadata": {
        "colab": {
          "base_uri": "https://localhost:8080/"
        },
        "id": "0XTW71Tb8LAC",
        "outputId": "e7ee79a6-a72d-4bf6-d7a5-3809ba6d069b"
      },
      "execution_count": 10,
      "outputs": [
        {
          "output_type": "stream",
          "name": "stdout",
          "text": [
            "Enter the length of rectangle : 15\n",
            "Enter the breadth of rectangle : 12\n",
            "Area of rectangle are : 180.00\n"
          ]
        }
      ]
    }
  ]
}