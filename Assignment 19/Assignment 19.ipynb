{
 "cells": [
  {
   "cell_type": "markdown",
   "id": "feb12a9d",
   "metadata": {},
   "source": [
    "![image](https://user-images.githubusercontent.com/57321948/196933065-4b16c235-f3b9-4391-9cfe-4affcec87c35.png)\n",
    "\n",
    "# Name: Mohammad Wasiq\n",
    "## Email: mohammadwasiq0786@gmail.com\n",
    "### Assignment 19"
   ]
  },
  {
   "cell_type": "markdown",
   "id": "a83ddf8f",
   "metadata": {},
   "source": [
    "# 1. Write a python program to create a simple function which prints “MySirG” ."
   ]
  },
  {
   "cell_type": "code",
   "execution_count": 1,
   "id": "1893beeb",
   "metadata": {
    "ExecuteTime": {
     "end_time": "2023-02-23T04:07:24.215579Z",
     "start_time": "2023-02-23T04:07:24.196628Z"
    }
   },
   "outputs": [
    {
     "name": "stdout",
     "output_type": "stream",
     "text": [
      "MySirG\n"
     ]
    }
   ],
   "source": [
    "def func():\n",
    "    print(\"MySirG\")\n",
    "\n",
    "\n",
    "func()"
   ]
  },
  {
   "cell_type": "markdown",
   "id": "f68315a9",
   "metadata": {},
   "source": [
    "# 2. Write a python program to create a function which expects two arguments and print them in the function body."
   ]
  },
  {
   "cell_type": "code",
   "execution_count": 2,
   "id": "b55f602a",
   "metadata": {
    "ExecuteTime": {
     "end_time": "2023-02-23T04:08:08.619626Z",
     "start_time": "2023-02-23T04:08:01.125385Z"
    }
   },
   "outputs": [
    {
     "name": "stdout",
     "output_type": "stream",
     "text": [
      "Enter your First name : Mohammad \n",
      "Enter your last name : Wasiq\n",
      "Hello  Mohammad  Wasiq\n"
     ]
    }
   ],
   "source": [
    "def fun(first_name, last_name):\n",
    "    print(\"Hello \", first_name,last_name)\n",
    "    \n",
    "first_name= input(\"Enter your First name : \")\n",
    "last_name= input(\"Enter your last name : \")\n",
    "fun(first_name,last_name)"
   ]
  },
  {
   "cell_type": "markdown",
   "id": "66e5a8e3",
   "metadata": {},
   "source": [
    "# 3. Write a python program to create a function which expects an unknown number of arguments."
   ]
  },
  {
   "cell_type": "code",
   "execution_count": 3,
   "id": "975b6297",
   "metadata": {
    "ExecuteTime": {
     "end_time": "2023-02-23T04:09:03.435353Z",
     "start_time": "2023-02-23T04:08:53.059987Z"
    }
   },
   "outputs": [
    {
     "name": "stdout",
     "output_type": "stream",
     "text": [
      "Enter the numbers seperated by space : 1 2 3 4 5\n",
      "sum of the arguments you entered is :  15\n"
     ]
    }
   ],
   "source": [
    "def fun(*t):\n",
    "    s=0\n",
    "    # doing sum of the arguments that passed on the function\n",
    "    for i in t:\n",
    "        for j in i:\n",
    "            s+=j\n",
    "    return s\n",
    "    \n",
    "\n",
    "arg=[int(i) for i in (input(\"Enter the numbers seperated by space : \").split(' '))]\n",
    "print(\"sum of the arguments you entered is : \",fun(arg))"
   ]
  },
  {
   "cell_type": "markdown",
   "id": "72a666f3",
   "metadata": {},
   "source": [
    "# 4. Write a python program to create a function which expects kwargs arguments."
   ]
  },
  {
   "cell_type": "code",
   "execution_count": 4,
   "id": "6d20fb1c",
   "metadata": {
    "ExecuteTime": {
     "end_time": "2023-02-23T04:09:56.195472Z",
     "start_time": "2023-02-23T04:09:56.186497Z"
    }
   },
   "outputs": [
    {
     "name": "stdout",
     "output_type": "stream",
     "text": [
      "type  :  <class 'dict'>\n",
      "key =  name  and values :  Wasiq\n",
      "key =  age  and values :  22\n",
      "key =  state  and values :  U.P\n"
     ]
    }
   ],
   "source": [
    "def sum(**kwargs):\n",
    "    print(\"type  : \",type(kwargs))\n",
    "    for i,j in kwargs.items():\n",
    "        print(\"key = \",i,\" and values : \",j)\n",
    "\n",
    "sum(name=\"Wasiq\", age=22, state= \"U.P\")"
   ]
  },
  {
   "cell_type": "markdown",
   "id": "6b2264d8",
   "metadata": {},
   "source": [
    "# 5. Write a python program to create a function which expects a list as an argument.\n"
   ]
  },
  {
   "cell_type": "code",
   "execution_count": 5,
   "id": "554def3a",
   "metadata": {
    "ExecuteTime": {
     "end_time": "2023-02-23T04:10:46.265304Z",
     "start_time": "2023-02-23T04:10:40.231966Z"
    }
   },
   "outputs": [
    {
     "name": "stdout",
     "output_type": "stream",
     "text": [
      "Enter the numbers seperated by space 1 2 3 4 5\n",
      "type of argument :  <class 'list'>\n",
      "Argument are :  [1, 2, 3, 4, 5]\n",
      "sum of given argument are :  15\n"
     ]
    }
   ],
   "source": [
    "def fun(a):\n",
    "    print(\"type of argument : \",type(a))\n",
    "    print(\"Argument are : \",a)\n",
    "    s=0\n",
    "    for i in a:\n",
    "        s+=i\n",
    "    print(\"sum of given argument are : \",s)\n",
    "\n",
    "x=[int(i) for i in input(\"Enter the numbers seperated by space \").split(' ')]\n",
    "fun(x)"
   ]
  },
  {
   "cell_type": "markdown",
   "id": "1410e3dd",
   "metadata": {},
   "source": [
    "# 6. Write a python program to create a function that finds a maximum of four numbers."
   ]
  },
  {
   "cell_type": "code",
   "execution_count": 6,
   "id": "f3b9ac50",
   "metadata": {
    "ExecuteTime": {
     "end_time": "2023-02-23T04:11:36.545834Z",
     "start_time": "2023-02-23T04:11:32.333410Z"
    }
   },
   "outputs": [
    {
     "name": "stdout",
     "output_type": "stream",
     "text": [
      "Enter the 4 numbers seperated by space : 1 2 3 4\n",
      "maximum of four numbers are :  4\n"
     ]
    }
   ],
   "source": [
    "def maximun(args):\n",
    "    m=0\n",
    "    for i in args:\n",
    "        if i>m:\n",
    "            m=i\n",
    "    return m\n",
    "\n",
    "\n",
    "x=(int (i) for i in input(\"Enter the 4 numbers seperated by space : \").split(\" \"))\n",
    "print(\"maximum of four numbers are : \",maximun(x))"
   ]
  },
  {
   "cell_type": "markdown",
   "id": "8c1e9713",
   "metadata": {},
   "source": [
    "# 7. Write a python program to sum all the numbers in a list."
   ]
  },
  {
   "cell_type": "code",
   "execution_count": 7,
   "id": "e04f2549",
   "metadata": {
    "ExecuteTime": {
     "end_time": "2023-02-23T04:12:21.236173Z",
     "start_time": "2023-02-23T04:12:16.238812Z"
    }
   },
   "outputs": [
    {
     "name": "stdout",
     "output_type": "stream",
     "text": [
      "Enter the numbers seperated by space : 1 2 3 4 5\n",
      "Given list are :  [1, 2, 3, 4, 5]\n",
      "Sum of the numbers in a list are :  15\n"
     ]
    }
   ],
   "source": [
    "def add(lis):\n",
    "    s=0\n",
    "    for i in lis:\n",
    "        s+=i\n",
    "    return s\n",
    "\n",
    "lis=[int(i) for i in input(\"Enter the numbers seperated by space : \").split(' ')]\n",
    "print(\"Given list are : \",lis)\n",
    "print(\"Sum of the numbers in a list are : \",add(lis))"
   ]
  },
  {
   "cell_type": "markdown",
   "id": "9b362ba1",
   "metadata": {},
   "source": [
    "# 8. Write a python program to multiply all the numbers in a list."
   ]
  },
  {
   "cell_type": "code",
   "execution_count": 8,
   "id": "09f045be",
   "metadata": {
    "ExecuteTime": {
     "end_time": "2023-02-23T04:12:56.888718Z",
     "start_time": "2023-02-23T04:12:51.228477Z"
    }
   },
   "outputs": [
    {
     "name": "stdout",
     "output_type": "stream",
     "text": [
      "Enter the numbers in the list seperated by space : 1 2 3 4 5\n",
      "Given list are :  [1, 2, 3, 4, 5]\n",
      "Multiplication of the elements of the list are :  120\n"
     ]
    }
   ],
   "source": [
    "def mul(lis):\n",
    "    m=1\n",
    "    for i in lis:\n",
    "        m*=i\n",
    "    return m\n",
    "\n",
    "lis=[int(i) for i in input(\"Enter the numbers in the list seperated by space : \").split(' ')]\n",
    "print(\"Given list are : \",lis)\n",
    "print(\"Multiplication of the elements of the list are : \",mul(lis))"
   ]
  },
  {
   "cell_type": "markdown",
   "id": "b1f994c2",
   "metadata": {},
   "source": [
    "# 9. Write a python program to create a function to check whether a number falls in a given range\n"
   ]
  },
  {
   "cell_type": "code",
   "execution_count": 9,
   "id": "5e29cc2a",
   "metadata": {
    "ExecuteTime": {
     "end_time": "2023-02-23T04:13:40.939486Z",
     "start_time": "2023-02-23T04:13:24.349950Z"
    }
   },
   "outputs": [
    {
     "name": "stdout",
     "output_type": "stream",
     "text": [
      "Enter the number : 12345\n",
      "Enter the starting range : 3\n",
      "Enter the ending range : 4\n",
      "number is not falling in the given range \n"
     ]
    }
   ],
   "source": [
    "def check(num,ran):\n",
    "    for i in ran:\n",
    "        if num==i:\n",
    "            print(\"number is falling in a given range \")\n",
    "            break\n",
    "    else:\n",
    "        print(\"number is not falling in the given range \")\n",
    "\n",
    "num= int(input(\"Enter the number : \"))\n",
    "a= int(input(\"Enter the starting range : \"))\n",
    "b= int(input(\"Enter the ending range : \"))\n",
    "check(num,range(a,b+1))"
   ]
  },
  {
   "cell_type": "markdown",
   "id": "49326aa3",
   "metadata": {},
   "source": [
    "# 10. Write a python program to create a function to check whether a given number is even or odd."
   ]
  },
  {
   "cell_type": "code",
   "execution_count": 10,
   "id": "7d8a1a01",
   "metadata": {
    "ExecuteTime": {
     "end_time": "2023-02-23T04:14:17.823902Z",
     "start_time": "2023-02-23T04:14:14.083155Z"
    }
   },
   "outputs": [
    {
     "name": "stdout",
     "output_type": "stream",
     "text": [
      "Enter the number : 12345\n",
      "Number is odd number i.e  12345\n"
     ]
    }
   ],
   "source": [
    "def fun(num):\n",
    "    if num%2==0:\n",
    "        print(\"Number is even number i.e \", num)\n",
    "    else:\n",
    "        print(\"Number is odd number i.e \", num)\n",
    "\n",
    "num=int(input(\"Enter the number : \"))\n",
    "fun(num)"
   ]
  }
 ],
 "metadata": {
  "kernelspec": {
   "display_name": "Python 3 (ipykernel)",
   "language": "python",
   "name": "python3"
  },
  "language_info": {
   "codemirror_mode": {
    "name": "ipython",
    "version": 3
   },
   "file_extension": ".py",
   "mimetype": "text/x-python",
   "name": "python",
   "nbconvert_exporter": "python",
   "pygments_lexer": "ipython3",
   "version": "3.9.12"
  },
  "latex_envs": {
   "LaTeX_envs_menu_present": true,
   "autoclose": false,
   "autocomplete": true,
   "bibliofile": "biblio.bib",
   "cite_by": "apalike",
   "current_citInitial": 1,
   "eqLabelWithNumbers": true,
   "eqNumInitial": 1,
   "hotkeys": {
    "equation": "Ctrl-E",
    "itemize": "Ctrl-I"
   },
   "labels_anchors": false,
   "latex_user_defs": false,
   "report_style_numbering": false,
   "user_envs_cfg": false
  },
  "nbTranslate": {
   "displayLangs": [
    "*"
   ],
   "hotkey": "alt-t",
   "langInMainMenu": true,
   "sourceLang": "en",
   "targetLang": "fr",
   "useGoogleTranslate": true
  },
  "toc": {
   "base_numbering": 1,
   "nav_menu": {},
   "number_sections": true,
   "sideBar": true,
   "skip_h1_title": false,
   "title_cell": "Table of Contents",
   "title_sidebar": "Contents",
   "toc_cell": false,
   "toc_position": {},
   "toc_section_display": true,
   "toc_window_display": false
  },
  "varInspector": {
   "cols": {
    "lenName": 16,
    "lenType": 16,
    "lenVar": 40
   },
   "kernels_config": {
    "python": {
     "delete_cmd_postfix": "",
     "delete_cmd_prefix": "del ",
     "library": "var_list.py",
     "varRefreshCmd": "print(var_dic_list())"
    },
    "r": {
     "delete_cmd_postfix": ") ",
     "delete_cmd_prefix": "rm(",
     "library": "var_list.r",
     "varRefreshCmd": "cat(var_dic_list()) "
    }
   },
   "types_to_exclude": [
    "module",
    "function",
    "builtin_function_or_method",
    "instance",
    "_Feature"
   ],
   "window_display": false
  }
 },
 "nbformat": 4,
 "nbformat_minor": 5
}
