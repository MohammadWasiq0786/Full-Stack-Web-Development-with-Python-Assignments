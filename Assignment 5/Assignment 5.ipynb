{
  "nbformat": 4,
  "nbformat_minor": 0,
  "metadata": {
    "colab": {
      "provenance": []
    },
    "kernelspec": {
      "name": "python3",
      "display_name": "Python 3"
    },
    "language_info": {
      "name": "python"
    }
  },
  "cells": [
    {
      "cell_type": "markdown",
      "source": [
        "![image](https://user-images.githubusercontent.com/57321948/196933065-4b16c235-f3b9-4391-9cfe-4affcec87c35.png)\n",
        "\n",
        "\n",
        "# Name: **Mohammad Wasiq**\n",
        "## Email: **mohammadwasiq0786@gmail.com**\n",
        "### Assignment 5"
      ],
      "metadata": {
        "id": "U-um9vID2sir"
      }
    },
    {
      "cell_type": "markdown",
      "source": [
        "# 1. Write a python script to remove the last digit from a given number. (for example, if user enters 2534 then your output should be 253)\n",
        "\n"
      ],
      "metadata": {
        "id": "Fs7Ggs4J-F6r"
      }
    },
    {
      "cell_type": "code",
      "source": [
        "num= int(input(\"Enter the number :\"))\n",
        "num= num//10\n",
        "print(\"After the removing of last element the number becomes :\", num)"
      ],
      "metadata": {
        "colab": {
          "base_uri": "https://localhost:8080/"
        },
        "id": "cV68exIR-DGB",
        "outputId": "5c60b021-7226-44ce-aa86-d0ebac8db103"
      },
      "execution_count": 11,
      "outputs": [
        {
          "output_type": "stream",
          "name": "stdout",
          "text": [
            "Enter the number :20\n",
            "After the removing of last element the number becomes : 2\n"
          ]
        }
      ]
    },
    {
      "cell_type": "markdown",
      "source": [
        "# 2. Write a python script to get the last digit from a given number. (for example, if user\n",
        "# enters 2089 then your output should be 9)"
      ],
      "metadata": {
        "id": "C2WrW85q-GmW"
      }
    },
    {
      "cell_type": "code",
      "source": [
        "num= int(input(\"Enter the number : \"))\n",
        "num= num%10\n",
        "print(\"The last digit of the given number are :\", num)"
      ],
      "metadata": {
        "colab": {
          "base_uri": "https://localhost:8080/"
        },
        "id": "Nlpdn3xd-GyD",
        "outputId": "bb838d73-0563-435e-f5bb-9b912761bf79"
      },
      "execution_count": 12,
      "outputs": [
        {
          "output_type": "stream",
          "name": "stdout",
          "text": [
            "Enter the number : 10\n",
            "The last digit of the given number are : 0\n"
          ]
        }
      ]
    },
    {
      "cell_type": "markdown",
      "source": [
        "# 3. Write a python script to swap data of two variables\n",
        "\n"
      ],
      "metadata": {
        "id": "jA-UvnQg-G-9"
      }
    },
    {
      "cell_type": "code",
      "source": [
        "num1= int(input(\"Enter the 1st digit : \"))\n",
        "num2= int(input(\"Enter the 2nd digit : \"))\n",
        "print(\"Before Swapping : 1st number = \",num1,\" and 2nd number = \", num2)\n",
        "num1,num2= num2,num1\n",
        "print(\"After Swapping : 1st number = \",num1,\" and 2nd number = \", num2)"
      ],
      "metadata": {
        "colab": {
          "base_uri": "https://localhost:8080/"
        },
        "id": "QyajI6r1-HL9",
        "outputId": "9ae02017-6349-4b4e-d56a-45ac0e59e460"
      },
      "execution_count": 13,
      "outputs": [
        {
          "output_type": "stream",
          "name": "stdout",
          "text": [
            "Enter the 1st digit : 12\n",
            "Enter the 2nd digit : 6\n",
            "Before Swapping : 1st number =  12  and 2nd number =  6\n",
            "After Swapping : 1st number =  6  and 2nd number =  12\n"
          ]
        }
      ]
    },
    {
      "cell_type": "markdown",
      "source": [
        "# 4. Write a python script to find x power y, where values of x and y are given by user."
      ],
      "metadata": {
        "id": "GWnkLnnT-HXr"
      }
    },
    {
      "cell_type": "code",
      "source": [
        "x= int(input(\"Enter the number x :\"))\n",
        "y= int(input(\"Enter the number y :\"))\n",
        "print(\"The x power y i.e\",x,\"power\",y,\" is :\",x**y)"
      ],
      "metadata": {
        "colab": {
          "base_uri": "https://localhost:8080/"
        },
        "id": "QxLqKYGY-Hj8",
        "outputId": "92f318de-689b-497b-8b76-8f8c9f8e7e68"
      },
      "execution_count": 14,
      "outputs": [
        {
          "output_type": "stream",
          "name": "stdout",
          "text": [
            "Enter the number x :12\n",
            "Enter the number y :3\n",
            "The x power y i.e 12 power 3  is : 1728\n"
          ]
        }
      ]
    },
    {
      "cell_type": "markdown",
      "source": [
        "# 5. Write a python script which takes a three digit number from the user and displays only its first digit.\n",
        "\n"
      ],
      "metadata": {
        "id": "QOUxUnAd-HwK"
      }
    },
    {
      "cell_type": "code",
      "source": [
        "num= int(input(\"Enter the three digit number : \"))\n",
        "num= num//100\n",
        "print('The first digit of given number are : ', num)"
      ],
      "metadata": {
        "colab": {
          "base_uri": "https://localhost:8080/"
        },
        "id": "BJnWMJ9h-H7o",
        "outputId": "8b8fe233-f848-4bde-a7c2-9dbd5def4aac"
      },
      "execution_count": 15,
      "outputs": [
        {
          "output_type": "stream",
          "name": "stdout",
          "text": [
            "Enter the three digit number : 20000\n",
            "The first digit of given number are :  200\n"
          ]
        }
      ]
    },
    {
      "cell_type": "markdown",
      "source": [
        "# 6. Write a python script which takes a three digit number from the user and displays only its middle digit.\n",
        "\n"
      ],
      "metadata": {
        "id": "aFES9Wh8-IIT"
      }
    },
    {
      "cell_type": "code",
      "source": [
        "num= int(input(\"Enter the three digit number : \"))\n",
        "num= num//10\n",
        "num= num%10\n",
        "print(\"The middle digit of given number are : \", num)"
      ],
      "metadata": {
        "colab": {
          "base_uri": "https://localhost:8080/"
        },
        "id": "R8koVNvu-ITv",
        "outputId": "2baf89c1-f927-4c6f-8c51-4960a741c49e"
      },
      "execution_count": 16,
      "outputs": [
        {
          "output_type": "stream",
          "name": "stdout",
          "text": [
            "Enter the three digit number : 200\n",
            "The middle digit of given number are :  0\n"
          ]
        }
      ]
    },
    {
      "cell_type": "markdown",
      "source": [
        "# 7. Write a python script which takes a three digit number from the user and displays only its last digit.\n",
        "\n"
      ],
      "metadata": {
        "id": "bsh5KswG-Igv"
      }
    },
    {
      "cell_type": "code",
      "source": [
        "num= int(input(\"Enter the three digit number :\"))\n",
        "num= num%10\n",
        "print(\"The last digit of given number are : \", num)"
      ],
      "metadata": {
        "colab": {
          "base_uri": "https://localhost:8080/"
        },
        "id": "phByPsuv-IuI",
        "outputId": "c3f84f3f-d389-47e7-8d19-98672a6c259f"
      },
      "execution_count": 17,
      "outputs": [
        {
          "output_type": "stream",
          "name": "stdout",
          "text": [
            "Enter the three digit number :15\n",
            "The last digit of given number are :  5\n"
          ]
        }
      ]
    },
    {
      "cell_type": "markdown",
      "source": [
        "# 8. Write a python script to use IN operator to display the data present in the list."
      ],
      "metadata": {
        "id": "1_37LU35-I8v"
      }
    },
    {
      "cell_type": "code",
      "source": [
        "lis= eval(input(\"Enter the list : \"))\n",
        "num= int(input(\"Enter any number to check that it is present in list or not : \"))\n",
        "print(num in lis)"
      ],
      "metadata": {
        "colab": {
          "base_uri": "https://localhost:8080/"
        },
        "id": "ZqIKTBLN-JK9",
        "outputId": "7681aacf-f697-41d6-b47b-c8389070e6aa"
      },
      "execution_count": 18,
      "outputs": [
        {
          "output_type": "stream",
          "name": "stdout",
          "text": [
            "Enter the list : 1,2,3,4,5\n",
            "Enter any number to check that it is present in list or not : 1\n",
            "True\n"
          ]
        }
      ]
    },
    {
      "cell_type": "markdown",
      "source": [
        "# 9. Write a python script to use NOT IN operator to display the data not present in list\n",
        "\n"
      ],
      "metadata": {
        "id": "A4sySRcA-JYL"
      }
    },
    {
      "cell_type": "code",
      "source": [
        "lis= eval(input(\"Enter the list : \"))\n",
        "num= int(input(\"Enter any number : \"))\n",
        "print(num not in lis)"
      ],
      "metadata": {
        "colab": {
          "base_uri": "https://localhost:8080/"
        },
        "id": "_L_hF3-C-JuI",
        "outputId": "7a735537-c4af-4a9c-f2c0-5fdf8a8cb5fc"
      },
      "execution_count": 20,
      "outputs": [
        {
          "output_type": "stream",
          "name": "stdout",
          "text": [
            "Enter the list : 1,2,3,4,5\n",
            "Enter any number : 6\n",
            "True\n"
          ]
        }
      ]
    },
    {
      "cell_type": "markdown",
      "source": [
        "# 10. Write a python script to use IS operator to display if both variables are the same object or not?\n",
        "\n"
      ],
      "metadata": {
        "id": "L93i3Bv3-J9C"
      }
    },
    {
      "cell_type": "code",
      "source": [
        "num1= int(input(\"Enter the 1st number : \"))\n",
        "num2= int(input(\"Enter the 2nd number : \"))\n",
        "print(\"Both variable are the same object : \", num1 is num2)"
      ],
      "metadata": {
        "colab": {
          "base_uri": "https://localhost:8080/"
        },
        "id": "jHYAFlAz-KMr",
        "outputId": "f37d3384-f841-474b-fc4a-daebc9def629"
      },
      "execution_count": 21,
      "outputs": [
        {
          "output_type": "stream",
          "name": "stdout",
          "text": [
            "Enter the 1st number : 12\n",
            "Enter the 2nd number : 13\n",
            "Both variable are the same object :  False\n"
          ]
        }
      ]
    }
  ]
}