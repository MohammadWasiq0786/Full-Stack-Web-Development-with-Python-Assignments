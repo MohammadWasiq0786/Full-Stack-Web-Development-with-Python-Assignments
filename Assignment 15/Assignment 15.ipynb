{
  "nbformat": 4,
  "nbformat_minor": 0,
  "metadata": {
    "colab": {
      "provenance": []
    },
    "kernelspec": {
      "name": "python3",
      "display_name": "Python 3"
    },
    "language_info": {
      "name": "python"
    }
  },
  "cells": [
    {
      "cell_type": "markdown",
      "source": [
        "![image](https://user-images.githubusercontent.com/57321948/196933065-4b16c235-f3b9-4391-9cfe-4affcec87c35.png)\n",
        "\n",
        "\n",
        "# Name: **Mohammad Wasiq**\n",
        "## Email: **mohammadwasiq0786@gmail.com**\n",
        "### Assignment 15"
      ],
      "metadata": {
        "id": "ihQkV_KWHc20"
      }
    },
    {
      "cell_type": "markdown",
      "source": [
        "# 1. Write a python script to create a String in 3 different possible ways"
      ],
      "metadata": {
        "id": "_MRXK8nPY55o"
      }
    },
    {
      "cell_type": "code",
      "source": [
        "st1='hello 1st string '\n",
        "st2=\"hello 2nd string \"\n",
        "st3='''hello 3rd string'''\n",
        "print(\"String with '' : \",st1)\n",
        "print(\"String with \"\" : \",st2)\n",
        "print(\"String with ''' ''' : \",st3)"
      ],
      "metadata": {
        "colab": {
          "base_uri": "https://localhost:8080/"
        },
        "id": "uWguapU2Y6RK",
        "outputId": "5564610a-8582-46a4-d20d-0a4abf788b40"
      },
      "execution_count": 119,
      "outputs": [
        {
          "output_type": "stream",
          "name": "stdout",
          "text": [
            "String with '' :  hello 1st string \n",
            "String with  :  hello 2nd string \n",
            "String with ''' ''' :  hello 3rd string\n"
          ]
        }
      ]
    },
    {
      "cell_type": "markdown",
      "source": [
        "# 2 Write a python script to Get the characters from the start to position 5 (Given String “iNeuron” using the slice syntax)\n",
        "\n"
      ],
      "metadata": {
        "id": "l7egvfH9Y6s9"
      }
    },
    {
      "cell_type": "code",
      "source": [
        "st=\"iNeuron\"\n",
        "print(\"Characters from the start to position 5 are : \",st[:5:])"
      ],
      "metadata": {
        "colab": {
          "base_uri": "https://localhost:8080/"
        },
        "id": "f3ik61ZFY639",
        "outputId": "06058f29-9ca3-4420-e833-7678b271a7c3"
      },
      "execution_count": 120,
      "outputs": [
        {
          "output_type": "stream",
          "name": "stdout",
          "text": [
            "Characters from the start to position 5 are :  iNeur\n"
          ]
        }
      ]
    },
    {
      "cell_type": "markdown",
      "source": [
        "# 3. Write a python script to Get the characters from position 2 to position 5 (Given String “Hello Learners” using the slice syntax)\n",
        "\n"
      ],
      "metadata": {
        "id": "o3Q92TrnY7CL"
      }
    },
    {
      "cell_type": "code",
      "source": [
        "st=\"Hello Learners\"\n",
        "print(\"Characters from position 2 to 5 are : \",st[1:5:])"
      ],
      "metadata": {
        "colab": {
          "base_uri": "https://localhost:8080/"
        },
        "id": "v3m8YvVtY7MS",
        "outputId": "cdb62811-371c-42c3-f060-44330a491263"
      },
      "execution_count": 121,
      "outputs": [
        {
          "output_type": "stream",
          "name": "stdout",
          "text": [
            "Characters from position 2 to 5 are :  ello\n"
          ]
        }
      ]
    },
    {
      "cell_type": "markdown",
      "source": [
        "# 4. Write a python script to demonstrate String Concatenation adding space in between (Given Strings a=”Learning” b=”Python” )"
      ],
      "metadata": {
        "id": "uA2sPLSkY7Wd"
      }
    },
    {
      "cell_type": "code",
      "source": [
        "a=\"Learning\"\n",
        "b=\"Python\"\n",
        "\n",
        "print(\"After the concatenation :  \",(\"%s %s\")%(a,b))"
      ],
      "metadata": {
        "colab": {
          "base_uri": "https://localhost:8080/"
        },
        "id": "oAroFZA8Y79S",
        "outputId": "a9adba01-b905-49e6-c76f-c2f751fe72dd"
      },
      "execution_count": 122,
      "outputs": [
        {
          "output_type": "stream",
          "name": "stdout",
          "text": [
            "After the concatenation :   Learning Python\n"
          ]
        }
      ]
    },
    {
      "cell_type": "markdown",
      "source": [
        "# 5. Write a python script to get the count of total number of characters in String a= “iNeuron”\n",
        "\n",
        "```py\n",
        "a=\"iNeuron\"\n",
        "print(\"The total numbers of characters in a string is : \", len(a))\n",
        "```"
      ],
      "metadata": {
        "id": "FsYJPoRgY8Vc"
      }
    },
    {
      "cell_type": "markdown",
      "source": [
        "# 6. Write a python script to reverse a String. (“iNeuron”)"
      ],
      "metadata": {
        "id": "zW1RFg8TY8r9"
      }
    },
    {
      "cell_type": "code",
      "source": [
        "from audioop import reverse\n",
        "\n",
        "a=\"iNeuron\"\n",
        "print(\"Normal string : \", a)\n",
        "print(\"Reverse string : \", a[::-1])"
      ],
      "metadata": {
        "colab": {
          "base_uri": "https://localhost:8080/"
        },
        "id": "kZNNy0YhY83S",
        "outputId": "afb02f19-2f45-419d-e51f-c3ca31968b3a"
      },
      "execution_count": 125,
      "outputs": [
        {
          "output_type": "stream",
          "name": "stdout",
          "text": [
            "Normal string :  iNeuron\n",
            "Reverse string :  norueNi\n"
          ]
        }
      ]
    },
    {
      "cell_type": "markdown",
      "source": [
        "# 7. Write a python script to determine whether a string contains a specific substring."
      ],
      "metadata": {
        "id": "o5aMFQ45Y9Bt"
      }
    },
    {
      "cell_type": "code",
      "source": [
        "st= input(\"Enter the string : \")\n",
        "sub= input(\"Enter the substring : \")\n",
        "\n",
        "if sub in st:\n",
        "    print(sub,\" is found in \",st)\n",
        "else:\n",
        "    print(sub,\" is not found in \",st)"
      ],
      "metadata": {
        "colab": {
          "base_uri": "https://localhost:8080/"
        },
        "id": "uSHhs50nY9L5",
        "outputId": "5df4acc9-3e34-4209-bb54-ce7301a91224"
      },
      "execution_count": 126,
      "outputs": [
        {
          "output_type": "stream",
          "name": "stdout",
          "text": [
            "Enter the string : Mohammad\n",
            "Enter the substring : Wasiq\n",
            "Wasiq  is not found in  Mohammad\n"
          ]
        }
      ]
    },
    {
      "cell_type": "markdown",
      "source": [
        "# 8. Write a python script to check if a string contains only numbers."
      ],
      "metadata": {
        "id": "kw85U3TpY9s_"
      }
    },
    {
      "cell_type": "code",
      "source": [
        "st=input(\"Enter the string : \")\n",
        "if st.isdigit():\n",
        "    print(\"String contain only a numbers i.e \",st )\n",
        "else:\n",
        "    print(\"String does not contain only a numbers i.e \",st )"
      ],
      "metadata": {
        "colab": {
          "base_uri": "https://localhost:8080/"
        },
        "id": "pKjZa2RwY96v",
        "outputId": "266288ed-8942-4dfa-f000-9e271e6bdacf"
      },
      "execution_count": 127,
      "outputs": [
        {
          "output_type": "stream",
          "name": "stdout",
          "text": [
            "Enter the string : Mohammad Wasiq\n",
            "String does not contain only a numbers i.e  Mohammad Wasiq\n"
          ]
        }
      ]
    },
    {
      "cell_type": "markdown",
      "source": [
        "# 9. Write a python script to check if a string contains only characters of the alphabet."
      ],
      "metadata": {
        "id": "5tRWQiH6Y-Fe"
      }
    },
    {
      "cell_type": "code",
      "source": [
        "st=input(\"Enter the string : \")\n",
        "if st.isalpha():\n",
        "    print(\"String contain only aplhabets i.e \",st)\n",
        "else:\n",
        "    print(\"String does not contain only alphabets i.e \",st)"
      ],
      "metadata": {
        "colab": {
          "base_uri": "https://localhost:8080/"
        },
        "id": "N2gwawPRasG4",
        "outputId": "530408de-3992-45b7-dc3f-6ca516edcc28"
      },
      "execution_count": 129,
      "outputs": [
        {
          "output_type": "stream",
          "name": "stdout",
          "text": [
            "Enter the string : Wasiq\n",
            "String contain only aplhabets i.e  Wasiq\n"
          ]
        }
      ]
    },
    {
      "cell_type": "markdown",
      "source": [
        "# 10. Write a python script to convert an integer to a string."
      ],
      "metadata": {
        "id": "mBoz3xruY-ah"
      }
    },
    {
      "cell_type": "code",
      "source": [
        "num=int(input(\"Enter the integer : \"))\n",
        "print(\"Before conversion : \",num,\" type : \",type(num))\n",
        "num=str(num)\n",
        "print(\"After conversion : \",num,\" type : \",type(num))"
      ],
      "metadata": {
        "colab": {
          "base_uri": "https://localhost:8080/"
        },
        "id": "NR3rps2gY-pp",
        "outputId": "96400f07-faea-49ca-ecc6-d0c550dd3975"
      },
      "execution_count": 130,
      "outputs": [
        {
          "output_type": "stream",
          "name": "stdout",
          "text": [
            "Enter the integer : 12\n",
            "Before conversion :  12  type :  <class 'int'>\n",
            "After conversion :  12  type :  <class 'str'>\n"
          ]
        }
      ]
    }
  ]
}