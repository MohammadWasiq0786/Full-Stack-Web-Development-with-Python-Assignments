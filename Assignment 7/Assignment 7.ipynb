{
  "nbformat": 4,
  "nbformat_minor": 0,
  "metadata": {
    "colab": {
      "provenance": [],
      "collapsed_sections": [
        "U-um9vID2sir"
      ]
    },
    "kernelspec": {
      "name": "python3",
      "display_name": "Python 3"
    },
    "language_info": {
      "name": "python"
    }
  },
  "cells": [
    {
      "cell_type": "markdown",
      "source": [
        "![image](https://user-images.githubusercontent.com/57321948/196933065-4b16c235-f3b9-4391-9cfe-4affcec87c35.png)\n",
        "\n",
        "\n",
        "# Name: **Mohammad Wasiq**\n",
        "## Email: **mohammadwasiq0786@gmail.com**\n",
        "### Assignment 7"
      ],
      "metadata": {
        "id": "U-um9vID2sir"
      }
    },
    {
      "cell_type": "markdown",
      "source": [
        "# 1. Write a python script to display the number of days in a given month number\n",
        "```py\n",
        "num= input(\"Enter the month number : \")\n",
        "match num :\n",
        "  case '1' | '3' | '5' | '7' | '8'|  '10' |'12':\n",
        "    print('Number of days are  31 ')\n",
        "  case '4'|'6'|'9'|'11':\n",
        "    print(\"Number of days are 30\")\n",
        "  case '2':\n",
        "    print(\"Number of days are 28/29 \")\n",
        "  case _:\n",
        "    print(\"Please enter valid month number \")\n",
        "```\n"
      ],
      "metadata": {
        "id": "VLfjXHRuD2tI"
      }
    },
    {
      "cell_type": "markdown",
      "source": [
        "# 2. Write a menu driven program to perform following operations - Addition, Subtraction, Multiplication, Division\n",
        "\n",
        "```py\n",
        "print(\"Press 1 for the addition \")\n",
        "print(\"Press 2 for the subtraction \")\n",
        "print(\"Press 3 for the multiplication \")\n",
        "print(\"Press 4 for the division \")\n",
        "num= int(input())\n",
        "\n",
        "match num:\n",
        "    case 1:\n",
        "        a,b=(float(i) for i in input(\"Enter the operands seperated by space :\").split(' '))\n",
        "        print(\"The addition of two number are :\",'%.2f'%(a+b))\n",
        "    case 2:\n",
        "        a,b=(float(i) for i in input(\"Enter the operands seperated by space :\").split(' '))\n",
        "        print(\"The subtraction of two number are :\",'%.2f'%(a-b))\n",
        "    case 3:\n",
        "        a,b=(float (i) for i in input(\"Enter the operands seperated by space :\").split(' '))\n",
        "        print(\"The multiplication of two number are :\",'%.2f'%(a*b))\n",
        "    case 4:\n",
        "        a,b=(float(i) for i in input(\"Enter the operands seperated by space :\").split(' '))\n",
        "        print(\"The division of two number are :\",'%.2f'%(a/b))\n",
        "    case _:\n",
        "        print(\"Enter the valid option \")\n",
        "```        "
      ],
      "metadata": {
        "id": "BKVfOzwWEOer"
      }
    },
    {
      "cell_type": "markdown",
      "source": [
        "# 3. Write a menu driven program with the following options:\n",
        "\n",
        "* a. Check whether a given set of three numbers are lengths of an isosceles triangle or not\n",
        "* b. Check whether a given set of three numbers are lengths of sides of a right angled triangle or not\n",
        "* c. Check whether a given set of three numbers are equilateral triangle or not\n",
        "* d. Exit\n",
        "\n",
        "```py\n",
        "a,b,c=(float(i) for i in input(\"Enter the three numbers seperated by space :\").split(' '))\n",
        "\n",
        "print(\"*\"*51)\n",
        "print(\"Press 1 to Check whether a given set of three numbers are lengths of an isosceles triangle or not \")\n",
        "print(\"Press 2 to Check whether a given set of three numbers are lengths of sides of a right angled triangle or not \")\n",
        "print(\"Press 3 to Check whether a given set of three numbers are equilateral triangle or not \")\n",
        "print(\"Press 4 to Exit\")\n",
        "print(\"*\"*51)\n",
        "\n",
        "num= int(input())\n",
        "match num:\n",
        "    case 1:\n",
        "        if a==b or a==c or b==c :\n",
        "            print(\"Given set of numbers are length of an isosceles triangle\")\n",
        "        else:\n",
        "            print(\"Given set of numbers are not length of an isosceles triangle\")\n",
        "    case 2:\n",
        "        if (a*a)+(b*b)==(c*c) or (a*a)+(c*c)==(b*b) or (c*c)+(b*b)==(a*a):\n",
        "            print(\"Given set of three numbers are lengths of sides of a right angled triangle\")\n",
        "        else:\n",
        "            print(\"Given set of three numbers are not lengths of sides of a right angled triangle\")\n",
        "    case 3:\n",
        "        if a==b==c:\n",
        "            print(\"Given set of three numbers are equilateral triangle\")\n",
        "        else:\n",
        "            print(\"Given set of three numbers are not equilateral triangle\")\n",
        "    case 4:\n",
        "        print(\"Exit successfully\")\n",
        "        exit()\n",
        "    case _:\n",
        "```"
      ],
      "metadata": {
        "id": "I4EoasM3EO2o"
      }
    },
    {
      "cell_type": "markdown",
      "source": [
        "# 4. Write a program which takes user’s age and display the category of person. Age below 10 years- Kid, Age below 20 - Teen, Age below 40 - young, Age below 60 -  Experienced, Age above or equal 60 - Senior Citizena.\n",
        "```py\n",
        "age= int(input(\"Enter your age : \"))\n",
        "match age:\n",
        "  case _ if 0<=age<10:\n",
        "    print(age,\" = Kid\")\n",
        "  case  _ if 10<=age<20:\n",
        "    print(age,\" = Teen\")\n",
        "  case _ if 20<=age<40:\n",
        "    print(age,\" = Young\")\n",
        "  case _ if 40<=age<60:\n",
        "    print(age,\" = Experienced\")\n",
        "  case _ if age>=60:\n",
        "    print(age,\" = Senior citizen\")\n",
        "```"
      ],
      "metadata": {
        "id": "nzrKH2X6EPO2"
      }
    },
    {
      "cell_type": "markdown",
      "source": [
        "# 5. Write a program which takes a number from user. Print Saurabh Shukla if the number is even, print Prateek Jain if the number is negative odd number and print Aditya Choudhary if number is positive odd number.\n",
        "\n",
        "```py\n",
        "num= int(input(\"Enter a number :\"))\n",
        "x=num%2\n",
        "match x:\n",
        "    case 0:\n",
        "        print(\"Saurabh Shukla\")\n",
        "    case _ if num<0 and x!=0:\n",
        "        print(\"Prateek Jain\")\n",
        "    case _ if num>0 and x!=0:\n",
        "        print(\"Aditya Choudhary\")\n",
        "```"
      ],
      "metadata": {
        "id": "vurtln4oEPmY"
      }
    },
    {
      "cell_type": "markdown",
      "source": [
        "# 6. Write a python program to check whether a given string is a multiword string or single word string using match case statement\n",
        "\n",
        "```py\n",
        "st= input(\"ENter the string : \")\n",
        "st=st.strip()\n",
        "match st:\n",
        "    case st if \" \" in st:\n",
        "        print(\"Multiword string\")\n",
        "    case st if \" \" not in st:\n",
        "        print(\"Single word\")\n",
        "    case _:\n",
        "        print(\"Enter valid string\")\n",
        "```"
      ],
      "metadata": {
        "id": "O1n9YIyzEP_w"
      }
    },
    {
      "cell_type": "markdown",
      "source": [
        "# 7. Write a python program to check whether a given number is positive, negative or zero using match case statement\n",
        "\n",
        "```py\n",
        "num= int(input(\"enter the number :\"))\n",
        "match num:\n",
        "    case 0:\n",
        "        print(\"Zero\")\n",
        "    case _ if num>0:\n",
        "        print(\"Positive \")\n",
        "    case _ if num<0:\n",
        "        print(\"Negative \")\n",
        "```"
      ],
      "metadata": {
        "id": "6kMhhfZPEQek"
      }
    },
    {
      "cell_type": "markdown",
      "source": [
        "# 8. Write a python script to check whether two given strings are identical, first string comes before the second in dictionary order or first string comes after the second string in dictionary order using match case statement\n",
        "\n",
        "```py\n",
        "s1= input(\"Enter the first string : \")\n",
        "s2= input(\"Enter the second string : \")\n",
        "\n",
        "match (s1,s2):\n",
        "    case (s1,s2) if s1==s2:\n",
        "        print(\"Identical string\")\n",
        "    case (s1,s2) if s1>s2:\n",
        "        print(s2)\n",
        "        print(s1)\n",
        "    case (s1,s2) if s2>s1:\n",
        "        print(s1)\n",
        "        print(s2)\n",
        "```"
      ],
      "metadata": {
        "id": "2NMgxb0XEQ1N"
      }
    },
    {
      "cell_type": "markdown",
      "source": [
        "# 9. Write a python script to check whether a given year is\n",
        "* a. Non century leap year\n",
        "* b. Century leap year\n",
        "* c. Non century non leap year\n",
        "* d. Century non leap year\n",
        "\n",
        "```py\n",
        "year= int(input(\"Enter any year : \"))\n",
        "match year:\n",
        "    case year if (year%4==0 and year%100!=0):\n",
        "        print(year,\" is a not century leap year \")\n",
        "    case year if year%400==0:\n",
        "        print(year,\" is a century leap year \")\n",
        "    case year if (year%4!=0 and year%100!=0):\n",
        "        print(year,\" non century leap year\")\n",
        "    case year if (year%100==0 and year%4!=0):\n",
        "        print(year,\" century non leap year\" )\n",
        "```"
      ],
      "metadata": {
        "id": "S06NM4sjERMx"
      }
    },
    {
      "cell_type": "markdown",
      "source": [
        "# 10. Write a program to display day name on the basis of user’s liking of a colour. Ask user for his favorite colour. User can answer in a sentence like “I like red colour”. Assuming all colour name entered by user is in lowercase. Use match case to display day name associated with the colour.\n",
        "* a. Yellow - Monday\n",
        "* b. Blue - Tuesday\n",
        "* c. Orange - Wednesday\n",
        "* d. White - Thursday\n",
        "* e. Black - Friday\n",
        "* f. Red - Saturday\n",
        "* g. All other colours - Sunday\n",
        "\n",
        "```py\n",
        "color= input(\"Enter your favourite color : \")\n",
        "lis= ['yellow','blue','orange','white','black','red']\n",
        "for i in lis:\n",
        "    if i in color:\n",
        "        c=i\n",
        "        break\n",
        "else:\n",
        "    c=\"other\"\n",
        "match color:\n",
        "    case 'yellow':\n",
        "        print(\"Monday\")\n",
        "    case 'blue':\n",
        "        print(\"Tuesday\")\n",
        "    case 'orange':\n",
        "        print('Wednesday')\n",
        "    case \"white\":\n",
        "        print(\"Thursday\")\n",
        "    case 'black':\n",
        "        print(\"Friday\")\n",
        "    case \"red\":\n",
        "        print(\"Saturday\")\n",
        "    case \"other\":\n",
        "        print(\"Sunday\")\n",
        "```"
      ],
      "metadata": {
        "id": "U6To5uTcERke"
      }
    }
  ]
}