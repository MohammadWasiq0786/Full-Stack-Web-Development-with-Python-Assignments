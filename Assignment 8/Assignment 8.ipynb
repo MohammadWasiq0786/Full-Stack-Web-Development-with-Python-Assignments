{
  "nbformat": 4,
  "nbformat_minor": 0,
  "metadata": {
    "colab": {
      "provenance": []
    },
    "kernelspec": {
      "name": "python3",
      "display_name": "Python 3"
    },
    "language_info": {
      "name": "python"
    }
  },
  "cells": [
    {
      "cell_type": "markdown",
      "source": [
        "![image](https://user-images.githubusercontent.com/57321948/196933065-4b16c235-f3b9-4391-9cfe-4affcec87c35.png)\n",
        "\n",
        "\n",
        "# Name: **Mohammad Wasiq**\n",
        "## Email: **mohammadwasiq0786@gmail.com**\n",
        "### Assignment 8"
      ],
      "metadata": {
        "id": "ihQkV_KWHc20"
      }
    },
    {
      "cell_type": "markdown",
      "source": [
        "# 1. Write a python script to print MySirG 5 times on the screen."
      ],
      "metadata": {
        "id": "VGmh2nh-Hih4"
      }
    },
    {
      "cell_type": "code",
      "source": [
        "i=1\n",
        "while(i<=5):\n",
        "    print(\"MySirG\")\n",
        "    i+=1"
      ],
      "metadata": {
        "colab": {
          "base_uri": "https://localhost:8080/"
        },
        "id": "Au3GGa1dHeHF",
        "outputId": "6620eeed-6f48-41dd-b331-7108693c1018"
      },
      "execution_count": 43,
      "outputs": [
        {
          "output_type": "stream",
          "name": "stdout",
          "text": [
            "MySirG\n",
            "MySirG\n",
            "MySirG\n",
            "MySirG\n",
            "MySirG\n"
          ]
        }
      ]
    },
    {
      "cell_type": "markdown",
      "source": [
        "# 2. Write a python script to print first 10 natural numbers."
      ],
      "metadata": {
        "id": "9QnhoULGHjwt"
      }
    },
    {
      "cell_type": "code",
      "source": [
        "i=1\n",
        "while(i<=10):\n",
        "    print(i)\n",
        "    i+=1"
      ],
      "metadata": {
        "colab": {
          "base_uri": "https://localhost:8080/"
        },
        "id": "45CJW9DzHj8_",
        "outputId": "4ee3e4aa-dcaf-4a27-f714-c1cd5f488837"
      },
      "execution_count": 44,
      "outputs": [
        {
          "output_type": "stream",
          "name": "stdout",
          "text": [
            "1\n",
            "2\n",
            "3\n",
            "4\n",
            "5\n",
            "6\n",
            "7\n",
            "8\n",
            "9\n",
            "10\n"
          ]
        }
      ]
    },
    {
      "cell_type": "markdown",
      "source": [
        "# 3. Write a python script to print first 10 natural numbers in reverse order\n",
        "```py\n",
        "i=10\n",
        "while(i>=1):\n",
        "  print(i)\n",
        "  i-=1\n",
        "```\n"
      ],
      "metadata": {
        "id": "Drv5rLAVHkJf"
      }
    },
    {
      "cell_type": "code",
      "source": [
        "i=1\n",
        "while(i<=10):\n",
        "    print(11-i, end=' ')\n",
        "    i+=1"
      ],
      "metadata": {
        "colab": {
          "base_uri": "https://localhost:8080/"
        },
        "id": "zwwcSf2pHkWJ",
        "outputId": "3c038ef5-806d-4cec-cebe-0c7d41eb212d"
      },
      "execution_count": 45,
      "outputs": [
        {
          "output_type": "stream",
          "name": "stdout",
          "text": [
            "10 9 8 7 6 5 4 3 2 1 "
          ]
        }
      ]
    },
    {
      "cell_type": "markdown",
      "source": [
        "# 4. Write a python script to print first 10 odd natural numbers\n",
        "\n"
      ],
      "metadata": {
        "id": "osJbK5yIHkl1"
      }
    },
    {
      "cell_type": "code",
      "source": [
        "i,j=1,1\n",
        "while(i<=10):\n",
        "    if(j%2!=0):\n",
        "        print(j)\n",
        "        i+=1\n",
        "    j+=1"
      ],
      "metadata": {
        "colab": {
          "base_uri": "https://localhost:8080/"
        },
        "id": "yo2DnOKUHkyj",
        "outputId": "074ee4c9-f27d-4e80-ba66-95840015a20c"
      },
      "execution_count": 46,
      "outputs": [
        {
          "output_type": "stream",
          "name": "stdout",
          "text": [
            "1\n",
            "3\n",
            "5\n",
            "7\n",
            "9\n",
            "11\n",
            "13\n",
            "15\n",
            "17\n",
            "19\n"
          ]
        }
      ]
    },
    {
      "cell_type": "markdown",
      "source": [
        "# 5. Write a python script to print first 10 odd natural numbers in reverse order."
      ],
      "metadata": {
        "id": "Y7XMTw1FHk_T"
      }
    },
    {
      "cell_type": "code",
      "source": [
        "i,j=1,1\n",
        "lis=[]\n",
        "while(i<=10):\n",
        "    if(j%2!=0):\n",
        "        lis.append(j)\n",
        "        i+=1\n",
        "    j+=1\n",
        "lis.reverse()\n",
        "for i in lis:\n",
        "    print(i)"
      ],
      "metadata": {
        "colab": {
          "base_uri": "https://localhost:8080/"
        },
        "id": "pQkzPN8wHlNf",
        "outputId": "73f7ccf8-eb8a-42b3-9bbf-84a15ecf5125"
      },
      "execution_count": 47,
      "outputs": [
        {
          "output_type": "stream",
          "name": "stdout",
          "text": [
            "19\n",
            "17\n",
            "15\n",
            "13\n",
            "11\n",
            "9\n",
            "7\n",
            "5\n",
            "3\n",
            "1\n"
          ]
        }
      ]
    },
    {
      "cell_type": "markdown",
      "source": [
        "# 6. Write a python script to print first 10 even natural numbers\n",
        "\n"
      ],
      "metadata": {
        "id": "O7SWuPgHHliw"
      }
    },
    {
      "cell_type": "code",
      "source": [
        "i,j=1,1\n",
        "while(i<=10):\n",
        "    if(j%2==0):\n",
        "        print(j)\n",
        "        i+=1\n",
        "    j+=1"
      ],
      "metadata": {
        "colab": {
          "base_uri": "https://localhost:8080/"
        },
        "id": "ZHetMUSpHlum",
        "outputId": "182de995-88ff-445a-8530-34cf31ddcd18"
      },
      "execution_count": 48,
      "outputs": [
        {
          "output_type": "stream",
          "name": "stdout",
          "text": [
            "2\n",
            "4\n",
            "6\n",
            "8\n",
            "10\n",
            "12\n",
            "14\n",
            "16\n",
            "18\n",
            "20\n"
          ]
        }
      ]
    },
    {
      "cell_type": "markdown",
      "source": [
        "# 7. Write a python script to print first 10 even natural numbers in reverse order"
      ],
      "metadata": {
        "id": "ceGBLrBqHl55"
      }
    },
    {
      "cell_type": "code",
      "source": [
        "i,j=1,1\n",
        "lis=[]\n",
        "while(i<=10):\n",
        "    if(j%2==0):\n",
        "        lis.append(j)\n",
        "        i+=1\n",
        "    j+=1\n",
        "lis.reverse()\n",
        "for i in lis:\n",
        "    print(i)"
      ],
      "metadata": {
        "colab": {
          "base_uri": "https://localhost:8080/"
        },
        "id": "AY_Y6xI3HmFz",
        "outputId": "29437d2f-93ba-4052-b330-6be18698ad22"
      },
      "execution_count": 49,
      "outputs": [
        {
          "output_type": "stream",
          "name": "stdout",
          "text": [
            "20\n",
            "18\n",
            "16\n",
            "14\n",
            "12\n",
            "10\n",
            "8\n",
            "6\n",
            "4\n",
            "2\n"
          ]
        }
      ]
    },
    {
      "cell_type": "markdown",
      "source": [
        "# 8. Write a python script to print squares of first 10 natural numbers"
      ],
      "metadata": {
        "id": "jgDsWGWZHmRU"
      }
    },
    {
      "cell_type": "code",
      "source": [
        "i=1\n",
        "while(i<=10):\n",
        "    print(i*i)\n",
        "    i+=1"
      ],
      "metadata": {
        "colab": {
          "base_uri": "https://localhost:8080/"
        },
        "id": "0wHzeTIIHmds",
        "outputId": "2dcf2a97-d46e-45be-8a14-abe846b14b86"
      },
      "execution_count": 50,
      "outputs": [
        {
          "output_type": "stream",
          "name": "stdout",
          "text": [
            "1\n",
            "4\n",
            "9\n",
            "16\n",
            "25\n",
            "36\n",
            "49\n",
            "64\n",
            "81\n",
            "100\n"
          ]
        }
      ]
    },
    {
      "cell_type": "markdown",
      "source": [
        "# 9. Write a python script to print cubes of first 10 natural numbers\n"
      ],
      "metadata": {
        "id": "HQTgZGKXHmqq"
      }
    },
    {
      "cell_type": "code",
      "source": [
        "i=1\n",
        "while(i<=10):\n",
        "    print(i**3)\n",
        "    i+=1"
      ],
      "metadata": {
        "colab": {
          "base_uri": "https://localhost:8080/"
        },
        "id": "9jqQekNpHm2X",
        "outputId": "06f01bfe-0580-472b-d58a-9994e6b15060"
      },
      "execution_count": 51,
      "outputs": [
        {
          "output_type": "stream",
          "name": "stdout",
          "text": [
            "1\n",
            "8\n",
            "27\n",
            "64\n",
            "125\n",
            "216\n",
            "343\n",
            "512\n",
            "729\n",
            "1000\n"
          ]
        }
      ]
    },
    {
      "cell_type": "markdown",
      "source": [
        "# 10. Write a python script to print first 10 multiples of 5"
      ],
      "metadata": {
        "id": "_ukCI8vgHnBz"
      }
    },
    {
      "cell_type": "code",
      "source": [
        "i,j=1,1\n",
        "# while(i<=10):\n",
        "#     print(5*i)\n",
        "#     i+=1\n",
        "\n",
        "while(i<=10):\n",
        "    if(j%5==0):\n",
        "        print(j)\n",
        "        i+=1\n",
        "    j+=1"
      ],
      "metadata": {
        "colab": {
          "base_uri": "https://localhost:8080/"
        },
        "id": "mqfGQttnHnPU",
        "outputId": "2c5896f1-4d9e-4b33-e63f-dd74b55f5933"
      },
      "execution_count": 52,
      "outputs": [
        {
          "output_type": "stream",
          "name": "stdout",
          "text": [
            "5\n",
            "10\n",
            "15\n",
            "20\n",
            "25\n",
            "30\n",
            "35\n",
            "40\n",
            "45\n",
            "50\n"
          ]
        }
      ]
    }
  ]
}