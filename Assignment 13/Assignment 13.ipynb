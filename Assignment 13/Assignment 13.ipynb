{
  "nbformat": 4,
  "nbformat_minor": 0,
  "metadata": {
    "colab": {
      "provenance": []
    },
    "kernelspec": {
      "name": "python3",
      "display_name": "Python 3"
    },
    "language_info": {
      "name": "python"
    }
  },
  "cells": [
    {
      "cell_type": "markdown",
      "source": [
        "![image](https://user-images.githubusercontent.com/57321948/196933065-4b16c235-f3b9-4391-9cfe-4affcec87c35.png)\n",
        "\n",
        "\n",
        "# Name: **Mohammad Wasiq**\n",
        "## Email: **mohammadwasiq0786@gmail.com**\n",
        "### Assignment 13"
      ],
      "metadata": {
        "id": "ihQkV_KWHc20"
      }
    },
    {
      "cell_type": "markdown",
      "source": [
        "# 1. Write a python script to store multiple items in a single variable ( Items are “Java” ,“Python”, “SQL”, “C” ) using list."
      ],
      "metadata": {
        "id": "66GfrHMFSn-n"
      }
    },
    {
      "cell_type": "code",
      "source": [
        "lis=[]\n",
        "print(\"Enter the items : \")\n",
        "while True:\n",
        "    x=int(input(\"Press 1 to enter more and 0 to exit \"))\n",
        "    if x==1:\n",
        "        lis.append(input(\"item :\"))\n",
        "    else:\n",
        "        break\n",
        "    \n",
        "print(\"The items are : \",lis)"
      ],
      "metadata": {
        "colab": {
          "base_uri": "https://localhost:8080/"
        },
        "id": "GsvI48GrSoJg",
        "outputId": "4a566e31-59dc-4e62-8a64-e293be2a4a24"
      },
      "execution_count": 99,
      "outputs": [
        {
          "output_type": "stream",
          "name": "stdout",
          "text": [
            "Enter the items : \n",
            "Press 1 to enter more and 0 to exit 1\n",
            "item :“Java” ,“Python”\n",
            "Press 1 to enter more and 0 to exit 1\n",
            "item :“SQL”, “C”\n",
            "Press 1 to enter more and 0 to exit 0\n",
            "The items are :  ['“Java” ,“Python”', '“SQL”, “C”']\n"
          ]
        }
      ]
    },
    {
      "cell_type": "markdown",
      "source": [
        "# 2. Write a python script to get the data type of a list."
      ],
      "metadata": {
        "id": "Pjht517oSoUz"
      }
    },
    {
      "cell_type": "code",
      "source": [
        "lis= [1,2,3,4]\n",
        "print(\"The Data type of list are : \", type(lis))"
      ],
      "metadata": {
        "colab": {
          "base_uri": "https://localhost:8080/"
        },
        "id": "mHXMCsgHSowr",
        "outputId": "8b926b5b-72e3-48d2-9888-093af40a8e85"
      },
      "execution_count": 100,
      "outputs": [
        {
          "output_type": "stream",
          "name": "stdout",
          "text": [
            "The Data type of list are :  <class 'list'>\n"
          ]
        }
      ]
    },
    {
      "cell_type": "markdown",
      "source": [
        "# 3. Write a python script to get the last item of the list ( mylist = [\"Java\", \"C\", \"Python\"])"
      ],
      "metadata": {
        "id": "6cILRAk2So7I"
      }
    },
    {
      "cell_type": "code",
      "source": [
        "mylist=[\"Java\",\"C\",\"Python\"]\n",
        "\n",
        "# print(\"the last element of the list are : \",mylist.pop())\n",
        "print(\"the last element of the list are : \",mylist[-1])"
      ],
      "metadata": {
        "colab": {
          "base_uri": "https://localhost:8080/"
        },
        "id": "x1YmdVIiSpFo",
        "outputId": "e811bfcd-8db7-48bf-d76d-59457ce9838d"
      },
      "execution_count": 101,
      "outputs": [
        {
          "output_type": "stream",
          "name": "stdout",
          "text": [
            "the last element of the list are :  Python\n"
          ]
        }
      ]
    },
    {
      "cell_type": "markdown",
      "source": [
        "# 4. Write a python script to Change the values \"SQL\" and \"Reactnative\" with the values \"NoSQL\" and \"Flutter\" \n",
        "\n",
        "(List is thislist = [\"Java\", \"SQL\", \"C\", \"Reactnative\", \"Javascript\", \"Python\"]\n",
        "\n"
      ],
      "metadata": {
        "id": "P6H8g_s5SpcB"
      }
    },
    {
      "cell_type": "code",
      "source": [
        "thislist = [\"Java\", \"SQL\", \"C\", \"Reactnative\",\"Javascript\", \"Python\"]\n",
        "print(\"Initial list are : \",thislist)\n",
        "sql_index=thislist.index(\"SQL\")\n",
        "thislist[sql_index]=\"NoSQL\"\n",
        "react_index=thislist.index(\"Reactnative\")\n",
        "thislist[react_index]=\"Flutter\"\n",
        "print(\"List are : \",thislist)"
      ],
      "metadata": {
        "colab": {
          "base_uri": "https://localhost:8080/"
        },
        "id": "O9IuqOVvSpmg",
        "outputId": "6ea9816c-7c4c-43fb-dc05-f7bbd679e926"
      },
      "execution_count": 102,
      "outputs": [
        {
          "output_type": "stream",
          "name": "stdout",
          "text": [
            "Initial list are :  ['Java', 'SQL', 'C', 'Reactnative', 'Javascript', 'Python']\n",
            "List are :  ['Java', 'NoSQL', 'C', 'Flutter', 'Javascript', 'Python']\n"
          ]
        }
      ]
    },
    {
      "cell_type": "markdown",
      "source": [
        "# 5. Write a python script to add an item to the end of the list (item “Python”. (mylist = [\"Java\", \"SQL\", \"C\", \"Reactnative\"]"
      ],
      "metadata": {
        "id": "JLgrir9dSpyK"
      }
    },
    {
      "cell_type": "code",
      "source": [
        "mylist = [\"Java\", \"SQL\", \"C\", \"Reactnative\"]\n",
        "print(mylist)\n",
        "mylist.append(\"Python\")\n",
        "print(\"After the addition of item to the end list are : \")\n",
        "print(mylist)"
      ],
      "metadata": {
        "colab": {
          "base_uri": "https://localhost:8080/"
        },
        "id": "81XZl-srSuOr",
        "outputId": "520c001e-f61e-48a7-8f45-4d70650eec8f"
      },
      "execution_count": 103,
      "outputs": [
        {
          "output_type": "stream",
          "name": "stdout",
          "text": [
            "['Java', 'SQL', 'C', 'Reactnative']\n",
            "After the addition of item to the end list are : \n",
            "['Java', 'SQL', 'C', 'Reactnative', 'Python']\n"
          ]
        }
      ]
    },
    {
      "cell_type": "markdown",
      "source": [
        "# 6. Write a python program to append elements from another list to the current list.(\n",
        "\n",
        "```py\n",
        "firstlist = [\"Java\", \"Python\", \"SQL\"]\n",
        "secondlist = [\"C\", \"Cpp\", \"NoSQL\"] )\n",
        "```\n"
      ],
      "metadata": {
        "id": "UsFsXBPASqGa"
      }
    },
    {
      "cell_type": "code",
      "source": [
        "firstlist = [\"Java\", \"Python\", \"SQL\"]\n",
        "secondlist = [\"C\", \"Cpp\", \"NoSQL\"] \n",
        "\n",
        "print(\"First list are : \",firstlist)\n",
        "print(\"Second list are : \",secondlist)\n",
        "\n",
        "print(\"after the append of elements from one list to another list : \")\n",
        "for i in secondlist:\n",
        "    firstlist.append(i)\n",
        "print(firstlist)"
      ],
      "metadata": {
        "colab": {
          "base_uri": "https://localhost:8080/"
        },
        "id": "2HjiH6MiSqRG",
        "outputId": "1874ce46-b4f6-49a5-e5cf-383eec7b3293"
      },
      "execution_count": 104,
      "outputs": [
        {
          "output_type": "stream",
          "name": "stdout",
          "text": [
            "First list are :  ['Java', 'Python', 'SQL']\n",
            "Second list are :  ['C', 'Cpp', 'NoSQL']\n",
            "after the append of elements from one list to another list : \n",
            "['Java', 'Python', 'SQL', 'C', 'Cpp', 'NoSQL']\n"
          ]
        }
      ]
    },
    {
      "cell_type": "markdown",
      "source": [
        "# 7. Write a python program to Print all items by referring to their index number (thislist =\n",
        "# [\"Java\", \"SQL\", \"C\", \"Reactnative\", \"Javascript\", \"Python\"]\n",
        "\n",
        "```py\n",
        "import this\n",
        "\n",
        "thislist = [\"Java\", \"SQL\", \"C\", \"Reactnative\", \"Javascript\", \"Python\"]\n",
        "\n",
        "l=len(thislist)\n",
        "for i in range(l):\n",
        "    print(\"Index - \",i,\" value - \",thislist[i])\n",
        "```"
      ],
      "metadata": {
        "id": "uZxS84HTSqba"
      }
    },
    {
      "cell_type": "markdown",
      "source": [
        "# 8. Write a python program to sort the list alphanumerically – thislist = [\"Java\", \"SQL\", \"C\", \"Reactjs\", \"Javascript\", \"Python\"]\n",
        "\n"
      ],
      "metadata": {
        "id": "6mxoSjtnSqyE"
      }
    },
    {
      "cell_type": "code",
      "source": [
        "thislist = [\"Java\", \"SQL\",\"C\", \"Reactjs\", \"Javascript\", \"Python\"]\n",
        "print(\"Before sorting list are : \")\n",
        "print(thislist)\n",
        "\n",
        "thislist.sort()\n",
        "print(\"After sorting list are : \")\n",
        "print(thislist)"
      ],
      "metadata": {
        "colab": {
          "base_uri": "https://localhost:8080/"
        },
        "id": "npNCtAYQSq8z",
        "outputId": "3ba7fd86-7dd0-464c-bf8a-75bb78e96b41"
      },
      "execution_count": 106,
      "outputs": [
        {
          "output_type": "stream",
          "name": "stdout",
          "text": [
            "Before sorting list are : \n",
            "['Java', 'SQL', 'C', 'Reactjs', 'Javascript', 'Python']\n",
            "After sorting list are : \n",
            "['C', 'Java', 'Javascript', 'Python', 'Reactjs', 'SQL']\n"
          ]
        }
      ]
    },
    {
      "cell_type": "markdown",
      "source": [
        "# 9. Write a Python script to create a list of city names taken from the user."
      ],
      "metadata": {
        "id": "f3etDMWBSrGp"
      }
    },
    {
      "cell_type": "code",
      "source": [
        "lis=[]\n",
        "\n",
        "print(\"Enter the name of city :\")\n",
        "print(\"Press 0 to exit \")\n",
        "while True:\n",
        "    x=input()\n",
        "    if x!='0':\n",
        "        lis.append(x)\n",
        "    else:\n",
        "        break\n",
        "\n",
        "print(\"list of city are : \",lis)"
      ],
      "metadata": {
        "colab": {
          "base_uri": "https://localhost:8080/"
        },
        "id": "3fqMOpOESrRq",
        "outputId": "f3853511-08be-4ff5-d92e-b0cecdad7007"
      },
      "execution_count": 107,
      "outputs": [
        {
          "output_type": "stream",
          "name": "stdout",
          "text": [
            "Enter the name of city :\n",
            "Press 0 to exit \n",
            "Amroha\n",
            "Joya\n",
            "0\n",
            "list of city are :  ['Amroha', 'Joya']\n"
          ]
        }
      ]
    },
    {
      "cell_type": "markdown",
      "source": [
        "# 10. Write a Python script to create a list, where each element of the list is a digit of a given number."
      ],
      "metadata": {
        "id": "Bbu44k5ESrbr"
      }
    },
    {
      "cell_type": "code",
      "source": [
        "num= input(\"Enter the number : \")\n",
        "lis= [x for x in num]\n",
        "print(\"List of the elements of given number :  \", lis)"
      ],
      "metadata": {
        "colab": {
          "base_uri": "https://localhost:8080/"
        },
        "id": "ET5wyQYAStUf",
        "outputId": "224eb55c-9910-4cb4-f709-b295c99f5341"
      },
      "execution_count": 108,
      "outputs": [
        {
          "output_type": "stream",
          "name": "stdout",
          "text": [
            "Enter the number : 12, 13, 10\n",
            "List of the elements of given number :   ['1', '2', ',', ' ', '1', '3', ',', ' ', '1', '0']\n"
          ]
        }
      ]
    }
  ]
}