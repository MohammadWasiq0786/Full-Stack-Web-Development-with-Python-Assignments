{
  "nbformat": 4,
  "nbformat_minor": 0,
  "metadata": {
    "colab": {
      "provenance": []
    },
    "kernelspec": {
      "name": "python3",
      "display_name": "Python 3"
    },
    "language_info": {
      "name": "python"
    }
  },
  "cells": [
    {
      "cell_type": "markdown",
      "source": [
        "![image](https://user-images.githubusercontent.com/57321948/196933065-4b16c235-f3b9-4391-9cfe-4affcec87c35.png)\n",
        "\n",
        "\n",
        "# Name: **Mohammad Wasiq**\n",
        "## Email: **mohammadwasiq0786@gmail.com**\n",
        "### Assignment 3"
      ],
      "metadata": {
        "id": "U-um9vID2sir"
      }
    },
    {
      "cell_type": "markdown",
      "source": [
        "# 1. Write a python script to convert a number into str type.\n",
        "\n"
      ],
      "metadata": {
        "id": "Hc9jl6wJ9FXa"
      }
    },
    {
      "cell_type": "code",
      "source": [
        "num= int(input('Enter a number :'))\n",
        "print('Type of ',num,' : ', type(num))\n",
        "\n",
        "ss= str(num)\n",
        "print('After conersion from int to str type of ',ss,' :',type(ss))"
      ],
      "metadata": {
        "colab": {
          "base_uri": "https://localhost:8080/"
        },
        "id": "Oy0HVts69DAx",
        "outputId": "14b02ec0-a305-41ea-8db1-fc299cccc908"
      },
      "execution_count": 21,
      "outputs": [
        {
          "output_type": "stream",
          "name": "stdout",
          "text": [
            "Enter a number :12\n",
            "Type of  12  :  <class 'int'>\n",
            "After conersion from int to str type of  12  : <class 'str'>\n"
          ]
        }
      ]
    },
    {
      "cell_type": "markdown",
      "source": [
        "# 2. Write a python script to print Unicode of the character ‘m’\n",
        "\n"
      ],
      "metadata": {
        "id": "ra2wDCv69GTJ"
      }
    },
    {
      "cell_type": "code",
      "source": [
        "print('Unicode of m is :', ord('m'))"
      ],
      "metadata": {
        "colab": {
          "base_uri": "https://localhost:8080/"
        },
        "id": "o1otriWW9GhN",
        "outputId": "5bdd8b18-8f79-4bc0-92a9-40d8f07ecdd2"
      },
      "execution_count": 22,
      "outputs": [
        {
          "output_type": "stream",
          "name": "stdout",
          "text": [
            "Unicode of m is : 109\n"
          ]
        }
      ]
    },
    {
      "cell_type": "markdown",
      "source": [
        "# 3. Write a python script to print character representation of a given unicode 100.\n",
        "\n"
      ],
      "metadata": {
        "id": "KXZuW48E9Gtk"
      }
    },
    {
      "cell_type": "code",
      "source": [
        "print('The character representation of the unicode 100 are :', end='')\n",
        "print(chr(100))"
      ],
      "metadata": {
        "colab": {
          "base_uri": "https://localhost:8080/"
        },
        "id": "-AuxxR4g9G7d",
        "outputId": "39e5fc6e-c5db-471d-c6ca-8c586f10fb41"
      },
      "execution_count": 23,
      "outputs": [
        {
          "output_type": "stream",
          "name": "stdout",
          "text": [
            "The character representation of the unicode 100 are :d\n"
          ]
        }
      ]
    },
    {
      "cell_type": "markdown",
      "source": [
        "# 4. Write a python script to print any number and its binary equivalent.\n",
        "\n"
      ],
      "metadata": {
        "id": "SpNleHTa9HH8"
      }
    },
    {
      "cell_type": "code",
      "source": [
        "num= int(input('Enter a number :'))\n",
        "x= num\n",
        "result= 0\n",
        "lis= []\n",
        "while x!=0:\n",
        "    r= x%2\n",
        "    lis.append(r)\n",
        "    x= x//2\n",
        "\n",
        "lis.reverse()\n",
        "bin=0\n",
        "for i in lis:\n",
        "    bin=bin*10+i\n",
        "\n",
        "print('The binary of the ',num,' are : ',bin)"
      ],
      "metadata": {
        "colab": {
          "base_uri": "https://localhost:8080/"
        },
        "id": "q1DxrA0a9HSr",
        "outputId": "5f084e31-8198-464e-cf88-e98495af163b"
      },
      "execution_count": 24,
      "outputs": [
        {
          "output_type": "stream",
          "name": "stdout",
          "text": [
            "Enter a number :6\n",
            "The binary of the  6  are :  110\n"
          ]
        }
      ]
    },
    {
      "cell_type": "markdown",
      "source": [
        "# 5. Write a python script to print any number and its octal equivalent.\n",
        "\n"
      ],
      "metadata": {
        "id": "wwE4MKDI9HgL"
      }
    },
    {
      "cell_type": "code",
      "source": [
        "num= int(input(\"Enter the num :\"))\n",
        "x=y= num\n",
        "lis= []\n",
        "while x!=0:\n",
        "    r= x%2\n",
        "    lis.append(r)\n",
        "    x= x//2\n",
        "\n",
        "lis.reverse()\n",
        "bin= 0\n",
        "for i in lis:\n",
        "    bin= bin*10+i\n",
        "\n",
        "print('The binary of the ',num,' are : ', bin)\n",
        "\n",
        "oct= []\n",
        "count= len(lis)\n",
        "\n",
        "while y!=0:\n",
        "    r= y%8\n",
        "    oct.append(r)\n",
        "    y= y//8\n",
        "\n",
        "\n",
        "oct.reverse()\n",
        "octal=0\n",
        "for i in oct:\n",
        "    octal=octal*10+i\n",
        "print('Octal number of ',num,\" is : \", octal)"
      ],
      "metadata": {
        "colab": {
          "base_uri": "https://localhost:8080/"
        },
        "id": "f-gO65RL9H6K",
        "outputId": "1e5ad9fe-09d8-4121-e507-28cc91fde2e8"
      },
      "execution_count": 25,
      "outputs": [
        {
          "output_type": "stream",
          "name": "stdout",
          "text": [
            "Enter the num :6\n",
            "The binary of the  6  are :  110\n",
            "Octal number of  6  is :  6\n"
          ]
        }
      ]
    },
    {
      "cell_type": "markdown",
      "source": [
        "# 6. Write a python script to print any number and its hexadecimal equivalent.\n",
        "\n"
      ],
      "metadata": {
        "id": "jX0VcKPK9IGb"
      }
    },
    {
      "cell_type": "code",
      "source": [
        "num= int(input(\"Enter the number :\"))\n",
        "x= num\n",
        "print(\"The hexadecimal of \",num,\" is :\", hex(num))"
      ],
      "metadata": {
        "colab": {
          "base_uri": "https://localhost:8080/"
        },
        "id": "H1fxXq0B9ISr",
        "outputId": "5d50ad48-ca4c-4a22-dfac-e9f9adbfdc3f"
      },
      "execution_count": 26,
      "outputs": [
        {
          "output_type": "stream",
          "name": "stdout",
          "text": [
            "Enter the number :6\n",
            "The hexadecimal of  6  is : 0x6\n"
          ]
        }
      ]
    },
    {
      "cell_type": "markdown",
      "source": [
        "# 7. Write a python script to store binary number 1100101 in a variable and print it in decimal format.\n",
        "\n"
      ],
      "metadata": {
        "id": "YRmmp40Q9IfM"
      }
    },
    {
      "cell_type": "code",
      "source": [
        "x= 0b1100101\n",
        "print('The decimal number are :', x)"
      ],
      "metadata": {
        "colab": {
          "base_uri": "https://localhost:8080/"
        },
        "id": "c4xaCbbZ9Itz",
        "outputId": "081a723b-1469-4610-9772-69788f04349a"
      },
      "execution_count": 27,
      "outputs": [
        {
          "output_type": "stream",
          "name": "stdout",
          "text": [
            "The decimal number are : 101\n"
          ]
        }
      ]
    },
    {
      "cell_type": "markdown",
      "source": [
        "# 8. Write a python script to store a hexadecimal number 2F in a variable and print it in octal format.\n",
        "\n",
        "```py\n",
        "x= 0x2f\n",
        "print('The octal number are :', oct(x))\n",
        "```"
      ],
      "metadata": {
        "id": "nxA0PXYI9I7E"
      }
    },
    {
      "cell_type": "markdown",
      "source": [
        "# 9. Write a python script to store an octal number 125 in a variable and print it in binary format.\n",
        "\n",
        "```py\n",
        "x= 0o125\n",
        "print('the binary number are :', bin(x))\n",
        "```\n",
        "\n",
        "# 10. Write a python script to add two numbers 25 (in octal) and 39 (in hexadecimal) and display the result in binary format.\n",
        "\n",
        "```py\n",
        "print(bin(0o25)+bin(0x39))\n",
        "```"
      ],
      "metadata": {
        "id": "IoC871a29JUB"
      }
    }
  ]
}