{
  "nbformat": 4,
  "nbformat_minor": 0,
  "metadata": {
    "colab": {
      "provenance": []
    },
    "kernelspec": {
      "name": "python3",
      "display_name": "Python 3"
    },
    "language_info": {
      "name": "python"
    }
  },
  "cells": [
    {
      "cell_type": "markdown",
      "source": [
        "![image](https://user-images.githubusercontent.com/57321948/196933065-4b16c235-f3b9-4391-9cfe-4affcec87c35.png)\n",
        "\n",
        "\n",
        "# Name: **Mohammad Wasiq**\n",
        "## Email: **mohammadwasiq0786@gmail.com**\n",
        "### Assignment 11"
      ],
      "metadata": {
        "id": "ihQkV_KWHc20"
      }
    },
    {
      "cell_type": "markdown",
      "source": [
        "# 1. Write a python script to calculate sum of first N natural numbers"
      ],
      "metadata": {
        "id": "kYrTPEL6OGxE"
      }
    },
    {
      "cell_type": "code",
      "source": [
        "n=int(input(\"Enter the number : \"))\n",
        "s=0\n",
        "for i in range(1,n+1):\n",
        "    s+=i\n",
        "print(\"sum of first \",n,\" natural numbers are : \",s)"
      ],
      "metadata": {
        "colab": {
          "base_uri": "https://localhost:8080/"
        },
        "id": "yw8GafwpOG97",
        "outputId": "a8401128-49ce-4d2f-8e43-ce26e89fc981"
      },
      "execution_count": 75,
      "outputs": [
        {
          "output_type": "stream",
          "name": "stdout",
          "text": [
            "Enter the number : 6\n",
            "sum of first  6  natural numbers are :  21\n"
          ]
        }
      ]
    },
    {
      "cell_type": "markdown",
      "source": [
        "# 2. Write a python script to calculate sum of squares of first N natural numbers"
      ],
      "metadata": {
        "id": "EHHrsKggOHKJ"
      }
    },
    {
      "cell_type": "code",
      "source": [
        "n=int(input(\"Enter the number : \"))\n",
        "s=0\n",
        "for i in range(1, n+1):\n",
        "    s+=i**2\n",
        "print(\"Sum of sqaure of first \",n,\" natural numbers are : \",s)"
      ],
      "metadata": {
        "colab": {
          "base_uri": "https://localhost:8080/"
        },
        "id": "BCJFR37wOHVs",
        "outputId": "ff81bbd6-521b-4dd9-fb4a-1a2fbefd434b"
      },
      "execution_count": 76,
      "outputs": [
        {
          "output_type": "stream",
          "name": "stdout",
          "text": [
            "Enter the number : 6\n",
            "Sum of sqaure of first  6  natural numbers are :  91\n"
          ]
        }
      ]
    },
    {
      "cell_type": "markdown",
      "source": [
        "# 3. Write a python script to calculate sum of cubes of first N natural numbers\n"
      ],
      "metadata": {
        "id": "pXeEb5__OHgN"
      }
    },
    {
      "cell_type": "code",
      "source": [
        "n=int(input(\"Enter the number : \"))\n",
        "s=0\n",
        "for i in range(1,n+1):\n",
        "    s+=i**3\n",
        "print(\"Sum of cube of first \",n,\" natural numbers are : \",s)"
      ],
      "metadata": {
        "colab": {
          "base_uri": "https://localhost:8080/"
        },
        "id": "NHQucYjcOHrq",
        "outputId": "873f485f-6078-418b-cf7b-2b3f04569628"
      },
      "execution_count": 77,
      "outputs": [
        {
          "output_type": "stream",
          "name": "stdout",
          "text": [
            "Enter the number : 6\n",
            "Sum of cube of first  6  natural numbers are :  441\n"
          ]
        }
      ]
    },
    {
      "cell_type": "markdown",
      "source": [
        "# 4. Write a python script to calculate sum of first N odd natural numbers\n"
      ],
      "metadata": {
        "id": "3PIJz7KvOH23"
      }
    },
    {
      "cell_type": "code",
      "source": [
        "n=int(input(\"Enter the number : \"))\n",
        "s=0\n",
        "for i in range(2*n-1,0,-2):\n",
        "    s+=i\n",
        "print(\"sum of first \",n,\" odd natural numbers are : \",s)"
      ],
      "metadata": {
        "colab": {
          "base_uri": "https://localhost:8080/"
        },
        "id": "vguTcopQOICS",
        "outputId": "d1f402f5-f6df-4a4b-9fb5-1c74f7a53d72"
      },
      "execution_count": 78,
      "outputs": [
        {
          "output_type": "stream",
          "name": "stdout",
          "text": [
            "Enter the number : 6\n",
            "sum of first  6  odd natural numbers are :  36\n"
          ]
        }
      ]
    },
    {
      "cell_type": "markdown",
      "source": [
        "# 5. Write a python script to calculate sum of first N even natural numbers\n"
      ],
      "metadata": {
        "id": "f0LvEOJEOINv"
      }
    },
    {
      "cell_type": "code",
      "source": [
        "n=int(input(\"Enter the number : \"))\n",
        "s=0\n",
        "for i in range(2*n,0,-2):\n",
        "    s+=i\n",
        "print(\"sum of first \",n,\" even natural numbers are : \",s)"
      ],
      "metadata": {
        "colab": {
          "base_uri": "https://localhost:8080/"
        },
        "id": "OF2Fx6SlOIZO",
        "outputId": "fbad7fb3-900c-4601-f707-bd7d0e14ac52"
      },
      "execution_count": 79,
      "outputs": [
        {
          "output_type": "stream",
          "name": "stdout",
          "text": [
            "Enter the number : 6\n",
            "sum of first  6  even natural numbers are :  42\n"
          ]
        }
      ]
    },
    {
      "cell_type": "markdown",
      "source": [
        "# 6. Write a python script to calculate factorial of a given number."
      ],
      "metadata": {
        "id": "QWKIy6J2OIkG"
      }
    },
    {
      "cell_type": "code",
      "source": [
        "from re import I\n",
        "\n",
        "n=int(input(\"Enter the number that factorial you want to calculate : \"))\n",
        "f=1\n",
        "for i in range(1,n+1):\n",
        "    f*=i\n",
        "print(\"factorial of \",n,\" are : \",f)"
      ],
      "metadata": {
        "colab": {
          "base_uri": "https://localhost:8080/"
        },
        "id": "aQwhzzQ5OIur",
        "outputId": "daf2ba84-f187-4c52-e574-c0bb36939129"
      },
      "execution_count": 80,
      "outputs": [
        {
          "output_type": "stream",
          "name": "stdout",
          "text": [
            "Enter the number that factorial you want to calculate : 5\n",
            "factorial of  5  are :  120\n"
          ]
        }
      ]
    },
    {
      "cell_type": "markdown",
      "source": [
        "\n",
        "# 7. Write a python script to count digits in a given number\n"
      ],
      "metadata": {
        "id": "5pnsqqWmOI5b"
      }
    },
    {
      "cell_type": "code",
      "source": [
        "n=int(input(\"Enter the number : \"))\n",
        "j=0\n",
        "\n",
        "while n:\n",
        "    j+=1\n",
        "    n=n//10\n",
        "print(\"total numbers of digits in given number are : \",j)"
      ],
      "metadata": {
        "colab": {
          "base_uri": "https://localhost:8080/"
        },
        "id": "H7MYb1-FOJEY",
        "outputId": "c7056ea3-ac5b-4ea3-df5c-590cb673150e"
      },
      "execution_count": 81,
      "outputs": [
        {
          "output_type": "stream",
          "name": "stdout",
          "text": [
            "Enter the number : 20\n",
            "total numbers of digits in given number are :  2\n"
          ]
        }
      ]
    },
    {
      "cell_type": "markdown",
      "source": [
        "# 8. Write a python script to calculate sum of digits of a given number\n"
      ],
      "metadata": {
        "id": "kQtQVqovOJPH"
      }
    },
    {
      "cell_type": "code",
      "source": [
        "n=int(input(\"Enter the number : \"))\n",
        "s=0\n",
        "while n:\n",
        "    s+=n%10\n",
        "    n=n//10\n",
        "print(\"sum of digits of a given number : \",s)"
      ],
      "metadata": {
        "colab": {
          "base_uri": "https://localhost:8080/"
        },
        "id": "o5hJwn6sOJnc",
        "outputId": "33082f26-62fc-44b0-a9ad-b0fc7f5c107a"
      },
      "execution_count": 82,
      "outputs": [
        {
          "output_type": "stream",
          "name": "stdout",
          "text": [
            "Enter the number : 6\n",
            "sum of digits of a given number :  6\n"
          ]
        }
      ]
    },
    {
      "cell_type": "markdown",
      "source": [
        "# 9. Write a python script to print binary equivalent of a given decimal number. (do not use bin() method)\n",
        "\n"
      ],
      "metadata": {
        "id": "b--COIbROJy5"
      }
    },
    {
      "cell_type": "code",
      "source": [
        "n= int(input(\"Enter the decimal number : \"))\n",
        "x=n\n",
        "lis=[]\n",
        "while n:\n",
        "    r=n%2\n",
        "    lis.append(r)\n",
        "    n=n//2\n",
        "lis.reverse()\n",
        "s=0\n",
        "for i in lis:\n",
        "    s=i+s*10\n",
        "\n",
        "print(\"The binary of the \",x,\" are : \",s)"
      ],
      "metadata": {
        "colab": {
          "base_uri": "https://localhost:8080/"
        },
        "id": "-dNKg-9wOJ_X",
        "outputId": "403a9310-c739-43cf-a216-5d49eab148aa"
      },
      "execution_count": 86,
      "outputs": [
        {
          "output_type": "stream",
          "name": "stdout",
          "text": [
            "Enter the decimal number : 6\n",
            "The binary of the  6  are :  110\n"
          ]
        }
      ]
    },
    {
      "cell_type": "markdown",
      "source": [
        "# 10. Write a python script to print the octal equivalent of a given decimal number. (do not use oct() method)."
      ],
      "metadata": {
        "id": "FI3siFApOKKF"
      }
    },
    {
      "cell_type": "code",
      "source": [
        "n= int(input(\"Enter the number : \"))\n",
        "x=n\n",
        "lis=[]\n",
        "while n:\n",
        "    r=n%8\n",
        "    lis.append(r)\n",
        "    n=n//8\n",
        "lis.reverse()\n",
        "s=0\n",
        "for i in lis:\n",
        "    s=i+s*10\n",
        "\n",
        "print(\"The octal equivalent of \",x,\" decimal number are : \",s)"
      ],
      "metadata": {
        "colab": {
          "base_uri": "https://localhost:8080/"
        },
        "id": "VUdMUIwVOKVn",
        "outputId": "fce3a95d-2e6d-4c4b-91e1-dea1862443cf"
      },
      "execution_count": 87,
      "outputs": [
        {
          "output_type": "stream",
          "name": "stdout",
          "text": [
            "Enter the number : 6\n",
            "The octal equivalent of  6  decimal number are :  6\n"
          ]
        }
      ]
    }
  ]
}