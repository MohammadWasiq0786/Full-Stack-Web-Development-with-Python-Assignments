{
 "cells": [
  {
   "cell_type": "markdown",
   "id": "72d44e71",
   "metadata": {},
   "source": [
    "![image](https://user-images.githubusercontent.com/57321948/196933065-4b16c235-f3b9-4391-9cfe-4affcec87c35.png)\n",
    "\n",
    "# Name: Mohammad Wasiq\n",
    "## Email: mohammadwasiq0786@gmail.com\n",
    "### Assignment 18"
   ]
  },
  {
   "cell_type": "markdown",
   "id": "eebb825b",
   "metadata": {},
   "source": [
    "# 1. Write a python program to create and print a dictionary which stores your information. (name, age, gender …..)"
   ]
  },
  {
   "cell_type": "code",
   "execution_count": 1,
   "id": "50243575",
   "metadata": {
    "ExecuteTime": {
     "end_time": "2023-02-22T18:40:23.065266Z",
     "start_time": "2023-02-22T18:40:23.056290Z"
    }
   },
   "outputs": [
    {
     "name": "stdout",
     "output_type": "stream",
     "text": [
      "Dictionary are :  {'name': 'Wasiq', 'age': 22, 'gender': 'Male', 'state': 'U.P'}\n"
     ]
    }
   ],
   "source": [
    "dic= {'name':\"Wasiq\",'age':22,'gender':\"Male\",'state':\"U.P\"}\n",
    "print(\"Dictionary are : \",dic)"
   ]
  },
  {
   "cell_type": "markdown",
   "id": "7e1e5577",
   "metadata": {},
   "source": [
    "# 2. Write a python program to get the key of lowest value from the dictionary.\n",
    "## `sample_dict = {'C': 92, 'Java': 66, 'Python': 85}`"
   ]
  },
  {
   "cell_type": "code",
   "execution_count": 2,
   "id": "cb2321f1",
   "metadata": {
    "ExecuteTime": {
     "end_time": "2023-02-22T18:40:48.813616Z",
     "start_time": "2023-02-22T18:40:48.800651Z"
    }
   },
   "outputs": [
    {
     "name": "stdout",
     "output_type": "stream",
     "text": [
      "The key of lowest value from dictionary are :  Java\n"
     ]
    }
   ],
   "source": [
    "sample_dict = {\n",
    "'C': 92,\n",
    "'Java': 66,\n",
    "'Python': 85,\n",
    "}\n",
    "\n",
    "m=min(sample_dict.values())\n",
    "for key,value in sample_dict.items():\n",
    "    if m==value:\n",
    "        print(\"The key of lowest value from dictionary are : \",key)\n",
    "        break"
   ]
  },
  {
   "cell_type": "markdown",
   "id": "2171314b",
   "metadata": {},
   "source": [
    "# 3. Write a python program to get a list of the values from a dictionary."
   ]
  },
  {
   "cell_type": "code",
   "execution_count": 3,
   "id": "bfbb9d2f",
   "metadata": {
    "ExecuteTime": {
     "end_time": "2023-02-22T18:41:25.068508Z",
     "start_time": "2023-02-22T18:41:25.060529Z"
    }
   },
   "outputs": [
    {
     "name": "stdout",
     "output_type": "stream",
     "text": [
      "List of the values from a dictionary : \n",
      "['Wasiq', 22, 'Male', 'U.P']\n"
     ]
    }
   ],
   "source": [
    "dic={'name':\"Wasiq\",'age':22,'gender':\"Male\",'state':\"U.P\"}\n",
    "\n",
    "lis=[i for i in dic.values()]\n",
    "print(\"List of the values from a dictionary : \")\n",
    "print(lis)"
   ]
  },
  {
   "cell_type": "markdown",
   "id": "e687dd94",
   "metadata": {},
   "source": [
    "# 4. Write a python program to change the value of a specific item by referring to its key name.\n",
    "\n"
   ]
  },
  {
   "cell_type": "code",
   "execution_count": 4,
   "id": "a65eec2e",
   "metadata": {
    "ExecuteTime": {
     "end_time": "2023-02-22T18:42:14.052723Z",
     "start_time": "2023-02-22T18:42:14.039761Z"
    }
   },
   "outputs": [
    {
     "name": "stdout",
     "output_type": "stream",
     "text": [
      "dictionary are : \n",
      "{'name': 'Wasiq', 'age': 22, 'gender': 'Male', 'state': 'U.P'}\n",
      "Dictionary after the change of value of sepecific item  : \n",
      "Updated dictionary are : \n",
      "{'name': 'Wasiq', 'age': 22, 'gender': 'Male', 'state': 'Hyderabad'}\n"
     ]
    }
   ],
   "source": [
    "dic={'name':\"Wasiq\",'age':22,'gender':\"Male\",'state':\"U.P\"}\n",
    "print(\"dictionary are : \")\n",
    "print(dic)\n",
    "dic['state']=\"Hyderabad\"\n",
    "print(\"Dictionary after the change of value of sepecific item  : \")\n",
    "print(\"Updated dictionary are : \")\n",
    "print(dic)"
   ]
  },
  {
   "cell_type": "markdown",
   "id": "758853f3",
   "metadata": {},
   "source": [
    "# 5. Write a python program to print all key names in the dictionary, one by one.\n"
   ]
  },
  {
   "cell_type": "code",
   "execution_count": 5,
   "id": "07d3dd38",
   "metadata": {
    "ExecuteTime": {
     "end_time": "2023-02-22T18:42:40.868284Z",
     "start_time": "2023-02-22T18:42:40.847338Z"
    }
   },
   "outputs": [
    {
     "name": "stdout",
     "output_type": "stream",
     "text": [
      "the key names in the dictionary are : \n",
      "name\n",
      "age\n",
      "gender\n",
      "state\n"
     ]
    }
   ],
   "source": [
    "dic={'name':\"Wasiq\",'age':22,'gender':\"Male\",'state':\"U.P\"}\n",
    "print(\"the key names in the dictionary are : \")\n",
    "for i in dic.keys():\n",
    "    print(i)"
   ]
  },
  {
   "cell_type": "markdown",
   "id": "53362e9d",
   "metadata": {},
   "source": [
    "# 6. Write a python program to create a dictionary that contains three dictionaries. (nested)\n"
   ]
  },
  {
   "cell_type": "code",
   "execution_count": 6,
   "id": "8abe2eff",
   "metadata": {
    "ExecuteTime": {
     "end_time": "2023-02-22T18:43:03.838015Z",
     "start_time": "2023-02-22T18:43:03.829039Z"
    }
   },
   "outputs": [
    {
     "name": "stdout",
     "output_type": "stream",
     "text": [
      "Nested dictionary are : \n",
      "{'about_person': {'name': 'Wasiq', 'age': 22, 'gender': 'male'}, 'about_job': {'company': 'Google', 'status': 'CEO', 'salary': '10000000000000$'}, 'family_details': {'father_name': 'Gauhar Ali', 'mother_name': 'Firoza Khatoon'}}\n"
     ]
    }
   ],
   "source": [
    "dic= {'about_person':{'name':'Wasiq', 'age':22, 'gender':'male'},\n",
    "'about_job':{'company':'Google', 'status':'CEO', 'salary':'10000000000000$'},\n",
    "'family_details':{'father_name':'Gauhar Ali', 'mother_name':'Firoza Khatoon'}}\n",
    "\n",
    "print(\"Nested dictionary are : \")\n",
    "print(dic)"
   ]
  },
  {
   "cell_type": "markdown",
   "id": "9abfc110",
   "metadata": {},
   "source": [
    "# 7. Write a python program to create three dictionaries, then create one dictionary that will contain the other three dictionaries."
   ]
  },
  {
   "cell_type": "code",
   "execution_count": 7,
   "id": "55d98136",
   "metadata": {
    "ExecuteTime": {
     "end_time": "2023-02-22T18:43:35.601824Z",
     "start_time": "2023-02-22T18:43:35.587863Z"
    }
   },
   "outputs": [
    {
     "name": "stdout",
     "output_type": "stream",
     "text": [
      "{1: {'name': 'Wasiq', 'age': 22, 'gender': 'male'}, 2: {'company': 'Google', 'status': 'CEO', 'salary': '10000000000$'}, 3: {'father_name': 'Gauhar Ali', 'mother_name': 'Firoza Khatoon'}}\n"
     ]
    }
   ],
   "source": [
    "about_person={'name':'Wasiq', 'age':22, 'gender':'male'}\n",
    "about_job={'company':'Google', 'status':'CEO', 'salary':'10000000000$'}\n",
    "family_details={'father_name':'Gauhar Ali', 'mother_name':'Firoza Khatoon'}\n",
    "\n",
    "dic={1:about_person,2:about_job,3:family_details}\n",
    "print(dic)"
   ]
  },
  {
   "cell_type": "markdown",
   "id": "023e5ec1",
   "metadata": {},
   "source": [
    "# 8. Write a python program to convert two lists into a dictionary in a way that item from\n",
    "## list1 is the key and item from list2 is the value.\n"
   ]
  },
  {
   "cell_type": "code",
   "execution_count": 8,
   "id": "3ef0de5b",
   "metadata": {
    "ExecuteTime": {
     "end_time": "2023-02-22T18:44:03.165756Z",
     "start_time": "2023-02-22T18:44:03.152791Z"
    }
   },
   "outputs": [
    {
     "name": "stdout",
     "output_type": "stream",
     "text": [
      "{'a': 'apple', 'b': 'ball', 'c': 'cat', 'd': 'dog'}\n"
     ]
    }
   ],
   "source": [
    "lis1=['a','b','c','d']\n",
    "lis2=['apple','ball','cat','dog']\n",
    "\n",
    "dic={i : j for (i,j) in zip(lis1,lis2) }\n",
    "print(dic)"
   ]
  },
  {
   "cell_type": "markdown",
   "id": "0ad74b0b",
   "metadata": {},
   "source": [
    "# 9. Write a python program to merge two python dictionaries into one dictionary\n",
    "\n",
    "```py\n",
    "\n",
    "def merge(dic1,dic2):\n",
    "    res={**dic1,**dic2}\n",
    "    return res\n",
    "\n",
    "dic=merge(about_person,about_job)\n",
    "```"
   ]
  },
  {
   "cell_type": "code",
   "execution_count": 9,
   "id": "3fa4e983",
   "metadata": {
    "ExecuteTime": {
     "end_time": "2023-02-22T18:45:09.268424Z",
     "start_time": "2023-02-22T18:45:09.250471Z"
    }
   },
   "outputs": [
    {
     "name": "stdout",
     "output_type": "stream",
     "text": [
      "After merging dictionary are :  \n",
      "{'name': 'Wasiq', 'age': 22, 'gender': 'male', 'company': 'Google', 'status': 'CEO', 'salary': '10000000000$'}\n"
     ]
    }
   ],
   "source": [
    "from heapq import merge\n",
    "\n",
    "about_person={'name':'Wasiq', 'age':22, 'gender':'male'}\n",
    "about_job={'company':'Google', 'status':'CEO', 'salary':'10000000000$'}\n",
    "\n",
    "about_person.update(about_job)\n",
    "print(\"After merging dictionary are :  \")\n",
    "print(about_person)"
   ]
  },
  {
   "cell_type": "markdown",
   "id": "4da80888",
   "metadata": {},
   "source": [
    "# 10.1 Write a python program to get the key of lowest value from the dictionary.\n",
    "## `sample_dict = {'C': 92, 'Java': 66, 'Python': 85}`"
   ]
  },
  {
   "cell_type": "code",
   "execution_count": 10,
   "id": "7f8dd583",
   "metadata": {
    "ExecuteTime": {
     "end_time": "2023-02-22T18:46:36.468324Z",
     "start_time": "2023-02-22T18:46:36.449368Z"
    }
   },
   "outputs": [
    {
     "name": "stdout",
     "output_type": "stream",
     "text": [
      "The key of lowest value from dictionary are :  Java\n"
     ]
    }
   ],
   "source": [
    "sample_dict = {\n",
    "'C': 92,\n",
    "'Java': 66,\n",
    "'Python': 85,\n",
    "}\n",
    "\n",
    "m=min(sample_dict.values())\n",
    "for key,value in sample_dict.items():\n",
    "    if m==value:\n",
    "        print(\"The key of lowest value from dictionary are : \",key)\n",
    "        break"
   ]
  },
  {
   "cell_type": "markdown",
   "id": "b8abc855",
   "metadata": {},
   "source": [
    "# 11. Write a python program to find the maximum and minimum value in a set."
   ]
  },
  {
   "cell_type": "code",
   "execution_count": 11,
   "id": "ce4b8ddc",
   "metadata": {
    "ExecuteTime": {
     "end_time": "2023-02-22T18:47:00.464743Z",
     "start_time": "2023-02-22T18:47:00.456764Z"
    }
   },
   "outputs": [
    {
     "name": "stdout",
     "output_type": "stream",
     "text": [
      "maximum element in the given set are :  7\n",
      "minimum element in the given set are :  1\n"
     ]
    }
   ],
   "source": [
    "s={1,2,3,4,5,6,7}\n",
    "print(\"maximum element in the given set are : \",max(s))\n",
    "print(\"minimum element in the given set are : \",min(s))"
   ]
  }
 ],
 "metadata": {
  "kernelspec": {
   "display_name": "Python 3 (ipykernel)",
   "language": "python",
   "name": "python3"
  },
  "language_info": {
   "codemirror_mode": {
    "name": "ipython",
    "version": 3
   },
   "file_extension": ".py",
   "mimetype": "text/x-python",
   "name": "python",
   "nbconvert_exporter": "python",
   "pygments_lexer": "ipython3",
   "version": "3.9.12"
  },
  "latex_envs": {
   "LaTeX_envs_menu_present": true,
   "autoclose": false,
   "autocomplete": true,
   "bibliofile": "biblio.bib",
   "cite_by": "apalike",
   "current_citInitial": 1,
   "eqLabelWithNumbers": true,
   "eqNumInitial": 1,
   "hotkeys": {
    "equation": "Ctrl-E",
    "itemize": "Ctrl-I"
   },
   "labels_anchors": false,
   "latex_user_defs": false,
   "report_style_numbering": false,
   "user_envs_cfg": false
  },
  "nbTranslate": {
   "displayLangs": [
    "*"
   ],
   "hotkey": "alt-t",
   "langInMainMenu": true,
   "sourceLang": "en",
   "targetLang": "fr",
   "useGoogleTranslate": true
  },
  "toc": {
   "base_numbering": 1,
   "nav_menu": {},
   "number_sections": true,
   "sideBar": true,
   "skip_h1_title": false,
   "title_cell": "Table of Contents",
   "title_sidebar": "Contents",
   "toc_cell": false,
   "toc_position": {},
   "toc_section_display": true,
   "toc_window_display": false
  },
  "varInspector": {
   "cols": {
    "lenName": 16,
    "lenType": 16,
    "lenVar": 40
   },
   "kernels_config": {
    "python": {
     "delete_cmd_postfix": "",
     "delete_cmd_prefix": "del ",
     "library": "var_list.py",
     "varRefreshCmd": "print(var_dic_list())"
    },
    "r": {
     "delete_cmd_postfix": ") ",
     "delete_cmd_prefix": "rm(",
     "library": "var_list.r",
     "varRefreshCmd": "cat(var_dic_list()) "
    }
   },
   "types_to_exclude": [
    "module",
    "function",
    "builtin_function_or_method",
    "instance",
    "_Feature"
   ],
   "window_display": false
  }
 },
 "nbformat": 4,
 "nbformat_minor": 5
}
